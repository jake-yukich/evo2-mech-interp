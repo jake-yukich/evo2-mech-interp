{
 "cells": [
  {
   "cell_type": "markdown",
   "id": "63ff7080-1c4e-4f33-be91-053910694a4d",
   "metadata": {},
   "source": [
    "# Evo 2 Mech Interp Example Notebook\n",
    "### 25.06.05\n",
    "\n",
    "Minimal example of extracting features for an *E. coli* genome chunk and plotting to recreate parts of the main and supplementary figures"
   ]
  },
  {
   "cell_type": "code",
   "execution_count": 1,
   "id": "3673cf1e",
   "metadata": {},
   "outputs": [],
   "source": [
    "# !pip install matplotlib"
   ]
  },
  {
   "cell_type": "code",
   "execution_count": 2,
   "id": "b47c66e8-e439-4adc-999e-f6f533580ba4",
   "metadata": {},
   "outputs": [
    {
     "data": {
      "text/html": [
       "<pre style=\"white-space:pre;overflow-x:auto;line-height:normal;font-family:Menlo,'DejaVu Sans Mono',consolas,'Courier New',monospace\"><span style=\"color: #7fbfbf; text-decoration-color: #7fbfbf\">[10/02/25 19:23:13] </span><span style=\"color: #808000; text-decoration-color: #808000\">WARNING </span> transformer_engine.pytorch.attention.dot_product_attention.utils -      <a href=\"file:///opt/conda/envs/evo2/lib/python3.12/site-packages/transformer_engine/pytorch/attention/dot_product_attention/backends.py\" target=\"_blank\"><span style=\"color: #7f7f7f; text-decoration-color: #7f7f7f\">backends.py</span></a><span style=\"color: #7f7f7f; text-decoration-color: #7f7f7f\">:</span><a href=\"file:///opt/conda/envs/evo2/lib/python3.12/site-packages/transformer_engine/pytorch/attention/dot_product_attention/backends.py#98\" target=\"_blank\"><span style=\"color: #7f7f7f; text-decoration-color: #7f7f7f\">98</span></a>\n",
       "<span style=\"color: #7fbfbf; text-decoration-color: #7fbfbf\">                    </span>         WARNING - Supported flash-attn versions are &gt;= <span style=\"color: #008080; text-decoration-color: #008080; font-weight: bold\">2.1</span>.<span style=\"color: #008080; text-decoration-color: #008080; font-weight: bold\">1</span>, &lt;= <span style=\"color: #008080; text-decoration-color: #008080; font-weight: bold\">2.7</span>.<span style=\"color: #008080; text-decoration-color: #008080; font-weight: bold\">4.</span>post1.   <span style=\"color: #7f7f7f; text-decoration-color: #7f7f7f\">              </span>\n",
       "<span style=\"color: #7fbfbf; text-decoration-color: #7fbfbf\">                    </span>         Found flash-attn <span style=\"color: #008080; text-decoration-color: #008080; font-weight: bold\">2.8</span>.<span style=\"color: #008080; text-decoration-color: #008080; font-weight: bold\">0.</span>post2.                                           <span style=\"color: #7f7f7f; text-decoration-color: #7f7f7f\">              </span>\n",
       "</pre>\n"
      ],
      "text/plain": [
       "\u001b[2;36m[10/02/25 19:23:13]\u001b[0m\u001b[2;36m \u001b[0m\u001b[33mWARNING \u001b[0m transformer_engine.pytorch.attention.dot_product_attention.utils -      \u001b]8;id=156587;file:///opt/conda/envs/evo2/lib/python3.12/site-packages/transformer_engine/pytorch/attention/dot_product_attention/backends.py\u001b\\\u001b[2mbackends.py\u001b[0m\u001b]8;;\u001b\\\u001b[2m:\u001b[0m\u001b]8;id=264519;file:///opt/conda/envs/evo2/lib/python3.12/site-packages/transformer_engine/pytorch/attention/dot_product_attention/backends.py#98\u001b\\\u001b[2m98\u001b[0m\u001b]8;;\u001b\\\n",
       "\u001b[2;36m                    \u001b[0m         WARNING - Supported flash-attn versions are >= \u001b[1;36m2.1\u001b[0m.\u001b[1;36m1\u001b[0m, <= \u001b[1;36m2.7\u001b[0m.\u001b[1;36m4.\u001b[0mpost1.   \u001b[2m              \u001b[0m\n",
       "\u001b[2;36m                    \u001b[0m         Found flash-attn \u001b[1;36m2.8\u001b[0m.\u001b[1;36m0.\u001b[0mpost2.                                           \u001b[2m              \u001b[0m\n"
      ]
     },
     "metadata": {},
     "output_type": "display_data"
    }
   ],
   "source": [
    "from typing import List, Optional, Callable\n",
    "\n",
    "import torch\n",
    "\n",
    "from Bio import SeqIO\n",
    "\n",
    "import matplotlib.pyplot as plt\n",
    "from huggingface_hub import hf_hub_download\n",
    "\n",
    "from tqdm.notebook import tqdm\n",
    "\n",
    "from evo2 import Evo2\n",
    "\n",
    "\n",
    "# Set random seeds for reproducibility\n",
    "torch.manual_seed(42)\n",
    "torch.cuda.manual_seed(42)\n",
    "torch.set_grad_enabled(False)\n",
    "\n",
    "import gc\n",
    "gc.collect()\n",
    "torch.cuda.empty_cache()\n",
    "torch.cuda.ipc_collect()"
   ]
  },
  {
   "cell_type": "markdown",
   "id": "04d66bcb-da0f-4e13-ad63-b4bd47a9f7bc",
   "metadata": {},
   "source": [
    "## Load SAE"
   ]
  },
  {
   "cell_type": "code",
   "execution_count": 3,
   "id": "ccecc878",
   "metadata": {},
   "outputs": [],
   "source": [
    "class ModelScope:\n",
    "    \"\"\"Class for adding, using, and removing PyTorch hooks with a model.\"\"\"\n",
    "\n",
    "    def __init__(self, model):\n",
    "        self.model = model\n",
    "        self.hooks = {}\n",
    "        self.activations_cache = {}\n",
    "        self.override_store = {}\n",
    "        self._build_module_dict()\n",
    "\n",
    "    \"\"\"Module listing.\"\"\"\n",
    "    def _build_module_dict(self):\n",
    "        \"\"\"Walks the model's module tree and builds a name: module map.\"\"\"\n",
    "        self._module_dict = {}\n",
    "\n",
    "        def recurse(module, prefix=''):\n",
    "            \"\"\"Recursive tree walk to build self._module_dict.\"\"\"\n",
    "            for name, child in module.named_children():\n",
    "                self._module_dict[prefix+name] = child\n",
    "                recurse(child, prefix=prefix+name+'-')\n",
    "\n",
    "        recurse(self.model)  # build the tree\n",
    "\n",
    "    def list_modules(self):\n",
    "        \"\"\"Lists all modules in the module dictionary.\"\"\"\n",
    "        return self._module_dict.keys()\n",
    "    \n",
    "    \"\"\"Generic hook registration\"\"\"\n",
    "    def add_hook(self, hook_fn, module_str, hook_name):\n",
    "        \"\"\"Add a hook_fn to the module given by module_str.\"\"\"\n",
    "        module = self._module_dict[module_str]\n",
    "        hook_handle = module.register_forward_hook(hook_fn)\n",
    "        self.hooks[hook_name] = hook_handle\n",
    "    \n",
    "    \"\"\"Activations caching\"\"\"\n",
    "    def _build_caching_hook(self, module_str):\n",
    "        self.activations_cache[module_str] = []\n",
    "        def hook_fn(model, input, output):\n",
    "            self.activations_cache[module_str].append(output)\n",
    "\n",
    "        return hook_fn\n",
    "\n",
    "    def add_caching_hook(self, module_str):\n",
    "        \"\"\"Adds an activations caching hook at the location in module_str.\"\"\"\n",
    "        hook_fn = self._build_caching_hook(module_str)\n",
    "        self.add_hook(hook_fn, module_str, 'cache-'+module_str)\n",
    "\n",
    "    def clear_cache(self, module_str):\n",
    "        \"\"\"Clears the activations cache corresponding to module_str.\"\"\"\n",
    "        if module_str not in self.activations_cache.keys():\n",
    "            raise KeyError(f'No activations cache for {module_str}.')\n",
    "        \n",
    "        else:\n",
    "            self.activations_cache[module_str] = []\n",
    "\n",
    "    def clear_all_caches(self):\n",
    "        \"\"\"Clear all activation caches.\"\"\"\n",
    "        for module_str in self.activations_cache.keys():\n",
    "            self.clear_cache(module_str)\n",
    "\n",
    "    def remove_cache(self, module_str):\n",
    "        \"\"\"Remove the cache for module_str.\"\"\"\n",
    "        del self.activations_cache[module_str]\n",
    "\n",
    "    def remove_all_caches(self):\n",
    "        \"\"\"Remove all caches.\"\"\"\n",
    "        caches = list(self.activations_cache.keys())\n",
    "        for cache_str in caches:\n",
    "            self.remove_cache(cache_str)\n",
    "\n",
    "    \"\"\"Activation override\"\"\"\n",
    "    def _build_override_hook(self, module_str):\n",
    "        self.override_store[module_str] = None  # won't override when returned\n",
    "        def hook_fn(model, input, output):\n",
    "            return self.override_store[module_str]\n",
    "        \n",
    "        return hook_fn\n",
    "    \n",
    "    def add_override_hook(self, module_str):\n",
    "        \"\"\"Adds hook to overrides output of module_str using override_store\"\"\"\n",
    "        hook_fn = self._build_override_hook(module_str)\n",
    "        self.add_hook(hook_fn, module_str, 'override-'+module_str)\n",
    "\n",
    "    def override(self, module_str, override_tensor):\n",
    "        \"\"\"Sets the override tensor for module_str.\"\"\"\n",
    "        self.override_store[module_str] = override_tensor\n",
    "\n",
    "    def clear_override(self, module_str):\n",
    "        \"\"\"Clear override hook so it won't affect forward pass.\"\"\"\n",
    "        self.override_store[module_str] = None\n",
    "\n",
    "    def clear_all_overrides(self):\n",
    "        \"\"\"Clear all override hooks.\"\"\"\n",
    "        overrides = list(self.override_store.keys())\n",
    "        for override in overrides:\n",
    "            self.clear_override(override)\n",
    "\n",
    "    \"\"\"Hook clearup\"\"\"\n",
    "    def remove_hook(self, hook_name):\n",
    "        \"\"\"Remove a hook with name hook_name from the model.\"\"\"\n",
    "        self.hooks[hook_name].remove()\n",
    "        del self.hooks[hook_name]\n",
    "\n",
    "    def remove_all_hooks(self):\n",
    "        \"\"\"Remove all hooks from the model.\"\"\"\n",
    "        hooks = list(self.hooks.keys())\n",
    "        for hook_name in hooks:\n",
    "            self.remove_hook(hook_name)\n",
    "\n",
    "\n",
    "INTERVENTION_INTERFACE = Callable[[torch.Tensor], torch.Tensor]\n",
    "\n",
    "\n",
    "class ObservableEvo2:\n",
    "    def __init__(self, model_name: str):\n",
    "        self.model_name = model_name\n",
    "        self.evo_model: NucleotideModel = Evo2(model_name)\n",
    "        self.scope = ModelScope(self.evo_model.model)\n",
    "        self.tokenizer = self.evo_model.tokenizer\n",
    "        self.model = self.evo_model.model\n",
    "        self.d_hidden = 4096\n",
    "\n",
    "    @property\n",
    "    def device(self):\n",
    "        return next(self.evo_model.model.parameters()).device\n",
    "        \n",
    "    @property\n",
    "    def dtype(self):\n",
    "        return self.evo_model.dtype\n",
    "\n",
    "    def list_modules(self):\n",
    "        return self.scope.list_modules()\n",
    "\n",
    "    def forward(\n",
    "        self, \n",
    "        toks: torch.Tensor, \n",
    "        cache_activations_at: Optional[List[str]] = None, \n",
    "        interventions: dict[str, INTERVENTION_INTERFACE] = None,\n",
    "    ):\n",
    "        if not interventions:\n",
    "            interventions = {}\n",
    "\n",
    "        if not cache_activations_at:\n",
    "            cache_activations_at = []\n",
    "\n",
    "        output_cache = {}\n",
    "\n",
    "        layers = list(set(list(interventions.keys()) + cache_activations_at))\n",
    "\n",
    "        if layers:\n",
    "            for layer in layers:\n",
    "                def _intervene(model, input, output):\n",
    "                    acts = output[0] if isinstance(output, tuple) else output\n",
    "\n",
    "                    if layer in interventions:\n",
    "                        acts = interventions[layer](acts)\n",
    "                    '''\n",
    "                    if layer in cache_activations_at and output_cache.get(layer, None) is None:\n",
    "                        output_cache[layer] = [acts]\n",
    "                    elif layer in cache_activations_at:\n",
    "                        output_cache[layer].append(acts)\n",
    "                    '''\n",
    "                    if layer in cache_activations_at:\n",
    "                        output_cache[layer] = acts.detach()\n",
    "                    '''\n",
    "                    if len(output) == 2:\n",
    "                        return (acts, output[1])\n",
    "                    else:\n",
    "                        return acts\n",
    "                    '''\n",
    "                    return (acts, output[1]) if isinstance(output, tuple) else acts\n",
    "                \n",
    "                self.scope.add_hook(_intervene, layer, f'intervene-{layer}')\n",
    "\n",
    "        # Run forwards pass\n",
    "        try:\n",
    "            model_outputs = self.model(toks)\n",
    "            #cache = {key: output[0][0] for key, output in self.scope.activations_cache.items()}\n",
    "            cached_activations = {layer: act.clone() for layer, act in output_cache.items()}\n",
    "        finally:\n",
    "            self.scope.remove_all_hooks()\n",
    "            self.scope.clear_all_caches()\n",
    "                                                   \n",
    "        return model_outputs[0], cached_activations #{layer: act.clone().detach() for layer, act in output_cache.items()}\n",
    "\n",
    "    def generate(\n",
    "        self,\n",
    "        prompt_seqs: List[str],\n",
    "        n_tokens: int = 100,\n",
    "        temperature: float = 1.0,\n",
    "        top_k: int = 4,\n",
    "        top_p: float = 1.,\n",
    "        batched: bool = True,\n",
    "        cached_generation: bool = False,\n",
    "        verbose: int = 0,\n",
    "        cache_activations_at: Optional[List[str]] = None, \n",
    "        interventions: dict[str, INTERVENTION_INTERFACE] = None,\n",
    "    ):\n",
    "        #ACTIVATION_SCALING_CONSTANT = 2.742088556289673\n",
    "        if not interventions:\n",
    "            interventions = {}\n",
    "\n",
    "        if not cache_activations_at:\n",
    "            cache_activations_at = []\n",
    "\n",
    "        output_cache = {}\n",
    "\n",
    "        layers = list(set(list(interventions.keys()) + cache_activations_at))\n",
    "\n",
    "        if layers:\n",
    "            for layer in layers:\n",
    "                def _intervene(model, input, output):\n",
    "                    acts = output[0]\n",
    "\n",
    "                    if layer in interventions:\n",
    "                        acts = interventions[layer](acts) # * ACTIVATION_SCALING_CONSTANT) / ACTIVATION_SCALING_CONSTANT\n",
    "\n",
    "                    if layer in cache_activations_at and output_cache.get(layer, None) is None:\n",
    "                        output_cache[layer] = [acts] # * ACTIVATION_SCALING_CONSTANT]\n",
    "                    elif layer in cache_activations_at:\n",
    "                        output_cache[layer].append(acts)\n",
    "\n",
    "                    if len(output) == 2:\n",
    "                        return (acts, output[1])\n",
    "                    else: \n",
    "                        return acts\n",
    "                    # return (acts, output[1])\n",
    "                \n",
    "                self.scope.add_hook(_intervene, layer, f'intervene-{layer}')\n",
    "\n",
    "        # Run forwards pass\n",
    "        try:\n",
    "            output = self.evo_model.generate(\n",
    "                prompt_seqs,\n",
    "                n_tokens=n_tokens,\n",
    "                temperature=temperature,\n",
    "                top_k=top_k,\n",
    "                top_p=top_p,\n",
    "                batched=batched,\n",
    "                cached_generation=cached_generation,\n",
    "                verbose=verbose,\n",
    "            )\n",
    "        finally:\n",
    "            self.scope.remove_all_hooks()\n",
    "            self.scope.clear_all_caches()\n",
    "\n",
    "        acts_cache = {layer: torch.cat(acts, dim=1).clone().detach() for layer, acts in output_cache.items()}\n",
    "                       \n",
    "        return ''.join(output[0]), acts_cache\n",
    "\n",
    "class BatchTopKTiedSAE(torch.nn.Module):\n",
    "    def __init__(\n",
    "        self,\n",
    "        d_in,\n",
    "        d_hidden,\n",
    "        k,\n",
    "        device,\n",
    "        dtype,\n",
    "        tiebreaker_epsilon: float = 1e-6\n",
    "        ):\n",
    "        super().__init__()\n",
    "        self.d_in = d_in\n",
    "        self.d_hidden = d_hidden\n",
    "        self.k = k\n",
    "        \n",
    "        W_mat = torch.randn((d_in, d_hidden))\n",
    "        W_mat = 0.1 * W_mat / torch.linalg.norm(W_mat, dim=0, ord=2, keepdim=True)\n",
    "        self.W = torch.nn.Parameter(W_mat)\n",
    "        self.b_enc = torch.nn.Parameter(torch.zeros(self.d_hidden))\n",
    "        self.b_dec = torch.nn.Parameter(torch.zeros(self.d_in))\n",
    "        self.device = device\n",
    "        self.dtype = dtype\n",
    "        self.tiebreaker_epsilon = tiebreaker_epsilon\n",
    "        self.tiebreaker = torch.linspace(0, tiebreaker_epsilon, d_hidden)\n",
    "        self.to(self.device, self.dtype)\n",
    "        \n",
    "    def encoder_pre(self, x):\n",
    "        return x @ self.W + self.b_enc\n",
    "\n",
    "    def encode(self, x, tiebreak=False):\n",
    "        f = torch.nn.functional.relu(self.encoder_pre(x))\n",
    "        return self._batch_topk(f, self.k, tiebreak=tiebreak)\n",
    "    \n",
    "    def _batch_topk(self, f, k, tiebreak=False):\n",
    "        from math import prod\n",
    "\n",
    "        if tiebreak:  # break ties in feature order for determinism\n",
    "            f += self.tiebreaker.broadcast_to(f)\n",
    "        *input_shape, _ = f.shape  # handle higher-dim tensors (e.g. from sequence input)\n",
    "        numel = k * prod(input_shape)\n",
    "        f_topk = torch.topk(f.flatten(), numel, dim=-1)\n",
    "        f_topk = torch.zeros_like(f.flatten()).scatter(-1, f_topk.indices, f_topk.values).reshape(f.shape)\n",
    "        return f_topk\n",
    "\n",
    "    def decode(self, f):\n",
    "        return f @ self.W.T + self.b_dec\n",
    "\n",
    "    def forward(self, x):\n",
    "        f = self.encode(x)\n",
    "        return self.decode(f), f\n",
    "\n",
    "def load_topk_sae(\n",
    "    sae_path: str,\n",
    "    d_hidden: int,\n",
    "    device: str,\n",
    "    dtype: torch.dtype,\n",
    "    expansion_factor: int = 16,\n",
    "):\n",
    "    sae_dict = torch.load(sae_path, weights_only=True, map_location=\"cpu\")\n",
    "\n",
    "    new_dict = {}\n",
    "    for key, item in sae_dict.items():\n",
    "        new_dict[key.replace(\"_orig_mod.\", \"\").replace(\"module.\", \"\")] = item\n",
    "\n",
    "    sae_dict = new_dict\n",
    "\n",
    "    cached_sae = BatchTopKTiedSAE(\n",
    "        d_hidden,\n",
    "        d_hidden * expansion_factor,\n",
    "        64, # this is a topk64 sae\n",
    "        device,\n",
    "        dtype,\n",
    "    )\n",
    "    cached_sae.load_state_dict(sae_dict)\n",
    "\n",
    "    return cached_sae"
   ]
  },
  {
   "cell_type": "code",
   "execution_count": 4,
   "id": "f9cdf796",
   "metadata": {},
   "outputs": [
    {
     "data": {
      "text/plain": [
       "'/root/.cache/huggingface/hub/models--Goodfire--Evo-2-Layer-26-Mixed/snapshots/a02b08a876b112d1c5da172e57a59e2bc76b1d70/sae-layer26-mixed-expansion_8-k_64.pt'"
      ]
     },
     "execution_count": 4,
     "metadata": {},
     "output_type": "execute_result"
    }
   ],
   "source": [
    "file_path = hf_hub_download(\n",
    "    repo_id=f\"Goodfire/Evo-2-Layer-26-Mixed\",\n",
    "    filename=f\"sae-layer26-mixed-expansion_8-k_64.pt\",\n",
    "    repo_type=\"model\"\n",
    ")\n",
    "file_path"
   ]
  },
  {
   "cell_type": "code",
   "execution_count": 5,
   "id": "f05ebca9-1cf4-44e4-8066-52cd1c592a44",
   "metadata": {
    "scrolled": true
   },
   "outputs": [
    {
     "data": {
      "application/vnd.jupyter.widget-view+json": {
       "model_id": "ab37fe34adb6495393ad1231b54c89ca",
       "version_major": 2,
       "version_minor": 0
      },
      "text/plain": [
       "Fetching 4 files:   0%|          | 0/4 [00:00<?, ?it/s]"
      ]
     },
     "metadata": {},
     "output_type": "display_data"
    },
    {
     "data": {
      "application/vnd.jupyter.widget-view+json": {
       "model_id": "7c7f8b935944401a85601d2dc10fe102",
       "version_major": 2,
       "version_minor": 0
      },
      "text/plain": [
       "README.md: 0.00B [00:00, ?B/s]"
      ]
     },
     "metadata": {},
     "output_type": "display_data"
    },
    {
     "data": {
      "application/vnd.jupyter.widget-view+json": {
       "model_id": "86af26dd97144d96b3d0b87d98132d20",
       "version_major": 2,
       "version_minor": 0
      },
      "text/plain": [
       "config.json:   0%|          | 0.00/97.0 [00:00<?, ?B/s]"
      ]
     },
     "metadata": {},
     "output_type": "display_data"
    },
    {
     "data": {
      "application/vnd.jupyter.widget-view+json": {
       "model_id": "5e1e520ed55b476f9031dbacb3167017",
       "version_major": 2,
       "version_minor": 0
      },
      "text/plain": [
       "evo2_7b_base.pt:   0%|          | 0.00/13.0G [00:00<?, ?B/s]"
      ]
     },
     "metadata": {},
     "output_type": "display_data"
    },
    {
     "data": {
      "application/vnd.jupyter.widget-view+json": {
       "model_id": "3153e36b290042acbe9b69adaccc5b84",
       "version_major": 2,
       "version_minor": 0
      },
      "text/plain": [
       ".gitattributes: 0.00B [00:00, ?B/s]"
      ]
     },
     "metadata": {},
     "output_type": "display_data"
    },
    {
     "name": "stdout",
     "output_type": "stream",
     "text": [
      "Found complete file in repo: evo2_7b_base.pt\n"
     ]
    },
    {
     "data": {
      "text/html": [
       "<pre style=\"white-space:pre;overflow-x:auto;line-height:normal;font-family:Menlo,'DejaVu Sans Mono',consolas,'Courier New',monospace\"><span style=\"color: #7fbfbf; text-decoration-color: #7fbfbf\">[10/02/25 19:23:31] </span><span style=\"color: #000080; text-decoration-color: #000080\">INFO    </span> StripedHyena - INFO - Initializing StripedHyena with config:              <a href=\"file:///opt/conda/envs/evo2/lib/python3.12/site-packages/vortex/model/model.py\" target=\"_blank\"><span style=\"color: #7f7f7f; text-decoration-color: #7f7f7f\">model.py</span></a><span style=\"color: #7f7f7f; text-decoration-color: #7f7f7f\">:</span><a href=\"file:///opt/conda/envs/evo2/lib/python3.12/site-packages/vortex/model/model.py#616\" target=\"_blank\"><span style=\"color: #7f7f7f; text-decoration-color: #7f7f7f\">616</span></a>\n",
       "<span style=\"color: #7fbfbf; text-decoration-color: #7fbfbf\">                    </span>         <span style=\"font-weight: bold\">{</span><span style=\"color: #008000; text-decoration-color: #008000\">'model_name'</span>: <span style=\"color: #008000; text-decoration-color: #008000\">'shc-evo2-7b-8k-2T-v2'</span>, <span style=\"color: #008000; text-decoration-color: #008000\">'vocab_size'</span>: <span style=\"color: #008080; text-decoration-color: #008080; font-weight: bold\">512</span>, <span style=\"color: #008000; text-decoration-color: #008000\">'hidden_size'</span>:  <span style=\"color: #7f7f7f; text-decoration-color: #7f7f7f\">            </span>\n",
       "<span style=\"color: #7fbfbf; text-decoration-color: #7fbfbf\">                    </span>         <span style=\"color: #008080; text-decoration-color: #008080; font-weight: bold\">4096</span>, <span style=\"color: #008000; text-decoration-color: #008000\">'num_filters'</span>: <span style=\"color: #008080; text-decoration-color: #008080; font-weight: bold\">4096</span>, <span style=\"color: #008000; text-decoration-color: #008000\">'hcl_layer_idxs'</span>: <span style=\"font-weight: bold\">[</span><span style=\"color: #008080; text-decoration-color: #008080; font-weight: bold\">2</span>, <span style=\"color: #008080; text-decoration-color: #008080; font-weight: bold\">6</span>, <span style=\"color: #008080; text-decoration-color: #008080; font-weight: bold\">9</span>, <span style=\"color: #008080; text-decoration-color: #008080; font-weight: bold\">13</span>, <span style=\"color: #008080; text-decoration-color: #008080; font-weight: bold\">16</span>, <span style=\"color: #008080; text-decoration-color: #008080; font-weight: bold\">20</span>, <span style=\"color: #008080; text-decoration-color: #008080; font-weight: bold\">23</span>,    <span style=\"color: #7f7f7f; text-decoration-color: #7f7f7f\">            </span>\n",
       "<span style=\"color: #7fbfbf; text-decoration-color: #7fbfbf\">                    </span>         <span style=\"color: #008080; text-decoration-color: #008080; font-weight: bold\">27</span>, <span style=\"color: #008080; text-decoration-color: #008080; font-weight: bold\">30</span><span style=\"font-weight: bold\">]</span>, <span style=\"color: #008000; text-decoration-color: #008000\">'hcm_layer_idxs'</span>: <span style=\"font-weight: bold\">[</span><span style=\"color: #008080; text-decoration-color: #008080; font-weight: bold\">1</span>, <span style=\"color: #008080; text-decoration-color: #008080; font-weight: bold\">5</span>, <span style=\"color: #008080; text-decoration-color: #008080; font-weight: bold\">8</span>, <span style=\"color: #008080; text-decoration-color: #008080; font-weight: bold\">12</span>, <span style=\"color: #008080; text-decoration-color: #008080; font-weight: bold\">15</span>, <span style=\"color: #008080; text-decoration-color: #008080; font-weight: bold\">19</span>, <span style=\"color: #008080; text-decoration-color: #008080; font-weight: bold\">22</span>, <span style=\"color: #008080; text-decoration-color: #008080; font-weight: bold\">26</span>, <span style=\"color: #008080; text-decoration-color: #008080; font-weight: bold\">29</span><span style=\"font-weight: bold\">]</span>,             <span style=\"color: #7f7f7f; text-decoration-color: #7f7f7f\">            </span>\n",
       "<span style=\"color: #7fbfbf; text-decoration-color: #7fbfbf\">                    </span>         <span style=\"color: #008000; text-decoration-color: #008000\">'hcs_layer_idxs'</span>: <span style=\"font-weight: bold\">[</span><span style=\"color: #008080; text-decoration-color: #008080; font-weight: bold\">0</span>, <span style=\"color: #008080; text-decoration-color: #008080; font-weight: bold\">4</span>, <span style=\"color: #008080; text-decoration-color: #008080; font-weight: bold\">7</span>, <span style=\"color: #008080; text-decoration-color: #008080; font-weight: bold\">11</span>, <span style=\"color: #008080; text-decoration-color: #008080; font-weight: bold\">14</span>, <span style=\"color: #008080; text-decoration-color: #008080; font-weight: bold\">18</span>, <span style=\"color: #008080; text-decoration-color: #008080; font-weight: bold\">21</span>, <span style=\"color: #008080; text-decoration-color: #008080; font-weight: bold\">25</span>, <span style=\"color: #008080; text-decoration-color: #008080; font-weight: bold\">28</span><span style=\"font-weight: bold\">]</span>, <span style=\"color: #008000; text-decoration-color: #008000\">'attn_layer_idxs'</span>:   <span style=\"color: #7f7f7f; text-decoration-color: #7f7f7f\">            </span>\n",
       "<span style=\"color: #7fbfbf; text-decoration-color: #7fbfbf\">                    </span>         <span style=\"font-weight: bold\">[</span><span style=\"color: #008080; text-decoration-color: #008080; font-weight: bold\">3</span>, <span style=\"color: #008080; text-decoration-color: #008080; font-weight: bold\">10</span>, <span style=\"color: #008080; text-decoration-color: #008080; font-weight: bold\">17</span>, <span style=\"color: #008080; text-decoration-color: #008080; font-weight: bold\">24</span>, <span style=\"color: #008080; text-decoration-color: #008080; font-weight: bold\">31</span><span style=\"font-weight: bold\">]</span>, <span style=\"color: #008000; text-decoration-color: #008000\">'hcm_filter_length'</span>: <span style=\"color: #008080; text-decoration-color: #008080; font-weight: bold\">128</span>, <span style=\"color: #008000; text-decoration-color: #008000\">'hcl_filter_groups'</span>: <span style=\"color: #008080; text-decoration-color: #008080; font-weight: bold\">4096</span>, <span style=\"color: #7f7f7f; text-decoration-color: #7f7f7f\">            </span>\n",
       "<span style=\"color: #7fbfbf; text-decoration-color: #7fbfbf\">                    </span>         <span style=\"color: #008000; text-decoration-color: #008000\">'hcm_filter_groups'</span>: <span style=\"color: #008080; text-decoration-color: #008080; font-weight: bold\">256</span>, <span style=\"color: #008000; text-decoration-color: #008000\">'hcs_filter_groups'</span>: <span style=\"color: #008080; text-decoration-color: #008080; font-weight: bold\">256</span>, <span style=\"color: #008000; text-decoration-color: #008000\">'hcs_filter_length'</span>:  <span style=\"color: #7f7f7f; text-decoration-color: #7f7f7f\">            </span>\n",
       "<span style=\"color: #7fbfbf; text-decoration-color: #7fbfbf\">                    </span>         <span style=\"color: #008080; text-decoration-color: #008080; font-weight: bold\">7</span>, <span style=\"color: #008000; text-decoration-color: #008000\">'num_layers'</span>: <span style=\"color: #008080; text-decoration-color: #008080; font-weight: bold\">32</span>, <span style=\"color: #008000; text-decoration-color: #008000\">'short_filter_length'</span>: <span style=\"color: #008080; text-decoration-color: #008080; font-weight: bold\">3</span>, <span style=\"color: #008000; text-decoration-color: #008000\">'num_attention_heads'</span>: <span style=\"color: #008080; text-decoration-color: #008080; font-weight: bold\">32</span>, <span style=\"color: #7f7f7f; text-decoration-color: #7f7f7f\">            </span>\n",
       "<span style=\"color: #7fbfbf; text-decoration-color: #7fbfbf\">                    </span>         <span style=\"color: #008000; text-decoration-color: #008000\">'short_filter_bias'</span>: <span style=\"color: #ff0000; text-decoration-color: #ff0000; font-style: italic\">False</span>, <span style=\"color: #008000; text-decoration-color: #008000\">'mlp_init_method'</span>: <span style=\"color: #008000; text-decoration-color: #008000\">'torch.nn.init.zeros_'</span>,    <span style=\"color: #7f7f7f; text-decoration-color: #7f7f7f\">            </span>\n",
       "<span style=\"color: #7fbfbf; text-decoration-color: #7fbfbf\">                    </span>         <span style=\"color: #008000; text-decoration-color: #008000\">'mlp_output_init_method'</span>: <span style=\"color: #008000; text-decoration-color: #008000\">'torch.nn.init.zeros_'</span>, <span style=\"color: #008000; text-decoration-color: #008000\">'eps'</span>: <span style=\"color: #008080; text-decoration-color: #008080; font-weight: bold\">1e-06</span>,           <span style=\"color: #7f7f7f; text-decoration-color: #7f7f7f\">            </span>\n",
       "<span style=\"color: #7fbfbf; text-decoration-color: #7fbfbf\">                    </span>         <span style=\"color: #008000; text-decoration-color: #008000\">'state_size'</span>: <span style=\"color: #008080; text-decoration-color: #008080; font-weight: bold\">16</span>, <span style=\"color: #008000; text-decoration-color: #008000\">'rotary_emb_base'</span>: <span style=\"color: #008080; text-decoration-color: #008080; font-weight: bold\">10000</span>,                               <span style=\"color: #7f7f7f; text-decoration-color: #7f7f7f\">            </span>\n",
       "<span style=\"color: #7fbfbf; text-decoration-color: #7fbfbf\">                    </span>         <span style=\"color: #008000; text-decoration-color: #008000\">'make_vocab_size_divisible_by'</span>: <span style=\"color: #008080; text-decoration-color: #008080; font-weight: bold\">8</span>, <span style=\"color: #008000; text-decoration-color: #008000\">'inner_size_multiple_of'</span>: <span style=\"color: #008080; text-decoration-color: #008080; font-weight: bold\">16</span>,          <span style=\"color: #7f7f7f; text-decoration-color: #7f7f7f\">            </span>\n",
       "<span style=\"color: #7fbfbf; text-decoration-color: #7fbfbf\">                    </span>         <span style=\"color: #008000; text-decoration-color: #008000\">'inner_mlp_size'</span>: <span style=\"color: #008080; text-decoration-color: #008080; font-weight: bold\">11008</span>, <span style=\"color: #008000; text-decoration-color: #008000\">'log_intermediate_values'</span>: <span style=\"color: #ff0000; text-decoration-color: #ff0000; font-style: italic\">False</span>, <span style=\"color: #008000; text-decoration-color: #008000\">'proj_groups'</span>: <span style=\"color: #7f7f7f; text-decoration-color: #7f7f7f\">            </span>\n",
       "<span style=\"color: #7fbfbf; text-decoration-color: #7fbfbf\">                    </span>         <span style=\"color: #008080; text-decoration-color: #008080; font-weight: bold\">1</span>, <span style=\"color: #008000; text-decoration-color: #008000\">'hyena_filter_groups'</span>: <span style=\"color: #008080; text-decoration-color: #008080; font-weight: bold\">1</span>, <span style=\"color: #008000; text-decoration-color: #008000\">'column_split_hyena'</span>: <span style=\"color: #ff0000; text-decoration-color: #ff0000; font-style: italic\">False</span>, <span style=\"color: #008000; text-decoration-color: #008000\">'column_split'</span>: <span style=\"color: #7f7f7f; text-decoration-color: #7f7f7f\">            </span>\n",
       "<span style=\"color: #7fbfbf; text-decoration-color: #7fbfbf\">                    </span>         <span style=\"color: #00ff00; text-decoration-color: #00ff00; font-style: italic\">True</span>, <span style=\"color: #008000; text-decoration-color: #008000\">'interleave'</span>: <span style=\"color: #00ff00; text-decoration-color: #00ff00; font-style: italic\">True</span>, <span style=\"color: #008000; text-decoration-color: #008000\">'evo2_style_activations'</span>: <span style=\"color: #00ff00; text-decoration-color: #00ff00; font-style: italic\">True</span>,                 <span style=\"color: #7f7f7f; text-decoration-color: #7f7f7f\">            </span>\n",
       "<span style=\"color: #7fbfbf; text-decoration-color: #7fbfbf\">                    </span>         <span style=\"color: #008000; text-decoration-color: #008000\">'model_parallel_size'</span>: <span style=\"color: #008080; text-decoration-color: #008080; font-weight: bold\">1</span>, <span style=\"color: #008000; text-decoration-color: #008000\">'pipe_parallel_size'</span>: <span style=\"color: #008080; text-decoration-color: #008080; font-weight: bold\">1</span>, <span style=\"color: #008000; text-decoration-color: #008000\">'tie_embeddings'</span>:      <span style=\"color: #7f7f7f; text-decoration-color: #7f7f7f\">            </span>\n",
       "<span style=\"color: #7fbfbf; text-decoration-color: #7fbfbf\">                    </span>         <span style=\"color: #00ff00; text-decoration-color: #00ff00; font-style: italic\">True</span>, <span style=\"color: #008000; text-decoration-color: #008000\">'mha_out_proj_bias'</span>: <span style=\"color: #00ff00; text-decoration-color: #00ff00; font-style: italic\">True</span>, <span style=\"color: #008000; text-decoration-color: #008000\">'hyena_out_proj_bias'</span>: <span style=\"color: #00ff00; text-decoration-color: #00ff00; font-style: italic\">True</span>,             <span style=\"color: #7f7f7f; text-decoration-color: #7f7f7f\">            </span>\n",
       "<span style=\"color: #7fbfbf; text-decoration-color: #7fbfbf\">                    </span>         <span style=\"color: #008000; text-decoration-color: #008000\">'hyena_flip_x1x2'</span>: <span style=\"color: #ff0000; text-decoration-color: #ff0000; font-style: italic\">False</span>, <span style=\"color: #008000; text-decoration-color: #008000\">'qkv_proj_bias'</span>: <span style=\"color: #ff0000; text-decoration-color: #ff0000; font-style: italic\">False</span>,                         <span style=\"color: #7f7f7f; text-decoration-color: #7f7f7f\">            </span>\n",
       "<span style=\"color: #7fbfbf; text-decoration-color: #7fbfbf\">                    </span>         <span style=\"color: #008000; text-decoration-color: #008000\">'use_fp8_input_projections'</span>: <span style=\"color: #ff0000; text-decoration-color: #ff0000; font-style: italic\">False</span>, <span style=\"color: #008000; text-decoration-color: #008000\">'max_seqlen'</span>: <span style=\"color: #008080; text-decoration-color: #008080; font-weight: bold\">32768</span>,                  <span style=\"color: #7f7f7f; text-decoration-color: #7f7f7f\">            </span>\n",
       "<span style=\"color: #7fbfbf; text-decoration-color: #7fbfbf\">                    </span>         <span style=\"color: #008000; text-decoration-color: #008000\">'max_batch_size'</span>: <span style=\"color: #008080; text-decoration-color: #008080; font-weight: bold\">1</span>, <span style=\"color: #008000; text-decoration-color: #008000\">'final_norm'</span>: <span style=\"color: #00ff00; text-decoration-color: #00ff00; font-style: italic\">True</span>, <span style=\"color: #008000; text-decoration-color: #008000\">'use_flash_attn'</span>: <span style=\"color: #00ff00; text-decoration-color: #00ff00; font-style: italic\">True</span>,          <span style=\"color: #7f7f7f; text-decoration-color: #7f7f7f\">            </span>\n",
       "<span style=\"color: #7fbfbf; text-decoration-color: #7fbfbf\">                    </span>         <span style=\"color: #008000; text-decoration-color: #008000\">'use_flash_rmsnorm'</span>: <span style=\"color: #ff0000; text-decoration-color: #ff0000; font-style: italic\">False</span>, <span style=\"color: #008000; text-decoration-color: #008000\">'use_flash_depthwise'</span>: <span style=\"color: #ff0000; text-decoration-color: #ff0000; font-style: italic\">False</span>, <span style=\"color: #008000; text-decoration-color: #008000\">'use_flashfft'</span>: <span style=\"color: #7f7f7f; text-decoration-color: #7f7f7f\">            </span>\n",
       "<span style=\"color: #7fbfbf; text-decoration-color: #7fbfbf\">                    </span>         <span style=\"color: #ff0000; text-decoration-color: #ff0000; font-style: italic\">False</span>, <span style=\"color: #008000; text-decoration-color: #008000\">'use_laughing_hyena'</span>: <span style=\"color: #ff0000; text-decoration-color: #ff0000; font-style: italic\">False</span>, <span style=\"color: #008000; text-decoration-color: #008000\">'inference_mode'</span>: <span style=\"color: #00ff00; text-decoration-color: #00ff00; font-style: italic\">True</span>,               <span style=\"color: #7f7f7f; text-decoration-color: #7f7f7f\">            </span>\n",
       "<span style=\"color: #7fbfbf; text-decoration-color: #7fbfbf\">                    </span>         <span style=\"color: #008000; text-decoration-color: #008000\">'tokenizer_type'</span>: <span style=\"color: #008000; text-decoration-color: #008000\">'CharLevelTokenizer'</span>, <span style=\"color: #008000; text-decoration-color: #008000\">'prefill_style'</span>: <span style=\"color: #008000; text-decoration-color: #008000\">'fft'</span>,           <span style=\"color: #7f7f7f; text-decoration-color: #7f7f7f\">            </span>\n",
       "<span style=\"color: #7fbfbf; text-decoration-color: #7fbfbf\">                    </span>         <span style=\"color: #008000; text-decoration-color: #008000\">'mlp_activation'</span>: <span style=\"color: #008000; text-decoration-color: #008000\">'gelu'</span>, <span style=\"color: #008000; text-decoration-color: #008000\">'print_activations'</span>: <span style=\"color: #ff0000; text-decoration-color: #ff0000; font-style: italic\">False</span>, <span style=\"color: #008000; text-decoration-color: #008000\">'Loader'</span>: <span style=\"font-weight: bold\">&lt;</span><span style=\"color: #ff00ff; text-decoration-color: #ff00ff; font-weight: bold\">class</span><span style=\"color: #000000; text-decoration-color: #000000\"> </span>   <span style=\"color: #7f7f7f; text-decoration-color: #7f7f7f\">            </span>\n",
       "<span style=\"color: #7fbfbf; text-decoration-color: #7fbfbf\">                    </span>         <span style=\"color: #008000; text-decoration-color: #008000\">'yaml.loader.FullLoader'</span><span style=\"font-weight: bold\">&gt;}</span>                                                <span style=\"color: #7f7f7f; text-decoration-color: #7f7f7f\">            </span>\n",
       "</pre>\n"
      ],
      "text/plain": [
       "\u001b[2;36m[10/02/25 19:23:31]\u001b[0m\u001b[2;36m \u001b[0m\u001b[34mINFO    \u001b[0m StripedHyena - INFO - Initializing StripedHyena with config:              \u001b]8;id=484948;file:///opt/conda/envs/evo2/lib/python3.12/site-packages/vortex/model/model.py\u001b\\\u001b[2mmodel.py\u001b[0m\u001b]8;;\u001b\\\u001b[2m:\u001b[0m\u001b]8;id=32502;file:///opt/conda/envs/evo2/lib/python3.12/site-packages/vortex/model/model.py#616\u001b\\\u001b[2m616\u001b[0m\u001b]8;;\u001b\\\n",
       "\u001b[2;36m                    \u001b[0m         \u001b[1m{\u001b[0m\u001b[32m'model_name'\u001b[0m: \u001b[32m'shc-evo2-7b-8k-2T-v2'\u001b[0m, \u001b[32m'vocab_size'\u001b[0m: \u001b[1;36m512\u001b[0m, \u001b[32m'hidden_size'\u001b[0m:  \u001b[2m            \u001b[0m\n",
       "\u001b[2;36m                    \u001b[0m         \u001b[1;36m4096\u001b[0m, \u001b[32m'num_filters'\u001b[0m: \u001b[1;36m4096\u001b[0m, \u001b[32m'hcl_layer_idxs'\u001b[0m: \u001b[1m[\u001b[0m\u001b[1;36m2\u001b[0m, \u001b[1;36m6\u001b[0m, \u001b[1;36m9\u001b[0m, \u001b[1;36m13\u001b[0m, \u001b[1;36m16\u001b[0m, \u001b[1;36m20\u001b[0m, \u001b[1;36m23\u001b[0m,    \u001b[2m            \u001b[0m\n",
       "\u001b[2;36m                    \u001b[0m         \u001b[1;36m27\u001b[0m, \u001b[1;36m30\u001b[0m\u001b[1m]\u001b[0m, \u001b[32m'hcm_layer_idxs'\u001b[0m: \u001b[1m[\u001b[0m\u001b[1;36m1\u001b[0m, \u001b[1;36m5\u001b[0m, \u001b[1;36m8\u001b[0m, \u001b[1;36m12\u001b[0m, \u001b[1;36m15\u001b[0m, \u001b[1;36m19\u001b[0m, \u001b[1;36m22\u001b[0m, \u001b[1;36m26\u001b[0m, \u001b[1;36m29\u001b[0m\u001b[1m]\u001b[0m,             \u001b[2m            \u001b[0m\n",
       "\u001b[2;36m                    \u001b[0m         \u001b[32m'hcs_layer_idxs'\u001b[0m: \u001b[1m[\u001b[0m\u001b[1;36m0\u001b[0m, \u001b[1;36m4\u001b[0m, \u001b[1;36m7\u001b[0m, \u001b[1;36m11\u001b[0m, \u001b[1;36m14\u001b[0m, \u001b[1;36m18\u001b[0m, \u001b[1;36m21\u001b[0m, \u001b[1;36m25\u001b[0m, \u001b[1;36m28\u001b[0m\u001b[1m]\u001b[0m, \u001b[32m'attn_layer_idxs'\u001b[0m:   \u001b[2m            \u001b[0m\n",
       "\u001b[2;36m                    \u001b[0m         \u001b[1m[\u001b[0m\u001b[1;36m3\u001b[0m, \u001b[1;36m10\u001b[0m, \u001b[1;36m17\u001b[0m, \u001b[1;36m24\u001b[0m, \u001b[1;36m31\u001b[0m\u001b[1m]\u001b[0m, \u001b[32m'hcm_filter_length'\u001b[0m: \u001b[1;36m128\u001b[0m, \u001b[32m'hcl_filter_groups'\u001b[0m: \u001b[1;36m4096\u001b[0m, \u001b[2m            \u001b[0m\n",
       "\u001b[2;36m                    \u001b[0m         \u001b[32m'hcm_filter_groups'\u001b[0m: \u001b[1;36m256\u001b[0m, \u001b[32m'hcs_filter_groups'\u001b[0m: \u001b[1;36m256\u001b[0m, \u001b[32m'hcs_filter_length'\u001b[0m:  \u001b[2m            \u001b[0m\n",
       "\u001b[2;36m                    \u001b[0m         \u001b[1;36m7\u001b[0m, \u001b[32m'num_layers'\u001b[0m: \u001b[1;36m32\u001b[0m, \u001b[32m'short_filter_length'\u001b[0m: \u001b[1;36m3\u001b[0m, \u001b[32m'num_attention_heads'\u001b[0m: \u001b[1;36m32\u001b[0m, \u001b[2m            \u001b[0m\n",
       "\u001b[2;36m                    \u001b[0m         \u001b[32m'short_filter_bias'\u001b[0m: \u001b[3;91mFalse\u001b[0m, \u001b[32m'mlp_init_method'\u001b[0m: \u001b[32m'torch.nn.init.zeros_'\u001b[0m,    \u001b[2m            \u001b[0m\n",
       "\u001b[2;36m                    \u001b[0m         \u001b[32m'mlp_output_init_method'\u001b[0m: \u001b[32m'torch.nn.init.zeros_'\u001b[0m, \u001b[32m'eps'\u001b[0m: \u001b[1;36m1e-06\u001b[0m,           \u001b[2m            \u001b[0m\n",
       "\u001b[2;36m                    \u001b[0m         \u001b[32m'state_size'\u001b[0m: \u001b[1;36m16\u001b[0m, \u001b[32m'rotary_emb_base'\u001b[0m: \u001b[1;36m10000\u001b[0m,                               \u001b[2m            \u001b[0m\n",
       "\u001b[2;36m                    \u001b[0m         \u001b[32m'make_vocab_size_divisible_by'\u001b[0m: \u001b[1;36m8\u001b[0m, \u001b[32m'inner_size_multiple_of'\u001b[0m: \u001b[1;36m16\u001b[0m,          \u001b[2m            \u001b[0m\n",
       "\u001b[2;36m                    \u001b[0m         \u001b[32m'inner_mlp_size'\u001b[0m: \u001b[1;36m11008\u001b[0m, \u001b[32m'log_intermediate_values'\u001b[0m: \u001b[3;91mFalse\u001b[0m, \u001b[32m'proj_groups'\u001b[0m: \u001b[2m            \u001b[0m\n",
       "\u001b[2;36m                    \u001b[0m         \u001b[1;36m1\u001b[0m, \u001b[32m'hyena_filter_groups'\u001b[0m: \u001b[1;36m1\u001b[0m, \u001b[32m'column_split_hyena'\u001b[0m: \u001b[3;91mFalse\u001b[0m, \u001b[32m'column_split'\u001b[0m: \u001b[2m            \u001b[0m\n",
       "\u001b[2;36m                    \u001b[0m         \u001b[3;92mTrue\u001b[0m, \u001b[32m'interleave'\u001b[0m: \u001b[3;92mTrue\u001b[0m, \u001b[32m'evo2_style_activations'\u001b[0m: \u001b[3;92mTrue\u001b[0m,                 \u001b[2m            \u001b[0m\n",
       "\u001b[2;36m                    \u001b[0m         \u001b[32m'model_parallel_size'\u001b[0m: \u001b[1;36m1\u001b[0m, \u001b[32m'pipe_parallel_size'\u001b[0m: \u001b[1;36m1\u001b[0m, \u001b[32m'tie_embeddings'\u001b[0m:      \u001b[2m            \u001b[0m\n",
       "\u001b[2;36m                    \u001b[0m         \u001b[3;92mTrue\u001b[0m, \u001b[32m'mha_out_proj_bias'\u001b[0m: \u001b[3;92mTrue\u001b[0m, \u001b[32m'hyena_out_proj_bias'\u001b[0m: \u001b[3;92mTrue\u001b[0m,             \u001b[2m            \u001b[0m\n",
       "\u001b[2;36m                    \u001b[0m         \u001b[32m'hyena_flip_x1x2'\u001b[0m: \u001b[3;91mFalse\u001b[0m, \u001b[32m'qkv_proj_bias'\u001b[0m: \u001b[3;91mFalse\u001b[0m,                         \u001b[2m            \u001b[0m\n",
       "\u001b[2;36m                    \u001b[0m         \u001b[32m'use_fp8_input_projections'\u001b[0m: \u001b[3;91mFalse\u001b[0m, \u001b[32m'max_seqlen'\u001b[0m: \u001b[1;36m32768\u001b[0m,                  \u001b[2m            \u001b[0m\n",
       "\u001b[2;36m                    \u001b[0m         \u001b[32m'max_batch_size'\u001b[0m: \u001b[1;36m1\u001b[0m, \u001b[32m'final_norm'\u001b[0m: \u001b[3;92mTrue\u001b[0m, \u001b[32m'use_flash_attn'\u001b[0m: \u001b[3;92mTrue\u001b[0m,          \u001b[2m            \u001b[0m\n",
       "\u001b[2;36m                    \u001b[0m         \u001b[32m'use_flash_rmsnorm'\u001b[0m: \u001b[3;91mFalse\u001b[0m, \u001b[32m'use_flash_depthwise'\u001b[0m: \u001b[3;91mFalse\u001b[0m, \u001b[32m'use_flashfft'\u001b[0m: \u001b[2m            \u001b[0m\n",
       "\u001b[2;36m                    \u001b[0m         \u001b[3;91mFalse\u001b[0m, \u001b[32m'use_laughing_hyena'\u001b[0m: \u001b[3;91mFalse\u001b[0m, \u001b[32m'inference_mode'\u001b[0m: \u001b[3;92mTrue\u001b[0m,               \u001b[2m            \u001b[0m\n",
       "\u001b[2;36m                    \u001b[0m         \u001b[32m'tokenizer_type'\u001b[0m: \u001b[32m'CharLevelTokenizer'\u001b[0m, \u001b[32m'prefill_style'\u001b[0m: \u001b[32m'fft'\u001b[0m,           \u001b[2m            \u001b[0m\n",
       "\u001b[2;36m                    \u001b[0m         \u001b[32m'mlp_activation'\u001b[0m: \u001b[32m'gelu'\u001b[0m, \u001b[32m'print_activations'\u001b[0m: \u001b[3;91mFalse\u001b[0m, \u001b[32m'Loader'\u001b[0m: \u001b[1m<\u001b[0m\u001b[1;95mclass\u001b[0m\u001b[39m \u001b[0m   \u001b[2m            \u001b[0m\n",
       "\u001b[2;36m                    \u001b[0m         \u001b[32m'yaml.loader.FullLoader'\u001b[0m\u001b[1m>\u001b[0m\u001b[1m}\u001b[0m                                                \u001b[2m            \u001b[0m\n"
      ]
     },
     "metadata": {},
     "output_type": "display_data"
    },
    {
     "data": {
      "text/html": [
       "<pre style=\"white-space:pre;overflow-x:auto;line-height:normal;font-family:Menlo,'DejaVu Sans Mono',consolas,'Courier New',monospace\"><span style=\"color: #7fbfbf; text-decoration-color: #7fbfbf\">                    </span><span style=\"color: #000080; text-decoration-color: #000080\">INFO    </span> StripedHyena - INFO - Initializing <span style=\"color: #008080; text-decoration-color: #008080; font-weight: bold\">32</span> blocks<span style=\"color: #808000; text-decoration-color: #808000\">...</span>                           <a href=\"file:///opt/conda/envs/evo2/lib/python3.12/site-packages/vortex/model/model.py\" target=\"_blank\"><span style=\"color: #7f7f7f; text-decoration-color: #7f7f7f\">model.py</span></a><span style=\"color: #7f7f7f; text-decoration-color: #7f7f7f\">:</span><a href=\"file:///opt/conda/envs/evo2/lib/python3.12/site-packages/vortex/model/model.py#635\" target=\"_blank\"><span style=\"color: #7f7f7f; text-decoration-color: #7f7f7f\">635</span></a>\n",
       "</pre>\n"
      ],
      "text/plain": [
       "\u001b[2;36m                   \u001b[0m\u001b[2;36m \u001b[0m\u001b[34mINFO    \u001b[0m StripedHyena - INFO - Initializing \u001b[1;36m32\u001b[0m blocks\u001b[33m...\u001b[0m                           \u001b]8;id=49324;file:///opt/conda/envs/evo2/lib/python3.12/site-packages/vortex/model/model.py\u001b\\\u001b[2mmodel.py\u001b[0m\u001b]8;;\u001b\\\u001b[2m:\u001b[0m\u001b]8;id=954378;file:///opt/conda/envs/evo2/lib/python3.12/site-packages/vortex/model/model.py#635\u001b\\\u001b[2m635\u001b[0m\u001b]8;;\u001b\\\n"
      ]
     },
     "metadata": {},
     "output_type": "display_data"
    },
    {
     "data": {
      "text/html": [
       "<pre style=\"white-space:pre;overflow-x:auto;line-height:normal;font-family:Menlo,'DejaVu Sans Mono',consolas,'Courier New',monospace\"><span style=\"color: #7fbfbf; text-decoration-color: #7fbfbf\">                    </span><span style=\"color: #000080; text-decoration-color: #000080\">INFO    </span> StripedHyena - INFO - Distributing across <span style=\"color: #008080; text-decoration-color: #008080; font-weight: bold\">1</span> GPUs, approximately <span style=\"color: #008080; text-decoration-color: #008080; font-weight: bold\">32</span> layers <a href=\"file:///opt/conda/envs/evo2/lib/python3.12/site-packages/vortex/model/model.py\" target=\"_blank\"><span style=\"color: #7f7f7f; text-decoration-color: #7f7f7f\">model.py</span></a><span style=\"color: #7f7f7f; text-decoration-color: #7f7f7f\">:</span><a href=\"file:///opt/conda/envs/evo2/lib/python3.12/site-packages/vortex/model/model.py#642\" target=\"_blank\"><span style=\"color: #7f7f7f; text-decoration-color: #7f7f7f\">642</span></a>\n",
       "<span style=\"color: #7fbfbf; text-decoration-color: #7fbfbf\">                    </span>         per GPU                                                                   <span style=\"color: #7f7f7f; text-decoration-color: #7f7f7f\">            </span>\n",
       "</pre>\n"
      ],
      "text/plain": [
       "\u001b[2;36m                   \u001b[0m\u001b[2;36m \u001b[0m\u001b[34mINFO    \u001b[0m StripedHyena - INFO - Distributing across \u001b[1;36m1\u001b[0m GPUs, approximately \u001b[1;36m32\u001b[0m layers \u001b]8;id=62124;file:///opt/conda/envs/evo2/lib/python3.12/site-packages/vortex/model/model.py\u001b\\\u001b[2mmodel.py\u001b[0m\u001b]8;;\u001b\\\u001b[2m:\u001b[0m\u001b]8;id=374317;file:///opt/conda/envs/evo2/lib/python3.12/site-packages/vortex/model/model.py#642\u001b\\\u001b[2m642\u001b[0m\u001b]8;;\u001b\\\n",
       "\u001b[2;36m                    \u001b[0m         per GPU                                                                   \u001b[2m            \u001b[0m\n"
      ]
     },
     "metadata": {},
     "output_type": "display_data"
    },
    {
     "name": "stderr",
     "output_type": "stream",
     "text": [
      "  0%|          | 0/32 [00:00<?, ?it/s]"
     ]
    },
    {
     "data": {
      "text/html": [
       "<pre style=\"white-space:pre;overflow-x:auto;line-height:normal;font-family:Menlo,'DejaVu Sans Mono',consolas,'Courier New',monospace\"><span style=\"color: #7fbfbf; text-decoration-color: #7fbfbf\">                    </span><span style=\"color: #000080; text-decoration-color: #000080\">INFO    </span> StripedHyena - INFO - Assigned <span style=\"color: #808000; text-decoration-color: #808000\">layer_idx</span>=<span style=\"color: #008080; text-decoration-color: #008080; font-weight: bold\">0</span> to <span style=\"color: #808000; text-decoration-color: #808000\">device</span>=<span style=\"color: #008000; text-decoration-color: #008000\">'cuda:0'</span>             <a href=\"file:///opt/conda/envs/evo2/lib/python3.12/site-packages/vortex/model/model.py\" target=\"_blank\"><span style=\"color: #7f7f7f; text-decoration-color: #7f7f7f\">model.py</span></a><span style=\"color: #7f7f7f; text-decoration-color: #7f7f7f\">:</span><a href=\"file:///opt/conda/envs/evo2/lib/python3.12/site-packages/vortex/model/model.py#660\" target=\"_blank\"><span style=\"color: #7f7f7f; text-decoration-color: #7f7f7f\">660</span></a>\n",
       "</pre>\n"
      ],
      "text/plain": [
       "\u001b[2;36m                   \u001b[0m\u001b[2;36m \u001b[0m\u001b[34mINFO    \u001b[0m StripedHyena - INFO - Assigned \u001b[33mlayer_idx\u001b[0m=\u001b[1;36m0\u001b[0m to \u001b[33mdevice\u001b[0m=\u001b[32m'cuda:0'\u001b[0m             \u001b]8;id=760628;file:///opt/conda/envs/evo2/lib/python3.12/site-packages/vortex/model/model.py\u001b\\\u001b[2mmodel.py\u001b[0m\u001b]8;;\u001b\\\u001b[2m:\u001b[0m\u001b]8;id=928123;file:///opt/conda/envs/evo2/lib/python3.12/site-packages/vortex/model/model.py#660\u001b\\\u001b[2m660\u001b[0m\u001b]8;;\u001b\\\n"
      ]
     },
     "metadata": {},
     "output_type": "display_data"
    },
    {
     "data": {
      "text/html": [
       "<pre style=\"white-space:pre;overflow-x:auto;line-height:normal;font-family:Menlo,'DejaVu Sans Mono',consolas,'Courier New',monospace\"><span style=\"color: #7fbfbf; text-decoration-color: #7fbfbf\">                    </span><span style=\"color: #000080; text-decoration-color: #000080\">INFO    </span> StripedHyena - INFO - Parameter count for block <span style=\"color: #008080; text-decoration-color: #008080; font-weight: bold\">0</span>: <span style=\"color: #008080; text-decoration-color: #008080; font-weight: bold\">202426112</span>              <a href=\"file:///opt/conda/envs/evo2/lib/python3.12/site-packages/vortex/model/model.py\" target=\"_blank\"><span style=\"color: #7f7f7f; text-decoration-color: #7f7f7f\">model.py</span></a><span style=\"color: #7f7f7f; text-decoration-color: #7f7f7f\">:</span><a href=\"file:///opt/conda/envs/evo2/lib/python3.12/site-packages/vortex/model/model.py#661\" target=\"_blank\"><span style=\"color: #7f7f7f; text-decoration-color: #7f7f7f\">661</span></a>\n",
       "</pre>\n"
      ],
      "text/plain": [
       "\u001b[2;36m                   \u001b[0m\u001b[2;36m \u001b[0m\u001b[34mINFO    \u001b[0m StripedHyena - INFO - Parameter count for block \u001b[1;36m0\u001b[0m: \u001b[1;36m202426112\u001b[0m              \u001b]8;id=15772;file:///opt/conda/envs/evo2/lib/python3.12/site-packages/vortex/model/model.py\u001b\\\u001b[2mmodel.py\u001b[0m\u001b]8;;\u001b\\\u001b[2m:\u001b[0m\u001b]8;id=560974;file:///opt/conda/envs/evo2/lib/python3.12/site-packages/vortex/model/model.py#661\u001b\\\u001b[2m661\u001b[0m\u001b]8;;\u001b\\\n"
      ]
     },
     "metadata": {},
     "output_type": "display_data"
    },
    {
     "data": {
      "text/html": [
       "<pre style=\"white-space:pre;overflow-x:auto;line-height:normal;font-family:Menlo,'DejaVu Sans Mono',consolas,'Courier New',monospace\"><span style=\"color: #7fbfbf; text-decoration-color: #7fbfbf\">[10/02/25 19:23:32] </span><span style=\"color: #000080; text-decoration-color: #000080\">INFO    </span> StripedHyena - INFO - Assigned <span style=\"color: #808000; text-decoration-color: #808000\">layer_idx</span>=<span style=\"color: #008080; text-decoration-color: #008080; font-weight: bold\">1</span> to <span style=\"color: #808000; text-decoration-color: #808000\">device</span>=<span style=\"color: #008000; text-decoration-color: #008000\">'cuda:0'</span>             <a href=\"file:///opt/conda/envs/evo2/lib/python3.12/site-packages/vortex/model/model.py\" target=\"_blank\"><span style=\"color: #7f7f7f; text-decoration-color: #7f7f7f\">model.py</span></a><span style=\"color: #7f7f7f; text-decoration-color: #7f7f7f\">:</span><a href=\"file:///opt/conda/envs/evo2/lib/python3.12/site-packages/vortex/model/model.py#660\" target=\"_blank\"><span style=\"color: #7f7f7f; text-decoration-color: #7f7f7f\">660</span></a>\n",
       "</pre>\n"
      ],
      "text/plain": [
       "\u001b[2;36m[10/02/25 19:23:32]\u001b[0m\u001b[2;36m \u001b[0m\u001b[34mINFO    \u001b[0m StripedHyena - INFO - Assigned \u001b[33mlayer_idx\u001b[0m=\u001b[1;36m1\u001b[0m to \u001b[33mdevice\u001b[0m=\u001b[32m'cuda:0'\u001b[0m             \u001b]8;id=66022;file:///opt/conda/envs/evo2/lib/python3.12/site-packages/vortex/model/model.py\u001b\\\u001b[2mmodel.py\u001b[0m\u001b]8;;\u001b\\\u001b[2m:\u001b[0m\u001b]8;id=550005;file:///opt/conda/envs/evo2/lib/python3.12/site-packages/vortex/model/model.py#660\u001b\\\u001b[2m660\u001b[0m\u001b]8;;\u001b\\\n"
      ]
     },
     "metadata": {},
     "output_type": "display_data"
    },
    {
     "data": {
      "text/html": [
       "<pre style=\"white-space:pre;overflow-x:auto;line-height:normal;font-family:Menlo,'DejaVu Sans Mono',consolas,'Courier New',monospace\"><span style=\"color: #7fbfbf; text-decoration-color: #7fbfbf\">                    </span><span style=\"color: #000080; text-decoration-color: #000080\">INFO    </span> StripedHyena - INFO - Parameter count for block <span style=\"color: #008080; text-decoration-color: #008080; font-weight: bold\">1</span>: <span style=\"color: #008080; text-decoration-color: #008080; font-weight: bold\">202461184</span>              <a href=\"file:///opt/conda/envs/evo2/lib/python3.12/site-packages/vortex/model/model.py\" target=\"_blank\"><span style=\"color: #7f7f7f; text-decoration-color: #7f7f7f\">model.py</span></a><span style=\"color: #7f7f7f; text-decoration-color: #7f7f7f\">:</span><a href=\"file:///opt/conda/envs/evo2/lib/python3.12/site-packages/vortex/model/model.py#661\" target=\"_blank\"><span style=\"color: #7f7f7f; text-decoration-color: #7f7f7f\">661</span></a>\n",
       "</pre>\n"
      ],
      "text/plain": [
       "\u001b[2;36m                   \u001b[0m\u001b[2;36m \u001b[0m\u001b[34mINFO    \u001b[0m StripedHyena - INFO - Parameter count for block \u001b[1;36m1\u001b[0m: \u001b[1;36m202461184\u001b[0m              \u001b]8;id=664357;file:///opt/conda/envs/evo2/lib/python3.12/site-packages/vortex/model/model.py\u001b\\\u001b[2mmodel.py\u001b[0m\u001b]8;;\u001b\\\u001b[2m:\u001b[0m\u001b]8;id=855103;file:///opt/conda/envs/evo2/lib/python3.12/site-packages/vortex/model/model.py#661\u001b\\\u001b[2m661\u001b[0m\u001b]8;;\u001b\\\n"
      ]
     },
     "metadata": {},
     "output_type": "display_data"
    },
    {
     "data": {
      "text/html": [
       "<pre style=\"white-space:pre;overflow-x:auto;line-height:normal;font-family:Menlo,'DejaVu Sans Mono',consolas,'Courier New',monospace\"><span style=\"color: #7fbfbf; text-decoration-color: #7fbfbf\">                    </span><span style=\"color: #000080; text-decoration-color: #000080\">INFO    </span> StripedHyena - INFO - Assigned <span style=\"color: #808000; text-decoration-color: #808000\">layer_idx</span>=<span style=\"color: #008080; text-decoration-color: #008080; font-weight: bold\">2</span> to <span style=\"color: #808000; text-decoration-color: #808000\">device</span>=<span style=\"color: #008000; text-decoration-color: #008000\">'cuda:0'</span>             <a href=\"file:///opt/conda/envs/evo2/lib/python3.12/site-packages/vortex/model/model.py\" target=\"_blank\"><span style=\"color: #7f7f7f; text-decoration-color: #7f7f7f\">model.py</span></a><span style=\"color: #7f7f7f; text-decoration-color: #7f7f7f\">:</span><a href=\"file:///opt/conda/envs/evo2/lib/python3.12/site-packages/vortex/model/model.py#660\" target=\"_blank\"><span style=\"color: #7f7f7f; text-decoration-color: #7f7f7f\">660</span></a>\n",
       "</pre>\n"
      ],
      "text/plain": [
       "\u001b[2;36m                   \u001b[0m\u001b[2;36m \u001b[0m\u001b[34mINFO    \u001b[0m StripedHyena - INFO - Assigned \u001b[33mlayer_idx\u001b[0m=\u001b[1;36m2\u001b[0m to \u001b[33mdevice\u001b[0m=\u001b[32m'cuda:0'\u001b[0m             \u001b]8;id=562105;file:///opt/conda/envs/evo2/lib/python3.12/site-packages/vortex/model/model.py\u001b\\\u001b[2mmodel.py\u001b[0m\u001b]8;;\u001b\\\u001b[2m:\u001b[0m\u001b]8;id=812014;file:///opt/conda/envs/evo2/lib/python3.12/site-packages/vortex/model/model.py#660\u001b\\\u001b[2m660\u001b[0m\u001b]8;;\u001b\\\n"
      ]
     },
     "metadata": {},
     "output_type": "display_data"
    },
    {
     "data": {
      "text/html": [
       "<pre style=\"white-space:pre;overflow-x:auto;line-height:normal;font-family:Menlo,'DejaVu Sans Mono',consolas,'Courier New',monospace\"><span style=\"color: #7fbfbf; text-decoration-color: #7fbfbf\">                    </span><span style=\"color: #000080; text-decoration-color: #000080\">INFO    </span> StripedHyena - INFO - Parameter count for block <span style=\"color: #008080; text-decoration-color: #008080; font-weight: bold\">2</span>: <span style=\"color: #008080; text-decoration-color: #008080; font-weight: bold\">202559488</span>              <a href=\"file:///opt/conda/envs/evo2/lib/python3.12/site-packages/vortex/model/model.py\" target=\"_blank\"><span style=\"color: #7f7f7f; text-decoration-color: #7f7f7f\">model.py</span></a><span style=\"color: #7f7f7f; text-decoration-color: #7f7f7f\">:</span><a href=\"file:///opt/conda/envs/evo2/lib/python3.12/site-packages/vortex/model/model.py#661\" target=\"_blank\"><span style=\"color: #7f7f7f; text-decoration-color: #7f7f7f\">661</span></a>\n",
       "</pre>\n"
      ],
      "text/plain": [
       "\u001b[2;36m                   \u001b[0m\u001b[2;36m \u001b[0m\u001b[34mINFO    \u001b[0m StripedHyena - INFO - Parameter count for block \u001b[1;36m2\u001b[0m: \u001b[1;36m202559488\u001b[0m              \u001b]8;id=79324;file:///opt/conda/envs/evo2/lib/python3.12/site-packages/vortex/model/model.py\u001b\\\u001b[2mmodel.py\u001b[0m\u001b]8;;\u001b\\\u001b[2m:\u001b[0m\u001b]8;id=223451;file:///opt/conda/envs/evo2/lib/python3.12/site-packages/vortex/model/model.py#661\u001b\\\u001b[2m661\u001b[0m\u001b]8;;\u001b\\\n"
      ]
     },
     "metadata": {},
     "output_type": "display_data"
    },
    {
     "data": {
      "text/html": [
       "<pre style=\"white-space:pre;overflow-x:auto;line-height:normal;font-family:Menlo,'DejaVu Sans Mono',consolas,'Courier New',monospace\"><span style=\"color: #7fbfbf; text-decoration-color: #7fbfbf\">                    </span><span style=\"color: #000080; text-decoration-color: #000080\">INFO    </span> StripedHyena - INFO - Assigned <span style=\"color: #808000; text-decoration-color: #808000\">layer_idx</span>=<span style=\"color: #008080; text-decoration-color: #008080; font-weight: bold\">3</span> to <span style=\"color: #808000; text-decoration-color: #808000\">device</span>=<span style=\"color: #008000; text-decoration-color: #008000\">'cuda:0'</span>             <a href=\"file:///opt/conda/envs/evo2/lib/python3.12/site-packages/vortex/model/model.py\" target=\"_blank\"><span style=\"color: #7f7f7f; text-decoration-color: #7f7f7f\">model.py</span></a><span style=\"color: #7f7f7f; text-decoration-color: #7f7f7f\">:</span><a href=\"file:///opt/conda/envs/evo2/lib/python3.12/site-packages/vortex/model/model.py#660\" target=\"_blank\"><span style=\"color: #7f7f7f; text-decoration-color: #7f7f7f\">660</span></a>\n",
       "</pre>\n"
      ],
      "text/plain": [
       "\u001b[2;36m                   \u001b[0m\u001b[2;36m \u001b[0m\u001b[34mINFO    \u001b[0m StripedHyena - INFO - Assigned \u001b[33mlayer_idx\u001b[0m=\u001b[1;36m3\u001b[0m to \u001b[33mdevice\u001b[0m=\u001b[32m'cuda:0'\u001b[0m             \u001b]8;id=757334;file:///opt/conda/envs/evo2/lib/python3.12/site-packages/vortex/model/model.py\u001b\\\u001b[2mmodel.py\u001b[0m\u001b]8;;\u001b\\\u001b[2m:\u001b[0m\u001b]8;id=639793;file:///opt/conda/envs/evo2/lib/python3.12/site-packages/vortex/model/model.py#660\u001b\\\u001b[2m660\u001b[0m\u001b]8;;\u001b\\\n"
      ]
     },
     "metadata": {},
     "output_type": "display_data"
    },
    {
     "data": {
      "text/html": [
       "<pre style=\"white-space:pre;overflow-x:auto;line-height:normal;font-family:Menlo,'DejaVu Sans Mono',consolas,'Courier New',monospace\"><span style=\"color: #7fbfbf; text-decoration-color: #7fbfbf\">                    </span><span style=\"color: #000080; text-decoration-color: #000080\">INFO    </span> StripedHyena - INFO - Parameter count for block <span style=\"color: #008080; text-decoration-color: #008080; font-weight: bold\">3</span>: <span style=\"color: #008080; text-decoration-color: #008080; font-weight: bold\">202387456</span>              <a href=\"file:///opt/conda/envs/evo2/lib/python3.12/site-packages/vortex/model/model.py\" target=\"_blank\"><span style=\"color: #7f7f7f; text-decoration-color: #7f7f7f\">model.py</span></a><span style=\"color: #7f7f7f; text-decoration-color: #7f7f7f\">:</span><a href=\"file:///opt/conda/envs/evo2/lib/python3.12/site-packages/vortex/model/model.py#661\" target=\"_blank\"><span style=\"color: #7f7f7f; text-decoration-color: #7f7f7f\">661</span></a>\n",
       "</pre>\n"
      ],
      "text/plain": [
       "\u001b[2;36m                   \u001b[0m\u001b[2;36m \u001b[0m\u001b[34mINFO    \u001b[0m StripedHyena - INFO - Parameter count for block \u001b[1;36m3\u001b[0m: \u001b[1;36m202387456\u001b[0m              \u001b]8;id=557078;file:///opt/conda/envs/evo2/lib/python3.12/site-packages/vortex/model/model.py\u001b\\\u001b[2mmodel.py\u001b[0m\u001b]8;;\u001b\\\u001b[2m:\u001b[0m\u001b]8;id=650209;file:///opt/conda/envs/evo2/lib/python3.12/site-packages/vortex/model/model.py#661\u001b\\\u001b[2m661\u001b[0m\u001b]8;;\u001b\\\n"
      ]
     },
     "metadata": {},
     "output_type": "display_data"
    },
    {
     "name": "stderr",
     "output_type": "stream",
     "text": [
      " 12%|█▎        | 4/32 [00:00<00:00, 32.07it/s]"
     ]
    },
    {
     "data": {
      "text/html": [
       "<pre style=\"white-space:pre;overflow-x:auto;line-height:normal;font-family:Menlo,'DejaVu Sans Mono',consolas,'Courier New',monospace\"><span style=\"color: #7fbfbf; text-decoration-color: #7fbfbf\">                    </span><span style=\"color: #000080; text-decoration-color: #000080\">INFO    </span> StripedHyena - INFO - Assigned <span style=\"color: #808000; text-decoration-color: #808000\">layer_idx</span>=<span style=\"color: #008080; text-decoration-color: #008080; font-weight: bold\">4</span> to <span style=\"color: #808000; text-decoration-color: #808000\">device</span>=<span style=\"color: #008000; text-decoration-color: #008000\">'cuda:0'</span>             <a href=\"file:///opt/conda/envs/evo2/lib/python3.12/site-packages/vortex/model/model.py\" target=\"_blank\"><span style=\"color: #7f7f7f; text-decoration-color: #7f7f7f\">model.py</span></a><span style=\"color: #7f7f7f; text-decoration-color: #7f7f7f\">:</span><a href=\"file:///opt/conda/envs/evo2/lib/python3.12/site-packages/vortex/model/model.py#660\" target=\"_blank\"><span style=\"color: #7f7f7f; text-decoration-color: #7f7f7f\">660</span></a>\n",
       "</pre>\n"
      ],
      "text/plain": [
       "\u001b[2;36m                   \u001b[0m\u001b[2;36m \u001b[0m\u001b[34mINFO    \u001b[0m StripedHyena - INFO - Assigned \u001b[33mlayer_idx\u001b[0m=\u001b[1;36m4\u001b[0m to \u001b[33mdevice\u001b[0m=\u001b[32m'cuda:0'\u001b[0m             \u001b]8;id=351240;file:///opt/conda/envs/evo2/lib/python3.12/site-packages/vortex/model/model.py\u001b\\\u001b[2mmodel.py\u001b[0m\u001b]8;;\u001b\\\u001b[2m:\u001b[0m\u001b]8;id=145121;file:///opt/conda/envs/evo2/lib/python3.12/site-packages/vortex/model/model.py#660\u001b\\\u001b[2m660\u001b[0m\u001b]8;;\u001b\\\n"
      ]
     },
     "metadata": {},
     "output_type": "display_data"
    },
    {
     "data": {
      "text/html": [
       "<pre style=\"white-space:pre;overflow-x:auto;line-height:normal;font-family:Menlo,'DejaVu Sans Mono',consolas,'Courier New',monospace\"><span style=\"color: #7fbfbf; text-decoration-color: #7fbfbf\">                    </span><span style=\"color: #000080; text-decoration-color: #000080\">INFO    </span> StripedHyena - INFO - Parameter count for block <span style=\"color: #008080; text-decoration-color: #008080; font-weight: bold\">4</span>: <span style=\"color: #008080; text-decoration-color: #008080; font-weight: bold\">202426112</span>              <a href=\"file:///opt/conda/envs/evo2/lib/python3.12/site-packages/vortex/model/model.py\" target=\"_blank\"><span style=\"color: #7f7f7f; text-decoration-color: #7f7f7f\">model.py</span></a><span style=\"color: #7f7f7f; text-decoration-color: #7f7f7f\">:</span><a href=\"file:///opt/conda/envs/evo2/lib/python3.12/site-packages/vortex/model/model.py#661\" target=\"_blank\"><span style=\"color: #7f7f7f; text-decoration-color: #7f7f7f\">661</span></a>\n",
       "</pre>\n"
      ],
      "text/plain": [
       "\u001b[2;36m                   \u001b[0m\u001b[2;36m \u001b[0m\u001b[34mINFO    \u001b[0m StripedHyena - INFO - Parameter count for block \u001b[1;36m4\u001b[0m: \u001b[1;36m202426112\u001b[0m              \u001b]8;id=603172;file:///opt/conda/envs/evo2/lib/python3.12/site-packages/vortex/model/model.py\u001b\\\u001b[2mmodel.py\u001b[0m\u001b]8;;\u001b\\\u001b[2m:\u001b[0m\u001b]8;id=188721;file:///opt/conda/envs/evo2/lib/python3.12/site-packages/vortex/model/model.py#661\u001b\\\u001b[2m661\u001b[0m\u001b]8;;\u001b\\\n"
      ]
     },
     "metadata": {},
     "output_type": "display_data"
    },
    {
     "data": {
      "text/html": [
       "<pre style=\"white-space:pre;overflow-x:auto;line-height:normal;font-family:Menlo,'DejaVu Sans Mono',consolas,'Courier New',monospace\"><span style=\"color: #7fbfbf; text-decoration-color: #7fbfbf\">                    </span><span style=\"color: #000080; text-decoration-color: #000080\">INFO    </span> StripedHyena - INFO - Assigned <span style=\"color: #808000; text-decoration-color: #808000\">layer_idx</span>=<span style=\"color: #008080; text-decoration-color: #008080; font-weight: bold\">5</span> to <span style=\"color: #808000; text-decoration-color: #808000\">device</span>=<span style=\"color: #008000; text-decoration-color: #008000\">'cuda:0'</span>             <a href=\"file:///opt/conda/envs/evo2/lib/python3.12/site-packages/vortex/model/model.py\" target=\"_blank\"><span style=\"color: #7f7f7f; text-decoration-color: #7f7f7f\">model.py</span></a><span style=\"color: #7f7f7f; text-decoration-color: #7f7f7f\">:</span><a href=\"file:///opt/conda/envs/evo2/lib/python3.12/site-packages/vortex/model/model.py#660\" target=\"_blank\"><span style=\"color: #7f7f7f; text-decoration-color: #7f7f7f\">660</span></a>\n",
       "</pre>\n"
      ],
      "text/plain": [
       "\u001b[2;36m                   \u001b[0m\u001b[2;36m \u001b[0m\u001b[34mINFO    \u001b[0m StripedHyena - INFO - Assigned \u001b[33mlayer_idx\u001b[0m=\u001b[1;36m5\u001b[0m to \u001b[33mdevice\u001b[0m=\u001b[32m'cuda:0'\u001b[0m             \u001b]8;id=40471;file:///opt/conda/envs/evo2/lib/python3.12/site-packages/vortex/model/model.py\u001b\\\u001b[2mmodel.py\u001b[0m\u001b]8;;\u001b\\\u001b[2m:\u001b[0m\u001b]8;id=293864;file:///opt/conda/envs/evo2/lib/python3.12/site-packages/vortex/model/model.py#660\u001b\\\u001b[2m660\u001b[0m\u001b]8;;\u001b\\\n"
      ]
     },
     "metadata": {},
     "output_type": "display_data"
    },
    {
     "data": {
      "text/html": [
       "<pre style=\"white-space:pre;overflow-x:auto;line-height:normal;font-family:Menlo,'DejaVu Sans Mono',consolas,'Courier New',monospace\"><span style=\"color: #7fbfbf; text-decoration-color: #7fbfbf\">                    </span><span style=\"color: #000080; text-decoration-color: #000080\">INFO    </span> StripedHyena - INFO - Parameter count for block <span style=\"color: #008080; text-decoration-color: #008080; font-weight: bold\">5</span>: <span style=\"color: #008080; text-decoration-color: #008080; font-weight: bold\">202461184</span>              <a href=\"file:///opt/conda/envs/evo2/lib/python3.12/site-packages/vortex/model/model.py\" target=\"_blank\"><span style=\"color: #7f7f7f; text-decoration-color: #7f7f7f\">model.py</span></a><span style=\"color: #7f7f7f; text-decoration-color: #7f7f7f\">:</span><a href=\"file:///opt/conda/envs/evo2/lib/python3.12/site-packages/vortex/model/model.py#661\" target=\"_blank\"><span style=\"color: #7f7f7f; text-decoration-color: #7f7f7f\">661</span></a>\n",
       "</pre>\n"
      ],
      "text/plain": [
       "\u001b[2;36m                   \u001b[0m\u001b[2;36m \u001b[0m\u001b[34mINFO    \u001b[0m StripedHyena - INFO - Parameter count for block \u001b[1;36m5\u001b[0m: \u001b[1;36m202461184\u001b[0m              \u001b]8;id=558839;file:///opt/conda/envs/evo2/lib/python3.12/site-packages/vortex/model/model.py\u001b\\\u001b[2mmodel.py\u001b[0m\u001b]8;;\u001b\\\u001b[2m:\u001b[0m\u001b]8;id=424443;file:///opt/conda/envs/evo2/lib/python3.12/site-packages/vortex/model/model.py#661\u001b\\\u001b[2m661\u001b[0m\u001b]8;;\u001b\\\n"
      ]
     },
     "metadata": {},
     "output_type": "display_data"
    },
    {
     "data": {
      "text/html": [
       "<pre style=\"white-space:pre;overflow-x:auto;line-height:normal;font-family:Menlo,'DejaVu Sans Mono',consolas,'Courier New',monospace\"><span style=\"color: #7fbfbf; text-decoration-color: #7fbfbf\">                    </span><span style=\"color: #000080; text-decoration-color: #000080\">INFO    </span> StripedHyena - INFO - Assigned <span style=\"color: #808000; text-decoration-color: #808000\">layer_idx</span>=<span style=\"color: #008080; text-decoration-color: #008080; font-weight: bold\">6</span> to <span style=\"color: #808000; text-decoration-color: #808000\">device</span>=<span style=\"color: #008000; text-decoration-color: #008000\">'cuda:0'</span>             <a href=\"file:///opt/conda/envs/evo2/lib/python3.12/site-packages/vortex/model/model.py\" target=\"_blank\"><span style=\"color: #7f7f7f; text-decoration-color: #7f7f7f\">model.py</span></a><span style=\"color: #7f7f7f; text-decoration-color: #7f7f7f\">:</span><a href=\"file:///opt/conda/envs/evo2/lib/python3.12/site-packages/vortex/model/model.py#660\" target=\"_blank\"><span style=\"color: #7f7f7f; text-decoration-color: #7f7f7f\">660</span></a>\n",
       "</pre>\n"
      ],
      "text/plain": [
       "\u001b[2;36m                   \u001b[0m\u001b[2;36m \u001b[0m\u001b[34mINFO    \u001b[0m StripedHyena - INFO - Assigned \u001b[33mlayer_idx\u001b[0m=\u001b[1;36m6\u001b[0m to \u001b[33mdevice\u001b[0m=\u001b[32m'cuda:0'\u001b[0m             \u001b]8;id=546059;file:///opt/conda/envs/evo2/lib/python3.12/site-packages/vortex/model/model.py\u001b\\\u001b[2mmodel.py\u001b[0m\u001b]8;;\u001b\\\u001b[2m:\u001b[0m\u001b]8;id=580669;file:///opt/conda/envs/evo2/lib/python3.12/site-packages/vortex/model/model.py#660\u001b\\\u001b[2m660\u001b[0m\u001b]8;;\u001b\\\n"
      ]
     },
     "metadata": {},
     "output_type": "display_data"
    },
    {
     "data": {
      "text/html": [
       "<pre style=\"white-space:pre;overflow-x:auto;line-height:normal;font-family:Menlo,'DejaVu Sans Mono',consolas,'Courier New',monospace\"><span style=\"color: #7fbfbf; text-decoration-color: #7fbfbf\">                    </span><span style=\"color: #000080; text-decoration-color: #000080\">INFO    </span> StripedHyena - INFO - Parameter count for block <span style=\"color: #008080; text-decoration-color: #008080; font-weight: bold\">6</span>: <span style=\"color: #008080; text-decoration-color: #008080; font-weight: bold\">202559488</span>              <a href=\"file:///opt/conda/envs/evo2/lib/python3.12/site-packages/vortex/model/model.py\" target=\"_blank\"><span style=\"color: #7f7f7f; text-decoration-color: #7f7f7f\">model.py</span></a><span style=\"color: #7f7f7f; text-decoration-color: #7f7f7f\">:</span><a href=\"file:///opt/conda/envs/evo2/lib/python3.12/site-packages/vortex/model/model.py#661\" target=\"_blank\"><span style=\"color: #7f7f7f; text-decoration-color: #7f7f7f\">661</span></a>\n",
       "</pre>\n"
      ],
      "text/plain": [
       "\u001b[2;36m                   \u001b[0m\u001b[2;36m \u001b[0m\u001b[34mINFO    \u001b[0m StripedHyena - INFO - Parameter count for block \u001b[1;36m6\u001b[0m: \u001b[1;36m202559488\u001b[0m              \u001b]8;id=724824;file:///opt/conda/envs/evo2/lib/python3.12/site-packages/vortex/model/model.py\u001b\\\u001b[2mmodel.py\u001b[0m\u001b]8;;\u001b\\\u001b[2m:\u001b[0m\u001b]8;id=52064;file:///opt/conda/envs/evo2/lib/python3.12/site-packages/vortex/model/model.py#661\u001b\\\u001b[2m661\u001b[0m\u001b]8;;\u001b\\\n"
      ]
     },
     "metadata": {},
     "output_type": "display_data"
    },
    {
     "data": {
      "text/html": [
       "<pre style=\"white-space:pre;overflow-x:auto;line-height:normal;font-family:Menlo,'DejaVu Sans Mono',consolas,'Courier New',monospace\"><span style=\"color: #7fbfbf; text-decoration-color: #7fbfbf\">                    </span><span style=\"color: #000080; text-decoration-color: #000080\">INFO    </span> StripedHyena - INFO - Assigned <span style=\"color: #808000; text-decoration-color: #808000\">layer_idx</span>=<span style=\"color: #008080; text-decoration-color: #008080; font-weight: bold\">7</span> to <span style=\"color: #808000; text-decoration-color: #808000\">device</span>=<span style=\"color: #008000; text-decoration-color: #008000\">'cuda:0'</span>             <a href=\"file:///opt/conda/envs/evo2/lib/python3.12/site-packages/vortex/model/model.py\" target=\"_blank\"><span style=\"color: #7f7f7f; text-decoration-color: #7f7f7f\">model.py</span></a><span style=\"color: #7f7f7f; text-decoration-color: #7f7f7f\">:</span><a href=\"file:///opt/conda/envs/evo2/lib/python3.12/site-packages/vortex/model/model.py#660\" target=\"_blank\"><span style=\"color: #7f7f7f; text-decoration-color: #7f7f7f\">660</span></a>\n",
       "</pre>\n"
      ],
      "text/plain": [
       "\u001b[2;36m                   \u001b[0m\u001b[2;36m \u001b[0m\u001b[34mINFO    \u001b[0m StripedHyena - INFO - Assigned \u001b[33mlayer_idx\u001b[0m=\u001b[1;36m7\u001b[0m to \u001b[33mdevice\u001b[0m=\u001b[32m'cuda:0'\u001b[0m             \u001b]8;id=504309;file:///opt/conda/envs/evo2/lib/python3.12/site-packages/vortex/model/model.py\u001b\\\u001b[2mmodel.py\u001b[0m\u001b]8;;\u001b\\\u001b[2m:\u001b[0m\u001b]8;id=184827;file:///opt/conda/envs/evo2/lib/python3.12/site-packages/vortex/model/model.py#660\u001b\\\u001b[2m660\u001b[0m\u001b]8;;\u001b\\\n"
      ]
     },
     "metadata": {},
     "output_type": "display_data"
    },
    {
     "data": {
      "text/html": [
       "<pre style=\"white-space:pre;overflow-x:auto;line-height:normal;font-family:Menlo,'DejaVu Sans Mono',consolas,'Courier New',monospace\"><span style=\"color: #7fbfbf; text-decoration-color: #7fbfbf\">                    </span><span style=\"color: #000080; text-decoration-color: #000080\">INFO    </span> StripedHyena - INFO - Parameter count for block <span style=\"color: #008080; text-decoration-color: #008080; font-weight: bold\">7</span>: <span style=\"color: #008080; text-decoration-color: #008080; font-weight: bold\">202426112</span>              <a href=\"file:///opt/conda/envs/evo2/lib/python3.12/site-packages/vortex/model/model.py\" target=\"_blank\"><span style=\"color: #7f7f7f; text-decoration-color: #7f7f7f\">model.py</span></a><span style=\"color: #7f7f7f; text-decoration-color: #7f7f7f\">:</span><a href=\"file:///opt/conda/envs/evo2/lib/python3.12/site-packages/vortex/model/model.py#661\" target=\"_blank\"><span style=\"color: #7f7f7f; text-decoration-color: #7f7f7f\">661</span></a>\n",
       "</pre>\n"
      ],
      "text/plain": [
       "\u001b[2;36m                   \u001b[0m\u001b[2;36m \u001b[0m\u001b[34mINFO    \u001b[0m StripedHyena - INFO - Parameter count for block \u001b[1;36m7\u001b[0m: \u001b[1;36m202426112\u001b[0m              \u001b]8;id=735353;file:///opt/conda/envs/evo2/lib/python3.12/site-packages/vortex/model/model.py\u001b\\\u001b[2mmodel.py\u001b[0m\u001b]8;;\u001b\\\u001b[2m:\u001b[0m\u001b]8;id=72624;file:///opt/conda/envs/evo2/lib/python3.12/site-packages/vortex/model/model.py#661\u001b\\\u001b[2m661\u001b[0m\u001b]8;;\u001b\\\n"
      ]
     },
     "metadata": {},
     "output_type": "display_data"
    },
    {
     "data": {
      "text/html": [
       "<pre style=\"white-space:pre;overflow-x:auto;line-height:normal;font-family:Menlo,'DejaVu Sans Mono',consolas,'Courier New',monospace\"><span style=\"color: #7fbfbf; text-decoration-color: #7fbfbf\">                    </span><span style=\"color: #000080; text-decoration-color: #000080\">INFO    </span> StripedHyena - INFO - Assigned <span style=\"color: #808000; text-decoration-color: #808000\">layer_idx</span>=<span style=\"color: #008080; text-decoration-color: #008080; font-weight: bold\">8</span> to <span style=\"color: #808000; text-decoration-color: #808000\">device</span>=<span style=\"color: #008000; text-decoration-color: #008000\">'cuda:0'</span>             <a href=\"file:///opt/conda/envs/evo2/lib/python3.12/site-packages/vortex/model/model.py\" target=\"_blank\"><span style=\"color: #7f7f7f; text-decoration-color: #7f7f7f\">model.py</span></a><span style=\"color: #7f7f7f; text-decoration-color: #7f7f7f\">:</span><a href=\"file:///opt/conda/envs/evo2/lib/python3.12/site-packages/vortex/model/model.py#660\" target=\"_blank\"><span style=\"color: #7f7f7f; text-decoration-color: #7f7f7f\">660</span></a>\n",
       "</pre>\n"
      ],
      "text/plain": [
       "\u001b[2;36m                   \u001b[0m\u001b[2;36m \u001b[0m\u001b[34mINFO    \u001b[0m StripedHyena - INFO - Assigned \u001b[33mlayer_idx\u001b[0m=\u001b[1;36m8\u001b[0m to \u001b[33mdevice\u001b[0m=\u001b[32m'cuda:0'\u001b[0m             \u001b]8;id=883675;file:///opt/conda/envs/evo2/lib/python3.12/site-packages/vortex/model/model.py\u001b\\\u001b[2mmodel.py\u001b[0m\u001b]8;;\u001b\\\u001b[2m:\u001b[0m\u001b]8;id=251774;file:///opt/conda/envs/evo2/lib/python3.12/site-packages/vortex/model/model.py#660\u001b\\\u001b[2m660\u001b[0m\u001b]8;;\u001b\\\n"
      ]
     },
     "metadata": {},
     "output_type": "display_data"
    },
    {
     "data": {
      "text/html": [
       "<pre style=\"white-space:pre;overflow-x:auto;line-height:normal;font-family:Menlo,'DejaVu Sans Mono',consolas,'Courier New',monospace\"><span style=\"color: #7fbfbf; text-decoration-color: #7fbfbf\">                    </span><span style=\"color: #000080; text-decoration-color: #000080\">INFO    </span> StripedHyena - INFO - Parameter count for block <span style=\"color: #008080; text-decoration-color: #008080; font-weight: bold\">8</span>: <span style=\"color: #008080; text-decoration-color: #008080; font-weight: bold\">202461184</span>              <a href=\"file:///opt/conda/envs/evo2/lib/python3.12/site-packages/vortex/model/model.py\" target=\"_blank\"><span style=\"color: #7f7f7f; text-decoration-color: #7f7f7f\">model.py</span></a><span style=\"color: #7f7f7f; text-decoration-color: #7f7f7f\">:</span><a href=\"file:///opt/conda/envs/evo2/lib/python3.12/site-packages/vortex/model/model.py#661\" target=\"_blank\"><span style=\"color: #7f7f7f; text-decoration-color: #7f7f7f\">661</span></a>\n",
       "</pre>\n"
      ],
      "text/plain": [
       "\u001b[2;36m                   \u001b[0m\u001b[2;36m \u001b[0m\u001b[34mINFO    \u001b[0m StripedHyena - INFO - Parameter count for block \u001b[1;36m8\u001b[0m: \u001b[1;36m202461184\u001b[0m              \u001b]8;id=92980;file:///opt/conda/envs/evo2/lib/python3.12/site-packages/vortex/model/model.py\u001b\\\u001b[2mmodel.py\u001b[0m\u001b]8;;\u001b\\\u001b[2m:\u001b[0m\u001b]8;id=502605;file:///opt/conda/envs/evo2/lib/python3.12/site-packages/vortex/model/model.py#661\u001b\\\u001b[2m661\u001b[0m\u001b]8;;\u001b\\\n"
      ]
     },
     "metadata": {},
     "output_type": "display_data"
    },
    {
     "data": {
      "text/html": [
       "<pre style=\"white-space:pre;overflow-x:auto;line-height:normal;font-family:Menlo,'DejaVu Sans Mono',consolas,'Courier New',monospace\"><span style=\"color: #7fbfbf; text-decoration-color: #7fbfbf\">                    </span><span style=\"color: #000080; text-decoration-color: #000080\">INFO    </span> StripedHyena - INFO - Assigned <span style=\"color: #808000; text-decoration-color: #808000\">layer_idx</span>=<span style=\"color: #008080; text-decoration-color: #008080; font-weight: bold\">9</span> to <span style=\"color: #808000; text-decoration-color: #808000\">device</span>=<span style=\"color: #008000; text-decoration-color: #008000\">'cuda:0'</span>             <a href=\"file:///opt/conda/envs/evo2/lib/python3.12/site-packages/vortex/model/model.py\" target=\"_blank\"><span style=\"color: #7f7f7f; text-decoration-color: #7f7f7f\">model.py</span></a><span style=\"color: #7f7f7f; text-decoration-color: #7f7f7f\">:</span><a href=\"file:///opt/conda/envs/evo2/lib/python3.12/site-packages/vortex/model/model.py#660\" target=\"_blank\"><span style=\"color: #7f7f7f; text-decoration-color: #7f7f7f\">660</span></a>\n",
       "</pre>\n"
      ],
      "text/plain": [
       "\u001b[2;36m                   \u001b[0m\u001b[2;36m \u001b[0m\u001b[34mINFO    \u001b[0m StripedHyena - INFO - Assigned \u001b[33mlayer_idx\u001b[0m=\u001b[1;36m9\u001b[0m to \u001b[33mdevice\u001b[0m=\u001b[32m'cuda:0'\u001b[0m             \u001b]8;id=198862;file:///opt/conda/envs/evo2/lib/python3.12/site-packages/vortex/model/model.py\u001b\\\u001b[2mmodel.py\u001b[0m\u001b]8;;\u001b\\\u001b[2m:\u001b[0m\u001b]8;id=287597;file:///opt/conda/envs/evo2/lib/python3.12/site-packages/vortex/model/model.py#660\u001b\\\u001b[2m660\u001b[0m\u001b]8;;\u001b\\\n"
      ]
     },
     "metadata": {},
     "output_type": "display_data"
    },
    {
     "data": {
      "text/html": [
       "<pre style=\"white-space:pre;overflow-x:auto;line-height:normal;font-family:Menlo,'DejaVu Sans Mono',consolas,'Courier New',monospace\"><span style=\"color: #7fbfbf; text-decoration-color: #7fbfbf\">                    </span><span style=\"color: #000080; text-decoration-color: #000080\">INFO    </span> StripedHyena - INFO - Parameter count for block <span style=\"color: #008080; text-decoration-color: #008080; font-weight: bold\">9</span>: <span style=\"color: #008080; text-decoration-color: #008080; font-weight: bold\">202559488</span>              <a href=\"file:///opt/conda/envs/evo2/lib/python3.12/site-packages/vortex/model/model.py\" target=\"_blank\"><span style=\"color: #7f7f7f; text-decoration-color: #7f7f7f\">model.py</span></a><span style=\"color: #7f7f7f; text-decoration-color: #7f7f7f\">:</span><a href=\"file:///opt/conda/envs/evo2/lib/python3.12/site-packages/vortex/model/model.py#661\" target=\"_blank\"><span style=\"color: #7f7f7f; text-decoration-color: #7f7f7f\">661</span></a>\n",
       "</pre>\n"
      ],
      "text/plain": [
       "\u001b[2;36m                   \u001b[0m\u001b[2;36m \u001b[0m\u001b[34mINFO    \u001b[0m StripedHyena - INFO - Parameter count for block \u001b[1;36m9\u001b[0m: \u001b[1;36m202559488\u001b[0m              \u001b]8;id=563189;file:///opt/conda/envs/evo2/lib/python3.12/site-packages/vortex/model/model.py\u001b\\\u001b[2mmodel.py\u001b[0m\u001b]8;;\u001b\\\u001b[2m:\u001b[0m\u001b]8;id=158818;file:///opt/conda/envs/evo2/lib/python3.12/site-packages/vortex/model/model.py#661\u001b\\\u001b[2m661\u001b[0m\u001b]8;;\u001b\\\n"
      ]
     },
     "metadata": {},
     "output_type": "display_data"
    },
    {
     "data": {
      "text/html": [
       "<pre style=\"white-space:pre;overflow-x:auto;line-height:normal;font-family:Menlo,'DejaVu Sans Mono',consolas,'Courier New',monospace\"><span style=\"color: #7fbfbf; text-decoration-color: #7fbfbf\">                    </span><span style=\"color: #000080; text-decoration-color: #000080\">INFO    </span> StripedHyena - INFO - Assigned <span style=\"color: #808000; text-decoration-color: #808000\">layer_idx</span>=<span style=\"color: #008080; text-decoration-color: #008080; font-weight: bold\">10</span> to <span style=\"color: #808000; text-decoration-color: #808000\">device</span>=<span style=\"color: #008000; text-decoration-color: #008000\">'cuda:0'</span>            <a href=\"file:///opt/conda/envs/evo2/lib/python3.12/site-packages/vortex/model/model.py\" target=\"_blank\"><span style=\"color: #7f7f7f; text-decoration-color: #7f7f7f\">model.py</span></a><span style=\"color: #7f7f7f; text-decoration-color: #7f7f7f\">:</span><a href=\"file:///opt/conda/envs/evo2/lib/python3.12/site-packages/vortex/model/model.py#660\" target=\"_blank\"><span style=\"color: #7f7f7f; text-decoration-color: #7f7f7f\">660</span></a>\n",
       "</pre>\n"
      ],
      "text/plain": [
       "\u001b[2;36m                   \u001b[0m\u001b[2;36m \u001b[0m\u001b[34mINFO    \u001b[0m StripedHyena - INFO - Assigned \u001b[33mlayer_idx\u001b[0m=\u001b[1;36m10\u001b[0m to \u001b[33mdevice\u001b[0m=\u001b[32m'cuda:0'\u001b[0m            \u001b]8;id=457478;file:///opt/conda/envs/evo2/lib/python3.12/site-packages/vortex/model/model.py\u001b\\\u001b[2mmodel.py\u001b[0m\u001b]8;;\u001b\\\u001b[2m:\u001b[0m\u001b]8;id=938101;file:///opt/conda/envs/evo2/lib/python3.12/site-packages/vortex/model/model.py#660\u001b\\\u001b[2m660\u001b[0m\u001b]8;;\u001b\\\n"
      ]
     },
     "metadata": {},
     "output_type": "display_data"
    },
    {
     "data": {
      "text/html": [
       "<pre style=\"white-space:pre;overflow-x:auto;line-height:normal;font-family:Menlo,'DejaVu Sans Mono',consolas,'Courier New',monospace\"><span style=\"color: #7fbfbf; text-decoration-color: #7fbfbf\">                    </span><span style=\"color: #000080; text-decoration-color: #000080\">INFO    </span> StripedHyena - INFO - Parameter count for block <span style=\"color: #008080; text-decoration-color: #008080; font-weight: bold\">10</span>: <span style=\"color: #008080; text-decoration-color: #008080; font-weight: bold\">202387456</span>             <a href=\"file:///opt/conda/envs/evo2/lib/python3.12/site-packages/vortex/model/model.py\" target=\"_blank\"><span style=\"color: #7f7f7f; text-decoration-color: #7f7f7f\">model.py</span></a><span style=\"color: #7f7f7f; text-decoration-color: #7f7f7f\">:</span><a href=\"file:///opt/conda/envs/evo2/lib/python3.12/site-packages/vortex/model/model.py#661\" target=\"_blank\"><span style=\"color: #7f7f7f; text-decoration-color: #7f7f7f\">661</span></a>\n",
       "</pre>\n"
      ],
      "text/plain": [
       "\u001b[2;36m                   \u001b[0m\u001b[2;36m \u001b[0m\u001b[34mINFO    \u001b[0m StripedHyena - INFO - Parameter count for block \u001b[1;36m10\u001b[0m: \u001b[1;36m202387456\u001b[0m             \u001b]8;id=759891;file:///opt/conda/envs/evo2/lib/python3.12/site-packages/vortex/model/model.py\u001b\\\u001b[2mmodel.py\u001b[0m\u001b]8;;\u001b\\\u001b[2m:\u001b[0m\u001b]8;id=774672;file:///opt/conda/envs/evo2/lib/python3.12/site-packages/vortex/model/model.py#661\u001b\\\u001b[2m661\u001b[0m\u001b]8;;\u001b\\\n"
      ]
     },
     "metadata": {},
     "output_type": "display_data"
    },
    {
     "data": {
      "text/html": [
       "<pre style=\"white-space:pre;overflow-x:auto;line-height:normal;font-family:Menlo,'DejaVu Sans Mono',consolas,'Courier New',monospace\"><span style=\"color: #7fbfbf; text-decoration-color: #7fbfbf\">                    </span><span style=\"color: #000080; text-decoration-color: #000080\">INFO    </span> StripedHyena - INFO - Assigned <span style=\"color: #808000; text-decoration-color: #808000\">layer_idx</span>=<span style=\"color: #008080; text-decoration-color: #008080; font-weight: bold\">11</span> to <span style=\"color: #808000; text-decoration-color: #808000\">device</span>=<span style=\"color: #008000; text-decoration-color: #008000\">'cuda:0'</span>            <a href=\"file:///opt/conda/envs/evo2/lib/python3.12/site-packages/vortex/model/model.py\" target=\"_blank\"><span style=\"color: #7f7f7f; text-decoration-color: #7f7f7f\">model.py</span></a><span style=\"color: #7f7f7f; text-decoration-color: #7f7f7f\">:</span><a href=\"file:///opt/conda/envs/evo2/lib/python3.12/site-packages/vortex/model/model.py#660\" target=\"_blank\"><span style=\"color: #7f7f7f; text-decoration-color: #7f7f7f\">660</span></a>\n",
       "</pre>\n"
      ],
      "text/plain": [
       "\u001b[2;36m                   \u001b[0m\u001b[2;36m \u001b[0m\u001b[34mINFO    \u001b[0m StripedHyena - INFO - Assigned \u001b[33mlayer_idx\u001b[0m=\u001b[1;36m11\u001b[0m to \u001b[33mdevice\u001b[0m=\u001b[32m'cuda:0'\u001b[0m            \u001b]8;id=706615;file:///opt/conda/envs/evo2/lib/python3.12/site-packages/vortex/model/model.py\u001b\\\u001b[2mmodel.py\u001b[0m\u001b]8;;\u001b\\\u001b[2m:\u001b[0m\u001b]8;id=977887;file:///opt/conda/envs/evo2/lib/python3.12/site-packages/vortex/model/model.py#660\u001b\\\u001b[2m660\u001b[0m\u001b]8;;\u001b\\\n"
      ]
     },
     "metadata": {},
     "output_type": "display_data"
    },
    {
     "data": {
      "text/html": [
       "<pre style=\"white-space:pre;overflow-x:auto;line-height:normal;font-family:Menlo,'DejaVu Sans Mono',consolas,'Courier New',monospace\"><span style=\"color: #7fbfbf; text-decoration-color: #7fbfbf\">                    </span><span style=\"color: #000080; text-decoration-color: #000080\">INFO    </span> StripedHyena - INFO - Parameter count for block <span style=\"color: #008080; text-decoration-color: #008080; font-weight: bold\">11</span>: <span style=\"color: #008080; text-decoration-color: #008080; font-weight: bold\">202426112</span>             <a href=\"file:///opt/conda/envs/evo2/lib/python3.12/site-packages/vortex/model/model.py\" target=\"_blank\"><span style=\"color: #7f7f7f; text-decoration-color: #7f7f7f\">model.py</span></a><span style=\"color: #7f7f7f; text-decoration-color: #7f7f7f\">:</span><a href=\"file:///opt/conda/envs/evo2/lib/python3.12/site-packages/vortex/model/model.py#661\" target=\"_blank\"><span style=\"color: #7f7f7f; text-decoration-color: #7f7f7f\">661</span></a>\n",
       "</pre>\n"
      ],
      "text/plain": [
       "\u001b[2;36m                   \u001b[0m\u001b[2;36m \u001b[0m\u001b[34mINFO    \u001b[0m StripedHyena - INFO - Parameter count for block \u001b[1;36m11\u001b[0m: \u001b[1;36m202426112\u001b[0m             \u001b]8;id=898943;file:///opt/conda/envs/evo2/lib/python3.12/site-packages/vortex/model/model.py\u001b\\\u001b[2mmodel.py\u001b[0m\u001b]8;;\u001b\\\u001b[2m:\u001b[0m\u001b]8;id=285553;file:///opt/conda/envs/evo2/lib/python3.12/site-packages/vortex/model/model.py#661\u001b\\\u001b[2m661\u001b[0m\u001b]8;;\u001b\\\n"
      ]
     },
     "metadata": {},
     "output_type": "display_data"
    },
    {
     "data": {
      "text/html": [
       "<pre style=\"white-space:pre;overflow-x:auto;line-height:normal;font-family:Menlo,'DejaVu Sans Mono',consolas,'Courier New',monospace\"><span style=\"color: #7fbfbf; text-decoration-color: #7fbfbf\">                    </span><span style=\"color: #000080; text-decoration-color: #000080\">INFO    </span> StripedHyena - INFO - Assigned <span style=\"color: #808000; text-decoration-color: #808000\">layer_idx</span>=<span style=\"color: #008080; text-decoration-color: #008080; font-weight: bold\">12</span> to <span style=\"color: #808000; text-decoration-color: #808000\">device</span>=<span style=\"color: #008000; text-decoration-color: #008000\">'cuda:0'</span>            <a href=\"file:///opt/conda/envs/evo2/lib/python3.12/site-packages/vortex/model/model.py\" target=\"_blank\"><span style=\"color: #7f7f7f; text-decoration-color: #7f7f7f\">model.py</span></a><span style=\"color: #7f7f7f; text-decoration-color: #7f7f7f\">:</span><a href=\"file:///opt/conda/envs/evo2/lib/python3.12/site-packages/vortex/model/model.py#660\" target=\"_blank\"><span style=\"color: #7f7f7f; text-decoration-color: #7f7f7f\">660</span></a>\n",
       "</pre>\n"
      ],
      "text/plain": [
       "\u001b[2;36m                   \u001b[0m\u001b[2;36m \u001b[0m\u001b[34mINFO    \u001b[0m StripedHyena - INFO - Assigned \u001b[33mlayer_idx\u001b[0m=\u001b[1;36m12\u001b[0m to \u001b[33mdevice\u001b[0m=\u001b[32m'cuda:0'\u001b[0m            \u001b]8;id=813131;file:///opt/conda/envs/evo2/lib/python3.12/site-packages/vortex/model/model.py\u001b\\\u001b[2mmodel.py\u001b[0m\u001b]8;;\u001b\\\u001b[2m:\u001b[0m\u001b]8;id=132179;file:///opt/conda/envs/evo2/lib/python3.12/site-packages/vortex/model/model.py#660\u001b\\\u001b[2m660\u001b[0m\u001b]8;;\u001b\\\n"
      ]
     },
     "metadata": {},
     "output_type": "display_data"
    },
    {
     "data": {
      "text/html": [
       "<pre style=\"white-space:pre;overflow-x:auto;line-height:normal;font-family:Menlo,'DejaVu Sans Mono',consolas,'Courier New',monospace\"><span style=\"color: #7fbfbf; text-decoration-color: #7fbfbf\">                    </span><span style=\"color: #000080; text-decoration-color: #000080\">INFO    </span> StripedHyena - INFO - Parameter count for block <span style=\"color: #008080; text-decoration-color: #008080; font-weight: bold\">12</span>: <span style=\"color: #008080; text-decoration-color: #008080; font-weight: bold\">202461184</span>             <a href=\"file:///opt/conda/envs/evo2/lib/python3.12/site-packages/vortex/model/model.py\" target=\"_blank\"><span style=\"color: #7f7f7f; text-decoration-color: #7f7f7f\">model.py</span></a><span style=\"color: #7f7f7f; text-decoration-color: #7f7f7f\">:</span><a href=\"file:///opt/conda/envs/evo2/lib/python3.12/site-packages/vortex/model/model.py#661\" target=\"_blank\"><span style=\"color: #7f7f7f; text-decoration-color: #7f7f7f\">661</span></a>\n",
       "</pre>\n"
      ],
      "text/plain": [
       "\u001b[2;36m                   \u001b[0m\u001b[2;36m \u001b[0m\u001b[34mINFO    \u001b[0m StripedHyena - INFO - Parameter count for block \u001b[1;36m12\u001b[0m: \u001b[1;36m202461184\u001b[0m             \u001b]8;id=172003;file:///opt/conda/envs/evo2/lib/python3.12/site-packages/vortex/model/model.py\u001b\\\u001b[2mmodel.py\u001b[0m\u001b]8;;\u001b\\\u001b[2m:\u001b[0m\u001b]8;id=937364;file:///opt/conda/envs/evo2/lib/python3.12/site-packages/vortex/model/model.py#661\u001b\\\u001b[2m661\u001b[0m\u001b]8;;\u001b\\\n"
      ]
     },
     "metadata": {},
     "output_type": "display_data"
    },
    {
     "data": {
      "text/html": [
       "<pre style=\"white-space:pre;overflow-x:auto;line-height:normal;font-family:Menlo,'DejaVu Sans Mono',consolas,'Courier New',monospace\"><span style=\"color: #7fbfbf; text-decoration-color: #7fbfbf\">                    </span><span style=\"color: #000080; text-decoration-color: #000080\">INFO    </span> StripedHyena - INFO - Assigned <span style=\"color: #808000; text-decoration-color: #808000\">layer_idx</span>=<span style=\"color: #008080; text-decoration-color: #008080; font-weight: bold\">13</span> to <span style=\"color: #808000; text-decoration-color: #808000\">device</span>=<span style=\"color: #008000; text-decoration-color: #008000\">'cuda:0'</span>            <a href=\"file:///opt/conda/envs/evo2/lib/python3.12/site-packages/vortex/model/model.py\" target=\"_blank\"><span style=\"color: #7f7f7f; text-decoration-color: #7f7f7f\">model.py</span></a><span style=\"color: #7f7f7f; text-decoration-color: #7f7f7f\">:</span><a href=\"file:///opt/conda/envs/evo2/lib/python3.12/site-packages/vortex/model/model.py#660\" target=\"_blank\"><span style=\"color: #7f7f7f; text-decoration-color: #7f7f7f\">660</span></a>\n",
       "</pre>\n"
      ],
      "text/plain": [
       "\u001b[2;36m                   \u001b[0m\u001b[2;36m \u001b[0m\u001b[34mINFO    \u001b[0m StripedHyena - INFO - Assigned \u001b[33mlayer_idx\u001b[0m=\u001b[1;36m13\u001b[0m to \u001b[33mdevice\u001b[0m=\u001b[32m'cuda:0'\u001b[0m            \u001b]8;id=485151;file:///opt/conda/envs/evo2/lib/python3.12/site-packages/vortex/model/model.py\u001b\\\u001b[2mmodel.py\u001b[0m\u001b]8;;\u001b\\\u001b[2m:\u001b[0m\u001b]8;id=434847;file:///opt/conda/envs/evo2/lib/python3.12/site-packages/vortex/model/model.py#660\u001b\\\u001b[2m660\u001b[0m\u001b]8;;\u001b\\\n"
      ]
     },
     "metadata": {},
     "output_type": "display_data"
    },
    {
     "data": {
      "text/html": [
       "<pre style=\"white-space:pre;overflow-x:auto;line-height:normal;font-family:Menlo,'DejaVu Sans Mono',consolas,'Courier New',monospace\"><span style=\"color: #7fbfbf; text-decoration-color: #7fbfbf\">                    </span><span style=\"color: #000080; text-decoration-color: #000080\">INFO    </span> StripedHyena - INFO - Parameter count for block <span style=\"color: #008080; text-decoration-color: #008080; font-weight: bold\">13</span>: <span style=\"color: #008080; text-decoration-color: #008080; font-weight: bold\">202559488</span>             <a href=\"file:///opt/conda/envs/evo2/lib/python3.12/site-packages/vortex/model/model.py\" target=\"_blank\"><span style=\"color: #7f7f7f; text-decoration-color: #7f7f7f\">model.py</span></a><span style=\"color: #7f7f7f; text-decoration-color: #7f7f7f\">:</span><a href=\"file:///opt/conda/envs/evo2/lib/python3.12/site-packages/vortex/model/model.py#661\" target=\"_blank\"><span style=\"color: #7f7f7f; text-decoration-color: #7f7f7f\">661</span></a>\n",
       "</pre>\n"
      ],
      "text/plain": [
       "\u001b[2;36m                   \u001b[0m\u001b[2;36m \u001b[0m\u001b[34mINFO    \u001b[0m StripedHyena - INFO - Parameter count for block \u001b[1;36m13\u001b[0m: \u001b[1;36m202559488\u001b[0m             \u001b]8;id=203312;file:///opt/conda/envs/evo2/lib/python3.12/site-packages/vortex/model/model.py\u001b\\\u001b[2mmodel.py\u001b[0m\u001b]8;;\u001b\\\u001b[2m:\u001b[0m\u001b]8;id=284484;file:///opt/conda/envs/evo2/lib/python3.12/site-packages/vortex/model/model.py#661\u001b\\\u001b[2m661\u001b[0m\u001b]8;;\u001b\\\n"
      ]
     },
     "metadata": {},
     "output_type": "display_data"
    },
    {
     "data": {
      "text/html": [
       "<pre style=\"white-space:pre;overflow-x:auto;line-height:normal;font-family:Menlo,'DejaVu Sans Mono',consolas,'Courier New',monospace\"><span style=\"color: #7fbfbf; text-decoration-color: #7fbfbf\">                    </span><span style=\"color: #000080; text-decoration-color: #000080\">INFO    </span> StripedHyena - INFO - Assigned <span style=\"color: #808000; text-decoration-color: #808000\">layer_idx</span>=<span style=\"color: #008080; text-decoration-color: #008080; font-weight: bold\">14</span> to <span style=\"color: #808000; text-decoration-color: #808000\">device</span>=<span style=\"color: #008000; text-decoration-color: #008000\">'cuda:0'</span>            <a href=\"file:///opt/conda/envs/evo2/lib/python3.12/site-packages/vortex/model/model.py\" target=\"_blank\"><span style=\"color: #7f7f7f; text-decoration-color: #7f7f7f\">model.py</span></a><span style=\"color: #7f7f7f; text-decoration-color: #7f7f7f\">:</span><a href=\"file:///opt/conda/envs/evo2/lib/python3.12/site-packages/vortex/model/model.py#660\" target=\"_blank\"><span style=\"color: #7f7f7f; text-decoration-color: #7f7f7f\">660</span></a>\n",
       "</pre>\n"
      ],
      "text/plain": [
       "\u001b[2;36m                   \u001b[0m\u001b[2;36m \u001b[0m\u001b[34mINFO    \u001b[0m StripedHyena - INFO - Assigned \u001b[33mlayer_idx\u001b[0m=\u001b[1;36m14\u001b[0m to \u001b[33mdevice\u001b[0m=\u001b[32m'cuda:0'\u001b[0m            \u001b]8;id=220774;file:///opt/conda/envs/evo2/lib/python3.12/site-packages/vortex/model/model.py\u001b\\\u001b[2mmodel.py\u001b[0m\u001b]8;;\u001b\\\u001b[2m:\u001b[0m\u001b]8;id=515691;file:///opt/conda/envs/evo2/lib/python3.12/site-packages/vortex/model/model.py#660\u001b\\\u001b[2m660\u001b[0m\u001b]8;;\u001b\\\n"
      ]
     },
     "metadata": {},
     "output_type": "display_data"
    },
    {
     "data": {
      "text/html": [
       "<pre style=\"white-space:pre;overflow-x:auto;line-height:normal;font-family:Menlo,'DejaVu Sans Mono',consolas,'Courier New',monospace\"><span style=\"color: #7fbfbf; text-decoration-color: #7fbfbf\">                    </span><span style=\"color: #000080; text-decoration-color: #000080\">INFO    </span> StripedHyena - INFO - Parameter count for block <span style=\"color: #008080; text-decoration-color: #008080; font-weight: bold\">14</span>: <span style=\"color: #008080; text-decoration-color: #008080; font-weight: bold\">202426112</span>             <a href=\"file:///opt/conda/envs/evo2/lib/python3.12/site-packages/vortex/model/model.py\" target=\"_blank\"><span style=\"color: #7f7f7f; text-decoration-color: #7f7f7f\">model.py</span></a><span style=\"color: #7f7f7f; text-decoration-color: #7f7f7f\">:</span><a href=\"file:///opt/conda/envs/evo2/lib/python3.12/site-packages/vortex/model/model.py#661\" target=\"_blank\"><span style=\"color: #7f7f7f; text-decoration-color: #7f7f7f\">661</span></a>\n",
       "</pre>\n"
      ],
      "text/plain": [
       "\u001b[2;36m                   \u001b[0m\u001b[2;36m \u001b[0m\u001b[34mINFO    \u001b[0m StripedHyena - INFO - Parameter count for block \u001b[1;36m14\u001b[0m: \u001b[1;36m202426112\u001b[0m             \u001b]8;id=368493;file:///opt/conda/envs/evo2/lib/python3.12/site-packages/vortex/model/model.py\u001b\\\u001b[2mmodel.py\u001b[0m\u001b]8;;\u001b\\\u001b[2m:\u001b[0m\u001b]8;id=974457;file:///opt/conda/envs/evo2/lib/python3.12/site-packages/vortex/model/model.py#661\u001b\\\u001b[2m661\u001b[0m\u001b]8;;\u001b\\\n"
      ]
     },
     "metadata": {},
     "output_type": "display_data"
    },
    {
     "data": {
      "text/html": [
       "<pre style=\"white-space:pre;overflow-x:auto;line-height:normal;font-family:Menlo,'DejaVu Sans Mono',consolas,'Courier New',monospace\"><span style=\"color: #7fbfbf; text-decoration-color: #7fbfbf\">                    </span><span style=\"color: #000080; text-decoration-color: #000080\">INFO    </span> StripedHyena - INFO - Assigned <span style=\"color: #808000; text-decoration-color: #808000\">layer_idx</span>=<span style=\"color: #008080; text-decoration-color: #008080; font-weight: bold\">15</span> to <span style=\"color: #808000; text-decoration-color: #808000\">device</span>=<span style=\"color: #008000; text-decoration-color: #008000\">'cuda:0'</span>            <a href=\"file:///opt/conda/envs/evo2/lib/python3.12/site-packages/vortex/model/model.py\" target=\"_blank\"><span style=\"color: #7f7f7f; text-decoration-color: #7f7f7f\">model.py</span></a><span style=\"color: #7f7f7f; text-decoration-color: #7f7f7f\">:</span><a href=\"file:///opt/conda/envs/evo2/lib/python3.12/site-packages/vortex/model/model.py#660\" target=\"_blank\"><span style=\"color: #7f7f7f; text-decoration-color: #7f7f7f\">660</span></a>\n",
       "</pre>\n"
      ],
      "text/plain": [
       "\u001b[2;36m                   \u001b[0m\u001b[2;36m \u001b[0m\u001b[34mINFO    \u001b[0m StripedHyena - INFO - Assigned \u001b[33mlayer_idx\u001b[0m=\u001b[1;36m15\u001b[0m to \u001b[33mdevice\u001b[0m=\u001b[32m'cuda:0'\u001b[0m            \u001b]8;id=82068;file:///opt/conda/envs/evo2/lib/python3.12/site-packages/vortex/model/model.py\u001b\\\u001b[2mmodel.py\u001b[0m\u001b]8;;\u001b\\\u001b[2m:\u001b[0m\u001b]8;id=312657;file:///opt/conda/envs/evo2/lib/python3.12/site-packages/vortex/model/model.py#660\u001b\\\u001b[2m660\u001b[0m\u001b]8;;\u001b\\\n"
      ]
     },
     "metadata": {},
     "output_type": "display_data"
    },
    {
     "data": {
      "text/html": [
       "<pre style=\"white-space:pre;overflow-x:auto;line-height:normal;font-family:Menlo,'DejaVu Sans Mono',consolas,'Courier New',monospace\"><span style=\"color: #7fbfbf; text-decoration-color: #7fbfbf\">                    </span><span style=\"color: #000080; text-decoration-color: #000080\">INFO    </span> StripedHyena - INFO - Parameter count for block <span style=\"color: #008080; text-decoration-color: #008080; font-weight: bold\">15</span>: <span style=\"color: #008080; text-decoration-color: #008080; font-weight: bold\">202461184</span>             <a href=\"file:///opt/conda/envs/evo2/lib/python3.12/site-packages/vortex/model/model.py\" target=\"_blank\"><span style=\"color: #7f7f7f; text-decoration-color: #7f7f7f\">model.py</span></a><span style=\"color: #7f7f7f; text-decoration-color: #7f7f7f\">:</span><a href=\"file:///opt/conda/envs/evo2/lib/python3.12/site-packages/vortex/model/model.py#661\" target=\"_blank\"><span style=\"color: #7f7f7f; text-decoration-color: #7f7f7f\">661</span></a>\n",
       "</pre>\n"
      ],
      "text/plain": [
       "\u001b[2;36m                   \u001b[0m\u001b[2;36m \u001b[0m\u001b[34mINFO    \u001b[0m StripedHyena - INFO - Parameter count for block \u001b[1;36m15\u001b[0m: \u001b[1;36m202461184\u001b[0m             \u001b]8;id=507770;file:///opt/conda/envs/evo2/lib/python3.12/site-packages/vortex/model/model.py\u001b\\\u001b[2mmodel.py\u001b[0m\u001b]8;;\u001b\\\u001b[2m:\u001b[0m\u001b]8;id=114740;file:///opt/conda/envs/evo2/lib/python3.12/site-packages/vortex/model/model.py#661\u001b\\\u001b[2m661\u001b[0m\u001b]8;;\u001b\\\n"
      ]
     },
     "metadata": {},
     "output_type": "display_data"
    },
    {
     "data": {
      "text/html": [
       "<pre style=\"white-space:pre;overflow-x:auto;line-height:normal;font-family:Menlo,'DejaVu Sans Mono',consolas,'Courier New',monospace\"><span style=\"color: #7fbfbf; text-decoration-color: #7fbfbf\">                    </span><span style=\"color: #000080; text-decoration-color: #000080\">INFO    </span> StripedHyena - INFO - Assigned <span style=\"color: #808000; text-decoration-color: #808000\">layer_idx</span>=<span style=\"color: #008080; text-decoration-color: #008080; font-weight: bold\">16</span> to <span style=\"color: #808000; text-decoration-color: #808000\">device</span>=<span style=\"color: #008000; text-decoration-color: #008000\">'cuda:0'</span>            <a href=\"file:///opt/conda/envs/evo2/lib/python3.12/site-packages/vortex/model/model.py\" target=\"_blank\"><span style=\"color: #7f7f7f; text-decoration-color: #7f7f7f\">model.py</span></a><span style=\"color: #7f7f7f; text-decoration-color: #7f7f7f\">:</span><a href=\"file:///opt/conda/envs/evo2/lib/python3.12/site-packages/vortex/model/model.py#660\" target=\"_blank\"><span style=\"color: #7f7f7f; text-decoration-color: #7f7f7f\">660</span></a>\n",
       "</pre>\n"
      ],
      "text/plain": [
       "\u001b[2;36m                   \u001b[0m\u001b[2;36m \u001b[0m\u001b[34mINFO    \u001b[0m StripedHyena - INFO - Assigned \u001b[33mlayer_idx\u001b[0m=\u001b[1;36m16\u001b[0m to \u001b[33mdevice\u001b[0m=\u001b[32m'cuda:0'\u001b[0m            \u001b]8;id=930917;file:///opt/conda/envs/evo2/lib/python3.12/site-packages/vortex/model/model.py\u001b\\\u001b[2mmodel.py\u001b[0m\u001b]8;;\u001b\\\u001b[2m:\u001b[0m\u001b]8;id=489612;file:///opt/conda/envs/evo2/lib/python3.12/site-packages/vortex/model/model.py#660\u001b\\\u001b[2m660\u001b[0m\u001b]8;;\u001b\\\n"
      ]
     },
     "metadata": {},
     "output_type": "display_data"
    },
    {
     "data": {
      "text/html": [
       "<pre style=\"white-space:pre;overflow-x:auto;line-height:normal;font-family:Menlo,'DejaVu Sans Mono',consolas,'Courier New',monospace\"><span style=\"color: #7fbfbf; text-decoration-color: #7fbfbf\">                    </span><span style=\"color: #000080; text-decoration-color: #000080\">INFO    </span> StripedHyena - INFO - Parameter count for block <span style=\"color: #008080; text-decoration-color: #008080; font-weight: bold\">16</span>: <span style=\"color: #008080; text-decoration-color: #008080; font-weight: bold\">202559488</span>             <a href=\"file:///opt/conda/envs/evo2/lib/python3.12/site-packages/vortex/model/model.py\" target=\"_blank\"><span style=\"color: #7f7f7f; text-decoration-color: #7f7f7f\">model.py</span></a><span style=\"color: #7f7f7f; text-decoration-color: #7f7f7f\">:</span><a href=\"file:///opt/conda/envs/evo2/lib/python3.12/site-packages/vortex/model/model.py#661\" target=\"_blank\"><span style=\"color: #7f7f7f; text-decoration-color: #7f7f7f\">661</span></a>\n",
       "</pre>\n"
      ],
      "text/plain": [
       "\u001b[2;36m                   \u001b[0m\u001b[2;36m \u001b[0m\u001b[34mINFO    \u001b[0m StripedHyena - INFO - Parameter count for block \u001b[1;36m16\u001b[0m: \u001b[1;36m202559488\u001b[0m             \u001b]8;id=898994;file:///opt/conda/envs/evo2/lib/python3.12/site-packages/vortex/model/model.py\u001b\\\u001b[2mmodel.py\u001b[0m\u001b]8;;\u001b\\\u001b[2m:\u001b[0m\u001b]8;id=254787;file:///opt/conda/envs/evo2/lib/python3.12/site-packages/vortex/model/model.py#661\u001b\\\u001b[2m661\u001b[0m\u001b]8;;\u001b\\\n"
      ]
     },
     "metadata": {},
     "output_type": "display_data"
    },
    {
     "data": {
      "text/html": [
       "<pre style=\"white-space:pre;overflow-x:auto;line-height:normal;font-family:Menlo,'DejaVu Sans Mono',consolas,'Courier New',monospace\"><span style=\"color: #7fbfbf; text-decoration-color: #7fbfbf\">                    </span><span style=\"color: #000080; text-decoration-color: #000080\">INFO    </span> StripedHyena - INFO - Assigned <span style=\"color: #808000; text-decoration-color: #808000\">layer_idx</span>=<span style=\"color: #008080; text-decoration-color: #008080; font-weight: bold\">17</span> to <span style=\"color: #808000; text-decoration-color: #808000\">device</span>=<span style=\"color: #008000; text-decoration-color: #008000\">'cuda:0'</span>            <a href=\"file:///opt/conda/envs/evo2/lib/python3.12/site-packages/vortex/model/model.py\" target=\"_blank\"><span style=\"color: #7f7f7f; text-decoration-color: #7f7f7f\">model.py</span></a><span style=\"color: #7f7f7f; text-decoration-color: #7f7f7f\">:</span><a href=\"file:///opt/conda/envs/evo2/lib/python3.12/site-packages/vortex/model/model.py#660\" target=\"_blank\"><span style=\"color: #7f7f7f; text-decoration-color: #7f7f7f\">660</span></a>\n",
       "</pre>\n"
      ],
      "text/plain": [
       "\u001b[2;36m                   \u001b[0m\u001b[2;36m \u001b[0m\u001b[34mINFO    \u001b[0m StripedHyena - INFO - Assigned \u001b[33mlayer_idx\u001b[0m=\u001b[1;36m17\u001b[0m to \u001b[33mdevice\u001b[0m=\u001b[32m'cuda:0'\u001b[0m            \u001b]8;id=41919;file:///opt/conda/envs/evo2/lib/python3.12/site-packages/vortex/model/model.py\u001b\\\u001b[2mmodel.py\u001b[0m\u001b]8;;\u001b\\\u001b[2m:\u001b[0m\u001b]8;id=971928;file:///opt/conda/envs/evo2/lib/python3.12/site-packages/vortex/model/model.py#660\u001b\\\u001b[2m660\u001b[0m\u001b]8;;\u001b\\\n"
      ]
     },
     "metadata": {},
     "output_type": "display_data"
    },
    {
     "data": {
      "text/html": [
       "<pre style=\"white-space:pre;overflow-x:auto;line-height:normal;font-family:Menlo,'DejaVu Sans Mono',consolas,'Courier New',monospace\"><span style=\"color: #7fbfbf; text-decoration-color: #7fbfbf\">                    </span><span style=\"color: #000080; text-decoration-color: #000080\">INFO    </span> StripedHyena - INFO - Parameter count for block <span style=\"color: #008080; text-decoration-color: #008080; font-weight: bold\">17</span>: <span style=\"color: #008080; text-decoration-color: #008080; font-weight: bold\">202387456</span>             <a href=\"file:///opt/conda/envs/evo2/lib/python3.12/site-packages/vortex/model/model.py\" target=\"_blank\"><span style=\"color: #7f7f7f; text-decoration-color: #7f7f7f\">model.py</span></a><span style=\"color: #7f7f7f; text-decoration-color: #7f7f7f\">:</span><a href=\"file:///opt/conda/envs/evo2/lib/python3.12/site-packages/vortex/model/model.py#661\" target=\"_blank\"><span style=\"color: #7f7f7f; text-decoration-color: #7f7f7f\">661</span></a>\n",
       "</pre>\n"
      ],
      "text/plain": [
       "\u001b[2;36m                   \u001b[0m\u001b[2;36m \u001b[0m\u001b[34mINFO    \u001b[0m StripedHyena - INFO - Parameter count for block \u001b[1;36m17\u001b[0m: \u001b[1;36m202387456\u001b[0m             \u001b]8;id=348218;file:///opt/conda/envs/evo2/lib/python3.12/site-packages/vortex/model/model.py\u001b\\\u001b[2mmodel.py\u001b[0m\u001b]8;;\u001b\\\u001b[2m:\u001b[0m\u001b]8;id=178169;file:///opt/conda/envs/evo2/lib/python3.12/site-packages/vortex/model/model.py#661\u001b\\\u001b[2m661\u001b[0m\u001b]8;;\u001b\\\n"
      ]
     },
     "metadata": {},
     "output_type": "display_data"
    },
    {
     "data": {
      "text/html": [
       "<pre style=\"white-space:pre;overflow-x:auto;line-height:normal;font-family:Menlo,'DejaVu Sans Mono',consolas,'Courier New',monospace\"><span style=\"color: #7fbfbf; text-decoration-color: #7fbfbf\">                    </span><span style=\"color: #000080; text-decoration-color: #000080\">INFO    </span> StripedHyena - INFO - Assigned <span style=\"color: #808000; text-decoration-color: #808000\">layer_idx</span>=<span style=\"color: #008080; text-decoration-color: #008080; font-weight: bold\">18</span> to <span style=\"color: #808000; text-decoration-color: #808000\">device</span>=<span style=\"color: #008000; text-decoration-color: #008000\">'cuda:0'</span>            <a href=\"file:///opt/conda/envs/evo2/lib/python3.12/site-packages/vortex/model/model.py\" target=\"_blank\"><span style=\"color: #7f7f7f; text-decoration-color: #7f7f7f\">model.py</span></a><span style=\"color: #7f7f7f; text-decoration-color: #7f7f7f\">:</span><a href=\"file:///opt/conda/envs/evo2/lib/python3.12/site-packages/vortex/model/model.py#660\" target=\"_blank\"><span style=\"color: #7f7f7f; text-decoration-color: #7f7f7f\">660</span></a>\n",
       "</pre>\n"
      ],
      "text/plain": [
       "\u001b[2;36m                   \u001b[0m\u001b[2;36m \u001b[0m\u001b[34mINFO    \u001b[0m StripedHyena - INFO - Assigned \u001b[33mlayer_idx\u001b[0m=\u001b[1;36m18\u001b[0m to \u001b[33mdevice\u001b[0m=\u001b[32m'cuda:0'\u001b[0m            \u001b]8;id=718166;file:///opt/conda/envs/evo2/lib/python3.12/site-packages/vortex/model/model.py\u001b\\\u001b[2mmodel.py\u001b[0m\u001b]8;;\u001b\\\u001b[2m:\u001b[0m\u001b]8;id=55948;file:///opt/conda/envs/evo2/lib/python3.12/site-packages/vortex/model/model.py#660\u001b\\\u001b[2m660\u001b[0m\u001b]8;;\u001b\\\n"
      ]
     },
     "metadata": {},
     "output_type": "display_data"
    },
    {
     "data": {
      "text/html": [
       "<pre style=\"white-space:pre;overflow-x:auto;line-height:normal;font-family:Menlo,'DejaVu Sans Mono',consolas,'Courier New',monospace\"><span style=\"color: #7fbfbf; text-decoration-color: #7fbfbf\">                    </span><span style=\"color: #000080; text-decoration-color: #000080\">INFO    </span> StripedHyena - INFO - Parameter count for block <span style=\"color: #008080; text-decoration-color: #008080; font-weight: bold\">18</span>: <span style=\"color: #008080; text-decoration-color: #008080; font-weight: bold\">202426112</span>             <a href=\"file:///opt/conda/envs/evo2/lib/python3.12/site-packages/vortex/model/model.py\" target=\"_blank\"><span style=\"color: #7f7f7f; text-decoration-color: #7f7f7f\">model.py</span></a><span style=\"color: #7f7f7f; text-decoration-color: #7f7f7f\">:</span><a href=\"file:///opt/conda/envs/evo2/lib/python3.12/site-packages/vortex/model/model.py#661\" target=\"_blank\"><span style=\"color: #7f7f7f; text-decoration-color: #7f7f7f\">661</span></a>\n",
       "</pre>\n"
      ],
      "text/plain": [
       "\u001b[2;36m                   \u001b[0m\u001b[2;36m \u001b[0m\u001b[34mINFO    \u001b[0m StripedHyena - INFO - Parameter count for block \u001b[1;36m18\u001b[0m: \u001b[1;36m202426112\u001b[0m             \u001b]8;id=750147;file:///opt/conda/envs/evo2/lib/python3.12/site-packages/vortex/model/model.py\u001b\\\u001b[2mmodel.py\u001b[0m\u001b]8;;\u001b\\\u001b[2m:\u001b[0m\u001b]8;id=942809;file:///opt/conda/envs/evo2/lib/python3.12/site-packages/vortex/model/model.py#661\u001b\\\u001b[2m661\u001b[0m\u001b]8;;\u001b\\\n"
      ]
     },
     "metadata": {},
     "output_type": "display_data"
    },
    {
     "data": {
      "text/html": [
       "<pre style=\"white-space:pre;overflow-x:auto;line-height:normal;font-family:Menlo,'DejaVu Sans Mono',consolas,'Courier New',monospace\"><span style=\"color: #7fbfbf; text-decoration-color: #7fbfbf\">                    </span><span style=\"color: #000080; text-decoration-color: #000080\">INFO    </span> StripedHyena - INFO - Assigned <span style=\"color: #808000; text-decoration-color: #808000\">layer_idx</span>=<span style=\"color: #008080; text-decoration-color: #008080; font-weight: bold\">19</span> to <span style=\"color: #808000; text-decoration-color: #808000\">device</span>=<span style=\"color: #008000; text-decoration-color: #008000\">'cuda:0'</span>            <a href=\"file:///opt/conda/envs/evo2/lib/python3.12/site-packages/vortex/model/model.py\" target=\"_blank\"><span style=\"color: #7f7f7f; text-decoration-color: #7f7f7f\">model.py</span></a><span style=\"color: #7f7f7f; text-decoration-color: #7f7f7f\">:</span><a href=\"file:///opt/conda/envs/evo2/lib/python3.12/site-packages/vortex/model/model.py#660\" target=\"_blank\"><span style=\"color: #7f7f7f; text-decoration-color: #7f7f7f\">660</span></a>\n",
       "</pre>\n"
      ],
      "text/plain": [
       "\u001b[2;36m                   \u001b[0m\u001b[2;36m \u001b[0m\u001b[34mINFO    \u001b[0m StripedHyena - INFO - Assigned \u001b[33mlayer_idx\u001b[0m=\u001b[1;36m19\u001b[0m to \u001b[33mdevice\u001b[0m=\u001b[32m'cuda:0'\u001b[0m            \u001b]8;id=340012;file:///opt/conda/envs/evo2/lib/python3.12/site-packages/vortex/model/model.py\u001b\\\u001b[2mmodel.py\u001b[0m\u001b]8;;\u001b\\\u001b[2m:\u001b[0m\u001b]8;id=448360;file:///opt/conda/envs/evo2/lib/python3.12/site-packages/vortex/model/model.py#660\u001b\\\u001b[2m660\u001b[0m\u001b]8;;\u001b\\\n"
      ]
     },
     "metadata": {},
     "output_type": "display_data"
    },
    {
     "data": {
      "text/html": [
       "<pre style=\"white-space:pre;overflow-x:auto;line-height:normal;font-family:Menlo,'DejaVu Sans Mono',consolas,'Courier New',monospace\"><span style=\"color: #7fbfbf; text-decoration-color: #7fbfbf\">                    </span><span style=\"color: #000080; text-decoration-color: #000080\">INFO    </span> StripedHyena - INFO - Parameter count for block <span style=\"color: #008080; text-decoration-color: #008080; font-weight: bold\">19</span>: <span style=\"color: #008080; text-decoration-color: #008080; font-weight: bold\">202461184</span>             <a href=\"file:///opt/conda/envs/evo2/lib/python3.12/site-packages/vortex/model/model.py\" target=\"_blank\"><span style=\"color: #7f7f7f; text-decoration-color: #7f7f7f\">model.py</span></a><span style=\"color: #7f7f7f; text-decoration-color: #7f7f7f\">:</span><a href=\"file:///opt/conda/envs/evo2/lib/python3.12/site-packages/vortex/model/model.py#661\" target=\"_blank\"><span style=\"color: #7f7f7f; text-decoration-color: #7f7f7f\">661</span></a>\n",
       "</pre>\n"
      ],
      "text/plain": [
       "\u001b[2;36m                   \u001b[0m\u001b[2;36m \u001b[0m\u001b[34mINFO    \u001b[0m StripedHyena - INFO - Parameter count for block \u001b[1;36m19\u001b[0m: \u001b[1;36m202461184\u001b[0m             \u001b]8;id=137965;file:///opt/conda/envs/evo2/lib/python3.12/site-packages/vortex/model/model.py\u001b\\\u001b[2mmodel.py\u001b[0m\u001b]8;;\u001b\\\u001b[2m:\u001b[0m\u001b]8;id=305823;file:///opt/conda/envs/evo2/lib/python3.12/site-packages/vortex/model/model.py#661\u001b\\\u001b[2m661\u001b[0m\u001b]8;;\u001b\\\n"
      ]
     },
     "metadata": {},
     "output_type": "display_data"
    },
    {
     "name": "stderr",
     "output_type": "stream",
     "text": [
      " 62%|██████▎   | 20/32 [00:00<00:00, 97.02it/s]"
     ]
    },
    {
     "data": {
      "text/html": [
       "<pre style=\"white-space:pre;overflow-x:auto;line-height:normal;font-family:Menlo,'DejaVu Sans Mono',consolas,'Courier New',monospace\"><span style=\"color: #7fbfbf; text-decoration-color: #7fbfbf\">                    </span><span style=\"color: #000080; text-decoration-color: #000080\">INFO    </span> StripedHyena - INFO - Assigned <span style=\"color: #808000; text-decoration-color: #808000\">layer_idx</span>=<span style=\"color: #008080; text-decoration-color: #008080; font-weight: bold\">20</span> to <span style=\"color: #808000; text-decoration-color: #808000\">device</span>=<span style=\"color: #008000; text-decoration-color: #008000\">'cuda:0'</span>            <a href=\"file:///opt/conda/envs/evo2/lib/python3.12/site-packages/vortex/model/model.py\" target=\"_blank\"><span style=\"color: #7f7f7f; text-decoration-color: #7f7f7f\">model.py</span></a><span style=\"color: #7f7f7f; text-decoration-color: #7f7f7f\">:</span><a href=\"file:///opt/conda/envs/evo2/lib/python3.12/site-packages/vortex/model/model.py#660\" target=\"_blank\"><span style=\"color: #7f7f7f; text-decoration-color: #7f7f7f\">660</span></a>\n",
       "</pre>\n"
      ],
      "text/plain": [
       "\u001b[2;36m                   \u001b[0m\u001b[2;36m \u001b[0m\u001b[34mINFO    \u001b[0m StripedHyena - INFO - Assigned \u001b[33mlayer_idx\u001b[0m=\u001b[1;36m20\u001b[0m to \u001b[33mdevice\u001b[0m=\u001b[32m'cuda:0'\u001b[0m            \u001b]8;id=464839;file:///opt/conda/envs/evo2/lib/python3.12/site-packages/vortex/model/model.py\u001b\\\u001b[2mmodel.py\u001b[0m\u001b]8;;\u001b\\\u001b[2m:\u001b[0m\u001b]8;id=329732;file:///opt/conda/envs/evo2/lib/python3.12/site-packages/vortex/model/model.py#660\u001b\\\u001b[2m660\u001b[0m\u001b]8;;\u001b\\\n"
      ]
     },
     "metadata": {},
     "output_type": "display_data"
    },
    {
     "data": {
      "text/html": [
       "<pre style=\"white-space:pre;overflow-x:auto;line-height:normal;font-family:Menlo,'DejaVu Sans Mono',consolas,'Courier New',monospace\"><span style=\"color: #7fbfbf; text-decoration-color: #7fbfbf\">                    </span><span style=\"color: #000080; text-decoration-color: #000080\">INFO    </span> StripedHyena - INFO - Parameter count for block <span style=\"color: #008080; text-decoration-color: #008080; font-weight: bold\">20</span>: <span style=\"color: #008080; text-decoration-color: #008080; font-weight: bold\">202559488</span>             <a href=\"file:///opt/conda/envs/evo2/lib/python3.12/site-packages/vortex/model/model.py\" target=\"_blank\"><span style=\"color: #7f7f7f; text-decoration-color: #7f7f7f\">model.py</span></a><span style=\"color: #7f7f7f; text-decoration-color: #7f7f7f\">:</span><a href=\"file:///opt/conda/envs/evo2/lib/python3.12/site-packages/vortex/model/model.py#661\" target=\"_blank\"><span style=\"color: #7f7f7f; text-decoration-color: #7f7f7f\">661</span></a>\n",
       "</pre>\n"
      ],
      "text/plain": [
       "\u001b[2;36m                   \u001b[0m\u001b[2;36m \u001b[0m\u001b[34mINFO    \u001b[0m StripedHyena - INFO - Parameter count for block \u001b[1;36m20\u001b[0m: \u001b[1;36m202559488\u001b[0m             \u001b]8;id=312366;file:///opt/conda/envs/evo2/lib/python3.12/site-packages/vortex/model/model.py\u001b\\\u001b[2mmodel.py\u001b[0m\u001b]8;;\u001b\\\u001b[2m:\u001b[0m\u001b]8;id=295082;file:///opt/conda/envs/evo2/lib/python3.12/site-packages/vortex/model/model.py#661\u001b\\\u001b[2m661\u001b[0m\u001b]8;;\u001b\\\n"
      ]
     },
     "metadata": {},
     "output_type": "display_data"
    },
    {
     "data": {
      "text/html": [
       "<pre style=\"white-space:pre;overflow-x:auto;line-height:normal;font-family:Menlo,'DejaVu Sans Mono',consolas,'Courier New',monospace\"><span style=\"color: #7fbfbf; text-decoration-color: #7fbfbf\">                    </span><span style=\"color: #000080; text-decoration-color: #000080\">INFO    </span> StripedHyena - INFO - Assigned <span style=\"color: #808000; text-decoration-color: #808000\">layer_idx</span>=<span style=\"color: #008080; text-decoration-color: #008080; font-weight: bold\">21</span> to <span style=\"color: #808000; text-decoration-color: #808000\">device</span>=<span style=\"color: #008000; text-decoration-color: #008000\">'cuda:0'</span>            <a href=\"file:///opt/conda/envs/evo2/lib/python3.12/site-packages/vortex/model/model.py\" target=\"_blank\"><span style=\"color: #7f7f7f; text-decoration-color: #7f7f7f\">model.py</span></a><span style=\"color: #7f7f7f; text-decoration-color: #7f7f7f\">:</span><a href=\"file:///opt/conda/envs/evo2/lib/python3.12/site-packages/vortex/model/model.py#660\" target=\"_blank\"><span style=\"color: #7f7f7f; text-decoration-color: #7f7f7f\">660</span></a>\n",
       "</pre>\n"
      ],
      "text/plain": [
       "\u001b[2;36m                   \u001b[0m\u001b[2;36m \u001b[0m\u001b[34mINFO    \u001b[0m StripedHyena - INFO - Assigned \u001b[33mlayer_idx\u001b[0m=\u001b[1;36m21\u001b[0m to \u001b[33mdevice\u001b[0m=\u001b[32m'cuda:0'\u001b[0m            \u001b]8;id=856561;file:///opt/conda/envs/evo2/lib/python3.12/site-packages/vortex/model/model.py\u001b\\\u001b[2mmodel.py\u001b[0m\u001b]8;;\u001b\\\u001b[2m:\u001b[0m\u001b]8;id=855818;file:///opt/conda/envs/evo2/lib/python3.12/site-packages/vortex/model/model.py#660\u001b\\\u001b[2m660\u001b[0m\u001b]8;;\u001b\\\n"
      ]
     },
     "metadata": {},
     "output_type": "display_data"
    },
    {
     "data": {
      "text/html": [
       "<pre style=\"white-space:pre;overflow-x:auto;line-height:normal;font-family:Menlo,'DejaVu Sans Mono',consolas,'Courier New',monospace\"><span style=\"color: #7fbfbf; text-decoration-color: #7fbfbf\">                    </span><span style=\"color: #000080; text-decoration-color: #000080\">INFO    </span> StripedHyena - INFO - Parameter count for block <span style=\"color: #008080; text-decoration-color: #008080; font-weight: bold\">21</span>: <span style=\"color: #008080; text-decoration-color: #008080; font-weight: bold\">202426112</span>             <a href=\"file:///opt/conda/envs/evo2/lib/python3.12/site-packages/vortex/model/model.py\" target=\"_blank\"><span style=\"color: #7f7f7f; text-decoration-color: #7f7f7f\">model.py</span></a><span style=\"color: #7f7f7f; text-decoration-color: #7f7f7f\">:</span><a href=\"file:///opt/conda/envs/evo2/lib/python3.12/site-packages/vortex/model/model.py#661\" target=\"_blank\"><span style=\"color: #7f7f7f; text-decoration-color: #7f7f7f\">661</span></a>\n",
       "</pre>\n"
      ],
      "text/plain": [
       "\u001b[2;36m                   \u001b[0m\u001b[2;36m \u001b[0m\u001b[34mINFO    \u001b[0m StripedHyena - INFO - Parameter count for block \u001b[1;36m21\u001b[0m: \u001b[1;36m202426112\u001b[0m             \u001b]8;id=463999;file:///opt/conda/envs/evo2/lib/python3.12/site-packages/vortex/model/model.py\u001b\\\u001b[2mmodel.py\u001b[0m\u001b]8;;\u001b\\\u001b[2m:\u001b[0m\u001b]8;id=335652;file:///opt/conda/envs/evo2/lib/python3.12/site-packages/vortex/model/model.py#661\u001b\\\u001b[2m661\u001b[0m\u001b]8;;\u001b\\\n"
      ]
     },
     "metadata": {},
     "output_type": "display_data"
    },
    {
     "data": {
      "text/html": [
       "<pre style=\"white-space:pre;overflow-x:auto;line-height:normal;font-family:Menlo,'DejaVu Sans Mono',consolas,'Courier New',monospace\"><span style=\"color: #7fbfbf; text-decoration-color: #7fbfbf\">                    </span><span style=\"color: #000080; text-decoration-color: #000080\">INFO    </span> StripedHyena - INFO - Assigned <span style=\"color: #808000; text-decoration-color: #808000\">layer_idx</span>=<span style=\"color: #008080; text-decoration-color: #008080; font-weight: bold\">22</span> to <span style=\"color: #808000; text-decoration-color: #808000\">device</span>=<span style=\"color: #008000; text-decoration-color: #008000\">'cuda:0'</span>            <a href=\"file:///opt/conda/envs/evo2/lib/python3.12/site-packages/vortex/model/model.py\" target=\"_blank\"><span style=\"color: #7f7f7f; text-decoration-color: #7f7f7f\">model.py</span></a><span style=\"color: #7f7f7f; text-decoration-color: #7f7f7f\">:</span><a href=\"file:///opt/conda/envs/evo2/lib/python3.12/site-packages/vortex/model/model.py#660\" target=\"_blank\"><span style=\"color: #7f7f7f; text-decoration-color: #7f7f7f\">660</span></a>\n",
       "</pre>\n"
      ],
      "text/plain": [
       "\u001b[2;36m                   \u001b[0m\u001b[2;36m \u001b[0m\u001b[34mINFO    \u001b[0m StripedHyena - INFO - Assigned \u001b[33mlayer_idx\u001b[0m=\u001b[1;36m22\u001b[0m to \u001b[33mdevice\u001b[0m=\u001b[32m'cuda:0'\u001b[0m            \u001b]8;id=742906;file:///opt/conda/envs/evo2/lib/python3.12/site-packages/vortex/model/model.py\u001b\\\u001b[2mmodel.py\u001b[0m\u001b]8;;\u001b\\\u001b[2m:\u001b[0m\u001b]8;id=978967;file:///opt/conda/envs/evo2/lib/python3.12/site-packages/vortex/model/model.py#660\u001b\\\u001b[2m660\u001b[0m\u001b]8;;\u001b\\\n"
      ]
     },
     "metadata": {},
     "output_type": "display_data"
    },
    {
     "data": {
      "text/html": [
       "<pre style=\"white-space:pre;overflow-x:auto;line-height:normal;font-family:Menlo,'DejaVu Sans Mono',consolas,'Courier New',monospace\"><span style=\"color: #7fbfbf; text-decoration-color: #7fbfbf\">                    </span><span style=\"color: #000080; text-decoration-color: #000080\">INFO    </span> StripedHyena - INFO - Parameter count for block <span style=\"color: #008080; text-decoration-color: #008080; font-weight: bold\">22</span>: <span style=\"color: #008080; text-decoration-color: #008080; font-weight: bold\">202461184</span>             <a href=\"file:///opt/conda/envs/evo2/lib/python3.12/site-packages/vortex/model/model.py\" target=\"_blank\"><span style=\"color: #7f7f7f; text-decoration-color: #7f7f7f\">model.py</span></a><span style=\"color: #7f7f7f; text-decoration-color: #7f7f7f\">:</span><a href=\"file:///opt/conda/envs/evo2/lib/python3.12/site-packages/vortex/model/model.py#661\" target=\"_blank\"><span style=\"color: #7f7f7f; text-decoration-color: #7f7f7f\">661</span></a>\n",
       "</pre>\n"
      ],
      "text/plain": [
       "\u001b[2;36m                   \u001b[0m\u001b[2;36m \u001b[0m\u001b[34mINFO    \u001b[0m StripedHyena - INFO - Parameter count for block \u001b[1;36m22\u001b[0m: \u001b[1;36m202461184\u001b[0m             \u001b]8;id=695781;file:///opt/conda/envs/evo2/lib/python3.12/site-packages/vortex/model/model.py\u001b\\\u001b[2mmodel.py\u001b[0m\u001b]8;;\u001b\\\u001b[2m:\u001b[0m\u001b]8;id=90654;file:///opt/conda/envs/evo2/lib/python3.12/site-packages/vortex/model/model.py#661\u001b\\\u001b[2m661\u001b[0m\u001b]8;;\u001b\\\n"
      ]
     },
     "metadata": {},
     "output_type": "display_data"
    },
    {
     "data": {
      "text/html": [
       "<pre style=\"white-space:pre;overflow-x:auto;line-height:normal;font-family:Menlo,'DejaVu Sans Mono',consolas,'Courier New',monospace\"><span style=\"color: #7fbfbf; text-decoration-color: #7fbfbf\">                    </span><span style=\"color: #000080; text-decoration-color: #000080\">INFO    </span> StripedHyena - INFO - Assigned <span style=\"color: #808000; text-decoration-color: #808000\">layer_idx</span>=<span style=\"color: #008080; text-decoration-color: #008080; font-weight: bold\">23</span> to <span style=\"color: #808000; text-decoration-color: #808000\">device</span>=<span style=\"color: #008000; text-decoration-color: #008000\">'cuda:0'</span>            <a href=\"file:///opt/conda/envs/evo2/lib/python3.12/site-packages/vortex/model/model.py\" target=\"_blank\"><span style=\"color: #7f7f7f; text-decoration-color: #7f7f7f\">model.py</span></a><span style=\"color: #7f7f7f; text-decoration-color: #7f7f7f\">:</span><a href=\"file:///opt/conda/envs/evo2/lib/python3.12/site-packages/vortex/model/model.py#660\" target=\"_blank\"><span style=\"color: #7f7f7f; text-decoration-color: #7f7f7f\">660</span></a>\n",
       "</pre>\n"
      ],
      "text/plain": [
       "\u001b[2;36m                   \u001b[0m\u001b[2;36m \u001b[0m\u001b[34mINFO    \u001b[0m StripedHyena - INFO - Assigned \u001b[33mlayer_idx\u001b[0m=\u001b[1;36m23\u001b[0m to \u001b[33mdevice\u001b[0m=\u001b[32m'cuda:0'\u001b[0m            \u001b]8;id=565645;file:///opt/conda/envs/evo2/lib/python3.12/site-packages/vortex/model/model.py\u001b\\\u001b[2mmodel.py\u001b[0m\u001b]8;;\u001b\\\u001b[2m:\u001b[0m\u001b]8;id=656837;file:///opt/conda/envs/evo2/lib/python3.12/site-packages/vortex/model/model.py#660\u001b\\\u001b[2m660\u001b[0m\u001b]8;;\u001b\\\n"
      ]
     },
     "metadata": {},
     "output_type": "display_data"
    },
    {
     "data": {
      "text/html": [
       "<pre style=\"white-space:pre;overflow-x:auto;line-height:normal;font-family:Menlo,'DejaVu Sans Mono',consolas,'Courier New',monospace\"><span style=\"color: #7fbfbf; text-decoration-color: #7fbfbf\">                    </span><span style=\"color: #000080; text-decoration-color: #000080\">INFO    </span> StripedHyena - INFO - Parameter count for block <span style=\"color: #008080; text-decoration-color: #008080; font-weight: bold\">23</span>: <span style=\"color: #008080; text-decoration-color: #008080; font-weight: bold\">202559488</span>             <a href=\"file:///opt/conda/envs/evo2/lib/python3.12/site-packages/vortex/model/model.py\" target=\"_blank\"><span style=\"color: #7f7f7f; text-decoration-color: #7f7f7f\">model.py</span></a><span style=\"color: #7f7f7f; text-decoration-color: #7f7f7f\">:</span><a href=\"file:///opt/conda/envs/evo2/lib/python3.12/site-packages/vortex/model/model.py#661\" target=\"_blank\"><span style=\"color: #7f7f7f; text-decoration-color: #7f7f7f\">661</span></a>\n",
       "</pre>\n"
      ],
      "text/plain": [
       "\u001b[2;36m                   \u001b[0m\u001b[2;36m \u001b[0m\u001b[34mINFO    \u001b[0m StripedHyena - INFO - Parameter count for block \u001b[1;36m23\u001b[0m: \u001b[1;36m202559488\u001b[0m             \u001b]8;id=594836;file:///opt/conda/envs/evo2/lib/python3.12/site-packages/vortex/model/model.py\u001b\\\u001b[2mmodel.py\u001b[0m\u001b]8;;\u001b\\\u001b[2m:\u001b[0m\u001b]8;id=574150;file:///opt/conda/envs/evo2/lib/python3.12/site-packages/vortex/model/model.py#661\u001b\\\u001b[2m661\u001b[0m\u001b]8;;\u001b\\\n"
      ]
     },
     "metadata": {},
     "output_type": "display_data"
    },
    {
     "data": {
      "text/html": [
       "<pre style=\"white-space:pre;overflow-x:auto;line-height:normal;font-family:Menlo,'DejaVu Sans Mono',consolas,'Courier New',monospace\"><span style=\"color: #7fbfbf; text-decoration-color: #7fbfbf\">                    </span><span style=\"color: #000080; text-decoration-color: #000080\">INFO    </span> StripedHyena - INFO - Assigned <span style=\"color: #808000; text-decoration-color: #808000\">layer_idx</span>=<span style=\"color: #008080; text-decoration-color: #008080; font-weight: bold\">24</span> to <span style=\"color: #808000; text-decoration-color: #808000\">device</span>=<span style=\"color: #008000; text-decoration-color: #008000\">'cuda:0'</span>            <a href=\"file:///opt/conda/envs/evo2/lib/python3.12/site-packages/vortex/model/model.py\" target=\"_blank\"><span style=\"color: #7f7f7f; text-decoration-color: #7f7f7f\">model.py</span></a><span style=\"color: #7f7f7f; text-decoration-color: #7f7f7f\">:</span><a href=\"file:///opt/conda/envs/evo2/lib/python3.12/site-packages/vortex/model/model.py#660\" target=\"_blank\"><span style=\"color: #7f7f7f; text-decoration-color: #7f7f7f\">660</span></a>\n",
       "</pre>\n"
      ],
      "text/plain": [
       "\u001b[2;36m                   \u001b[0m\u001b[2;36m \u001b[0m\u001b[34mINFO    \u001b[0m StripedHyena - INFO - Assigned \u001b[33mlayer_idx\u001b[0m=\u001b[1;36m24\u001b[0m to \u001b[33mdevice\u001b[0m=\u001b[32m'cuda:0'\u001b[0m            \u001b]8;id=810563;file:///opt/conda/envs/evo2/lib/python3.12/site-packages/vortex/model/model.py\u001b\\\u001b[2mmodel.py\u001b[0m\u001b]8;;\u001b\\\u001b[2m:\u001b[0m\u001b]8;id=799333;file:///opt/conda/envs/evo2/lib/python3.12/site-packages/vortex/model/model.py#660\u001b\\\u001b[2m660\u001b[0m\u001b]8;;\u001b\\\n"
      ]
     },
     "metadata": {},
     "output_type": "display_data"
    },
    {
     "data": {
      "text/html": [
       "<pre style=\"white-space:pre;overflow-x:auto;line-height:normal;font-family:Menlo,'DejaVu Sans Mono',consolas,'Courier New',monospace\"><span style=\"color: #7fbfbf; text-decoration-color: #7fbfbf\">                    </span><span style=\"color: #000080; text-decoration-color: #000080\">INFO    </span> StripedHyena - INFO - Parameter count for block <span style=\"color: #008080; text-decoration-color: #008080; font-weight: bold\">24</span>: <span style=\"color: #008080; text-decoration-color: #008080; font-weight: bold\">202387456</span>             <a href=\"file:///opt/conda/envs/evo2/lib/python3.12/site-packages/vortex/model/model.py\" target=\"_blank\"><span style=\"color: #7f7f7f; text-decoration-color: #7f7f7f\">model.py</span></a><span style=\"color: #7f7f7f; text-decoration-color: #7f7f7f\">:</span><a href=\"file:///opt/conda/envs/evo2/lib/python3.12/site-packages/vortex/model/model.py#661\" target=\"_blank\"><span style=\"color: #7f7f7f; text-decoration-color: #7f7f7f\">661</span></a>\n",
       "</pre>\n"
      ],
      "text/plain": [
       "\u001b[2;36m                   \u001b[0m\u001b[2;36m \u001b[0m\u001b[34mINFO    \u001b[0m StripedHyena - INFO - Parameter count for block \u001b[1;36m24\u001b[0m: \u001b[1;36m202387456\u001b[0m             \u001b]8;id=841312;file:///opt/conda/envs/evo2/lib/python3.12/site-packages/vortex/model/model.py\u001b\\\u001b[2mmodel.py\u001b[0m\u001b]8;;\u001b\\\u001b[2m:\u001b[0m\u001b]8;id=239409;file:///opt/conda/envs/evo2/lib/python3.12/site-packages/vortex/model/model.py#661\u001b\\\u001b[2m661\u001b[0m\u001b]8;;\u001b\\\n"
      ]
     },
     "metadata": {},
     "output_type": "display_data"
    },
    {
     "data": {
      "text/html": [
       "<pre style=\"white-space:pre;overflow-x:auto;line-height:normal;font-family:Menlo,'DejaVu Sans Mono',consolas,'Courier New',monospace\"><span style=\"color: #7fbfbf; text-decoration-color: #7fbfbf\">                    </span><span style=\"color: #000080; text-decoration-color: #000080\">INFO    </span> StripedHyena - INFO - Assigned <span style=\"color: #808000; text-decoration-color: #808000\">layer_idx</span>=<span style=\"color: #008080; text-decoration-color: #008080; font-weight: bold\">25</span> to <span style=\"color: #808000; text-decoration-color: #808000\">device</span>=<span style=\"color: #008000; text-decoration-color: #008000\">'cuda:0'</span>            <a href=\"file:///opt/conda/envs/evo2/lib/python3.12/site-packages/vortex/model/model.py\" target=\"_blank\"><span style=\"color: #7f7f7f; text-decoration-color: #7f7f7f\">model.py</span></a><span style=\"color: #7f7f7f; text-decoration-color: #7f7f7f\">:</span><a href=\"file:///opt/conda/envs/evo2/lib/python3.12/site-packages/vortex/model/model.py#660\" target=\"_blank\"><span style=\"color: #7f7f7f; text-decoration-color: #7f7f7f\">660</span></a>\n",
       "</pre>\n"
      ],
      "text/plain": [
       "\u001b[2;36m                   \u001b[0m\u001b[2;36m \u001b[0m\u001b[34mINFO    \u001b[0m StripedHyena - INFO - Assigned \u001b[33mlayer_idx\u001b[0m=\u001b[1;36m25\u001b[0m to \u001b[33mdevice\u001b[0m=\u001b[32m'cuda:0'\u001b[0m            \u001b]8;id=834504;file:///opt/conda/envs/evo2/lib/python3.12/site-packages/vortex/model/model.py\u001b\\\u001b[2mmodel.py\u001b[0m\u001b]8;;\u001b\\\u001b[2m:\u001b[0m\u001b]8;id=595040;file:///opt/conda/envs/evo2/lib/python3.12/site-packages/vortex/model/model.py#660\u001b\\\u001b[2m660\u001b[0m\u001b]8;;\u001b\\\n"
      ]
     },
     "metadata": {},
     "output_type": "display_data"
    },
    {
     "data": {
      "text/html": [
       "<pre style=\"white-space:pre;overflow-x:auto;line-height:normal;font-family:Menlo,'DejaVu Sans Mono',consolas,'Courier New',monospace\"><span style=\"color: #7fbfbf; text-decoration-color: #7fbfbf\">                    </span><span style=\"color: #000080; text-decoration-color: #000080\">INFO    </span> StripedHyena - INFO - Parameter count for block <span style=\"color: #008080; text-decoration-color: #008080; font-weight: bold\">25</span>: <span style=\"color: #008080; text-decoration-color: #008080; font-weight: bold\">202426112</span>             <a href=\"file:///opt/conda/envs/evo2/lib/python3.12/site-packages/vortex/model/model.py\" target=\"_blank\"><span style=\"color: #7f7f7f; text-decoration-color: #7f7f7f\">model.py</span></a><span style=\"color: #7f7f7f; text-decoration-color: #7f7f7f\">:</span><a href=\"file:///opt/conda/envs/evo2/lib/python3.12/site-packages/vortex/model/model.py#661\" target=\"_blank\"><span style=\"color: #7f7f7f; text-decoration-color: #7f7f7f\">661</span></a>\n",
       "</pre>\n"
      ],
      "text/plain": [
       "\u001b[2;36m                   \u001b[0m\u001b[2;36m \u001b[0m\u001b[34mINFO    \u001b[0m StripedHyena - INFO - Parameter count for block \u001b[1;36m25\u001b[0m: \u001b[1;36m202426112\u001b[0m             \u001b]8;id=425825;file:///opt/conda/envs/evo2/lib/python3.12/site-packages/vortex/model/model.py\u001b\\\u001b[2mmodel.py\u001b[0m\u001b]8;;\u001b\\\u001b[2m:\u001b[0m\u001b]8;id=542552;file:///opt/conda/envs/evo2/lib/python3.12/site-packages/vortex/model/model.py#661\u001b\\\u001b[2m661\u001b[0m\u001b]8;;\u001b\\\n"
      ]
     },
     "metadata": {},
     "output_type": "display_data"
    },
    {
     "data": {
      "text/html": [
       "<pre style=\"white-space:pre;overflow-x:auto;line-height:normal;font-family:Menlo,'DejaVu Sans Mono',consolas,'Courier New',monospace\"><span style=\"color: #7fbfbf; text-decoration-color: #7fbfbf\">                    </span><span style=\"color: #000080; text-decoration-color: #000080\">INFO    </span> StripedHyena - INFO - Assigned <span style=\"color: #808000; text-decoration-color: #808000\">layer_idx</span>=<span style=\"color: #008080; text-decoration-color: #008080; font-weight: bold\">26</span> to <span style=\"color: #808000; text-decoration-color: #808000\">device</span>=<span style=\"color: #008000; text-decoration-color: #008000\">'cuda:0'</span>            <a href=\"file:///opt/conda/envs/evo2/lib/python3.12/site-packages/vortex/model/model.py\" target=\"_blank\"><span style=\"color: #7f7f7f; text-decoration-color: #7f7f7f\">model.py</span></a><span style=\"color: #7f7f7f; text-decoration-color: #7f7f7f\">:</span><a href=\"file:///opt/conda/envs/evo2/lib/python3.12/site-packages/vortex/model/model.py#660\" target=\"_blank\"><span style=\"color: #7f7f7f; text-decoration-color: #7f7f7f\">660</span></a>\n",
       "</pre>\n"
      ],
      "text/plain": [
       "\u001b[2;36m                   \u001b[0m\u001b[2;36m \u001b[0m\u001b[34mINFO    \u001b[0m StripedHyena - INFO - Assigned \u001b[33mlayer_idx\u001b[0m=\u001b[1;36m26\u001b[0m to \u001b[33mdevice\u001b[0m=\u001b[32m'cuda:0'\u001b[0m            \u001b]8;id=858384;file:///opt/conda/envs/evo2/lib/python3.12/site-packages/vortex/model/model.py\u001b\\\u001b[2mmodel.py\u001b[0m\u001b]8;;\u001b\\\u001b[2m:\u001b[0m\u001b]8;id=171724;file:///opt/conda/envs/evo2/lib/python3.12/site-packages/vortex/model/model.py#660\u001b\\\u001b[2m660\u001b[0m\u001b]8;;\u001b\\\n"
      ]
     },
     "metadata": {},
     "output_type": "display_data"
    },
    {
     "data": {
      "text/html": [
       "<pre style=\"white-space:pre;overflow-x:auto;line-height:normal;font-family:Menlo,'DejaVu Sans Mono',consolas,'Courier New',monospace\"><span style=\"color: #7fbfbf; text-decoration-color: #7fbfbf\">                    </span><span style=\"color: #000080; text-decoration-color: #000080\">INFO    </span> StripedHyena - INFO - Parameter count for block <span style=\"color: #008080; text-decoration-color: #008080; font-weight: bold\">26</span>: <span style=\"color: #008080; text-decoration-color: #008080; font-weight: bold\">202461184</span>             <a href=\"file:///opt/conda/envs/evo2/lib/python3.12/site-packages/vortex/model/model.py\" target=\"_blank\"><span style=\"color: #7f7f7f; text-decoration-color: #7f7f7f\">model.py</span></a><span style=\"color: #7f7f7f; text-decoration-color: #7f7f7f\">:</span><a href=\"file:///opt/conda/envs/evo2/lib/python3.12/site-packages/vortex/model/model.py#661\" target=\"_blank\"><span style=\"color: #7f7f7f; text-decoration-color: #7f7f7f\">661</span></a>\n",
       "</pre>\n"
      ],
      "text/plain": [
       "\u001b[2;36m                   \u001b[0m\u001b[2;36m \u001b[0m\u001b[34mINFO    \u001b[0m StripedHyena - INFO - Parameter count for block \u001b[1;36m26\u001b[0m: \u001b[1;36m202461184\u001b[0m             \u001b]8;id=986832;file:///opt/conda/envs/evo2/lib/python3.12/site-packages/vortex/model/model.py\u001b\\\u001b[2mmodel.py\u001b[0m\u001b]8;;\u001b\\\u001b[2m:\u001b[0m\u001b]8;id=812306;file:///opt/conda/envs/evo2/lib/python3.12/site-packages/vortex/model/model.py#661\u001b\\\u001b[2m661\u001b[0m\u001b]8;;\u001b\\\n"
      ]
     },
     "metadata": {},
     "output_type": "display_data"
    },
    {
     "data": {
      "text/html": [
       "<pre style=\"white-space:pre;overflow-x:auto;line-height:normal;font-family:Menlo,'DejaVu Sans Mono',consolas,'Courier New',monospace\"><span style=\"color: #7fbfbf; text-decoration-color: #7fbfbf\">                    </span><span style=\"color: #000080; text-decoration-color: #000080\">INFO    </span> StripedHyena - INFO - Assigned <span style=\"color: #808000; text-decoration-color: #808000\">layer_idx</span>=<span style=\"color: #008080; text-decoration-color: #008080; font-weight: bold\">27</span> to <span style=\"color: #808000; text-decoration-color: #808000\">device</span>=<span style=\"color: #008000; text-decoration-color: #008000\">'cuda:0'</span>            <a href=\"file:///opt/conda/envs/evo2/lib/python3.12/site-packages/vortex/model/model.py\" target=\"_blank\"><span style=\"color: #7f7f7f; text-decoration-color: #7f7f7f\">model.py</span></a><span style=\"color: #7f7f7f; text-decoration-color: #7f7f7f\">:</span><a href=\"file:///opt/conda/envs/evo2/lib/python3.12/site-packages/vortex/model/model.py#660\" target=\"_blank\"><span style=\"color: #7f7f7f; text-decoration-color: #7f7f7f\">660</span></a>\n",
       "</pre>\n"
      ],
      "text/plain": [
       "\u001b[2;36m                   \u001b[0m\u001b[2;36m \u001b[0m\u001b[34mINFO    \u001b[0m StripedHyena - INFO - Assigned \u001b[33mlayer_idx\u001b[0m=\u001b[1;36m27\u001b[0m to \u001b[33mdevice\u001b[0m=\u001b[32m'cuda:0'\u001b[0m            \u001b]8;id=36933;file:///opt/conda/envs/evo2/lib/python3.12/site-packages/vortex/model/model.py\u001b\\\u001b[2mmodel.py\u001b[0m\u001b]8;;\u001b\\\u001b[2m:\u001b[0m\u001b]8;id=255419;file:///opt/conda/envs/evo2/lib/python3.12/site-packages/vortex/model/model.py#660\u001b\\\u001b[2m660\u001b[0m\u001b]8;;\u001b\\\n"
      ]
     },
     "metadata": {},
     "output_type": "display_data"
    },
    {
     "data": {
      "text/html": [
       "<pre style=\"white-space:pre;overflow-x:auto;line-height:normal;font-family:Menlo,'DejaVu Sans Mono',consolas,'Courier New',monospace\"><span style=\"color: #7fbfbf; text-decoration-color: #7fbfbf\">                    </span><span style=\"color: #000080; text-decoration-color: #000080\">INFO    </span> StripedHyena - INFO - Parameter count for block <span style=\"color: #008080; text-decoration-color: #008080; font-weight: bold\">27</span>: <span style=\"color: #008080; text-decoration-color: #008080; font-weight: bold\">202559488</span>             <a href=\"file:///opt/conda/envs/evo2/lib/python3.12/site-packages/vortex/model/model.py\" target=\"_blank\"><span style=\"color: #7f7f7f; text-decoration-color: #7f7f7f\">model.py</span></a><span style=\"color: #7f7f7f; text-decoration-color: #7f7f7f\">:</span><a href=\"file:///opt/conda/envs/evo2/lib/python3.12/site-packages/vortex/model/model.py#661\" target=\"_blank\"><span style=\"color: #7f7f7f; text-decoration-color: #7f7f7f\">661</span></a>\n",
       "</pre>\n"
      ],
      "text/plain": [
       "\u001b[2;36m                   \u001b[0m\u001b[2;36m \u001b[0m\u001b[34mINFO    \u001b[0m StripedHyena - INFO - Parameter count for block \u001b[1;36m27\u001b[0m: \u001b[1;36m202559488\u001b[0m             \u001b]8;id=90360;file:///opt/conda/envs/evo2/lib/python3.12/site-packages/vortex/model/model.py\u001b\\\u001b[2mmodel.py\u001b[0m\u001b]8;;\u001b\\\u001b[2m:\u001b[0m\u001b]8;id=113560;file:///opt/conda/envs/evo2/lib/python3.12/site-packages/vortex/model/model.py#661\u001b\\\u001b[2m661\u001b[0m\u001b]8;;\u001b\\\n"
      ]
     },
     "metadata": {},
     "output_type": "display_data"
    },
    {
     "data": {
      "text/html": [
       "<pre style=\"white-space:pre;overflow-x:auto;line-height:normal;font-family:Menlo,'DejaVu Sans Mono',consolas,'Courier New',monospace\"><span style=\"color: #7fbfbf; text-decoration-color: #7fbfbf\">                    </span><span style=\"color: #000080; text-decoration-color: #000080\">INFO    </span> StripedHyena - INFO - Assigned <span style=\"color: #808000; text-decoration-color: #808000\">layer_idx</span>=<span style=\"color: #008080; text-decoration-color: #008080; font-weight: bold\">28</span> to <span style=\"color: #808000; text-decoration-color: #808000\">device</span>=<span style=\"color: #008000; text-decoration-color: #008000\">'cuda:0'</span>            <a href=\"file:///opt/conda/envs/evo2/lib/python3.12/site-packages/vortex/model/model.py\" target=\"_blank\"><span style=\"color: #7f7f7f; text-decoration-color: #7f7f7f\">model.py</span></a><span style=\"color: #7f7f7f; text-decoration-color: #7f7f7f\">:</span><a href=\"file:///opt/conda/envs/evo2/lib/python3.12/site-packages/vortex/model/model.py#660\" target=\"_blank\"><span style=\"color: #7f7f7f; text-decoration-color: #7f7f7f\">660</span></a>\n",
       "</pre>\n"
      ],
      "text/plain": [
       "\u001b[2;36m                   \u001b[0m\u001b[2;36m \u001b[0m\u001b[34mINFO    \u001b[0m StripedHyena - INFO - Assigned \u001b[33mlayer_idx\u001b[0m=\u001b[1;36m28\u001b[0m to \u001b[33mdevice\u001b[0m=\u001b[32m'cuda:0'\u001b[0m            \u001b]8;id=939708;file:///opt/conda/envs/evo2/lib/python3.12/site-packages/vortex/model/model.py\u001b\\\u001b[2mmodel.py\u001b[0m\u001b]8;;\u001b\\\u001b[2m:\u001b[0m\u001b]8;id=13364;file:///opt/conda/envs/evo2/lib/python3.12/site-packages/vortex/model/model.py#660\u001b\\\u001b[2m660\u001b[0m\u001b]8;;\u001b\\\n"
      ]
     },
     "metadata": {},
     "output_type": "display_data"
    },
    {
     "data": {
      "text/html": [
       "<pre style=\"white-space:pre;overflow-x:auto;line-height:normal;font-family:Menlo,'DejaVu Sans Mono',consolas,'Courier New',monospace\"><span style=\"color: #7fbfbf; text-decoration-color: #7fbfbf\">                    </span><span style=\"color: #000080; text-decoration-color: #000080\">INFO    </span> StripedHyena - INFO - Parameter count for block <span style=\"color: #008080; text-decoration-color: #008080; font-weight: bold\">28</span>: <span style=\"color: #008080; text-decoration-color: #008080; font-weight: bold\">202426112</span>             <a href=\"file:///opt/conda/envs/evo2/lib/python3.12/site-packages/vortex/model/model.py\" target=\"_blank\"><span style=\"color: #7f7f7f; text-decoration-color: #7f7f7f\">model.py</span></a><span style=\"color: #7f7f7f; text-decoration-color: #7f7f7f\">:</span><a href=\"file:///opt/conda/envs/evo2/lib/python3.12/site-packages/vortex/model/model.py#661\" target=\"_blank\"><span style=\"color: #7f7f7f; text-decoration-color: #7f7f7f\">661</span></a>\n",
       "</pre>\n"
      ],
      "text/plain": [
       "\u001b[2;36m                   \u001b[0m\u001b[2;36m \u001b[0m\u001b[34mINFO    \u001b[0m StripedHyena - INFO - Parameter count for block \u001b[1;36m28\u001b[0m: \u001b[1;36m202426112\u001b[0m             \u001b]8;id=267794;file:///opt/conda/envs/evo2/lib/python3.12/site-packages/vortex/model/model.py\u001b\\\u001b[2mmodel.py\u001b[0m\u001b]8;;\u001b\\\u001b[2m:\u001b[0m\u001b]8;id=259420;file:///opt/conda/envs/evo2/lib/python3.12/site-packages/vortex/model/model.py#661\u001b\\\u001b[2m661\u001b[0m\u001b]8;;\u001b\\\n"
      ]
     },
     "metadata": {},
     "output_type": "display_data"
    },
    {
     "data": {
      "text/html": [
       "<pre style=\"white-space:pre;overflow-x:auto;line-height:normal;font-family:Menlo,'DejaVu Sans Mono',consolas,'Courier New',monospace\"><span style=\"color: #7fbfbf; text-decoration-color: #7fbfbf\">                    </span><span style=\"color: #000080; text-decoration-color: #000080\">INFO    </span> StripedHyena - INFO - Assigned <span style=\"color: #808000; text-decoration-color: #808000\">layer_idx</span>=<span style=\"color: #008080; text-decoration-color: #008080; font-weight: bold\">29</span> to <span style=\"color: #808000; text-decoration-color: #808000\">device</span>=<span style=\"color: #008000; text-decoration-color: #008000\">'cuda:0'</span>            <a href=\"file:///opt/conda/envs/evo2/lib/python3.12/site-packages/vortex/model/model.py\" target=\"_blank\"><span style=\"color: #7f7f7f; text-decoration-color: #7f7f7f\">model.py</span></a><span style=\"color: #7f7f7f; text-decoration-color: #7f7f7f\">:</span><a href=\"file:///opt/conda/envs/evo2/lib/python3.12/site-packages/vortex/model/model.py#660\" target=\"_blank\"><span style=\"color: #7f7f7f; text-decoration-color: #7f7f7f\">660</span></a>\n",
       "</pre>\n"
      ],
      "text/plain": [
       "\u001b[2;36m                   \u001b[0m\u001b[2;36m \u001b[0m\u001b[34mINFO    \u001b[0m StripedHyena - INFO - Assigned \u001b[33mlayer_idx\u001b[0m=\u001b[1;36m29\u001b[0m to \u001b[33mdevice\u001b[0m=\u001b[32m'cuda:0'\u001b[0m            \u001b]8;id=101094;file:///opt/conda/envs/evo2/lib/python3.12/site-packages/vortex/model/model.py\u001b\\\u001b[2mmodel.py\u001b[0m\u001b]8;;\u001b\\\u001b[2m:\u001b[0m\u001b]8;id=622744;file:///opt/conda/envs/evo2/lib/python3.12/site-packages/vortex/model/model.py#660\u001b\\\u001b[2m660\u001b[0m\u001b]8;;\u001b\\\n"
      ]
     },
     "metadata": {},
     "output_type": "display_data"
    },
    {
     "data": {
      "text/html": [
       "<pre style=\"white-space:pre;overflow-x:auto;line-height:normal;font-family:Menlo,'DejaVu Sans Mono',consolas,'Courier New',monospace\"><span style=\"color: #7fbfbf; text-decoration-color: #7fbfbf\">                    </span><span style=\"color: #000080; text-decoration-color: #000080\">INFO    </span> StripedHyena - INFO - Parameter count for block <span style=\"color: #008080; text-decoration-color: #008080; font-weight: bold\">29</span>: <span style=\"color: #008080; text-decoration-color: #008080; font-weight: bold\">202461184</span>             <a href=\"file:///opt/conda/envs/evo2/lib/python3.12/site-packages/vortex/model/model.py\" target=\"_blank\"><span style=\"color: #7f7f7f; text-decoration-color: #7f7f7f\">model.py</span></a><span style=\"color: #7f7f7f; text-decoration-color: #7f7f7f\">:</span><a href=\"file:///opt/conda/envs/evo2/lib/python3.12/site-packages/vortex/model/model.py#661\" target=\"_blank\"><span style=\"color: #7f7f7f; text-decoration-color: #7f7f7f\">661</span></a>\n",
       "</pre>\n"
      ],
      "text/plain": [
       "\u001b[2;36m                   \u001b[0m\u001b[2;36m \u001b[0m\u001b[34mINFO    \u001b[0m StripedHyena - INFO - Parameter count for block \u001b[1;36m29\u001b[0m: \u001b[1;36m202461184\u001b[0m             \u001b]8;id=566111;file:///opt/conda/envs/evo2/lib/python3.12/site-packages/vortex/model/model.py\u001b\\\u001b[2mmodel.py\u001b[0m\u001b]8;;\u001b\\\u001b[2m:\u001b[0m\u001b]8;id=319681;file:///opt/conda/envs/evo2/lib/python3.12/site-packages/vortex/model/model.py#661\u001b\\\u001b[2m661\u001b[0m\u001b]8;;\u001b\\\n"
      ]
     },
     "metadata": {},
     "output_type": "display_data"
    },
    {
     "data": {
      "text/html": [
       "<pre style=\"white-space:pre;overflow-x:auto;line-height:normal;font-family:Menlo,'DejaVu Sans Mono',consolas,'Courier New',monospace\"><span style=\"color: #7fbfbf; text-decoration-color: #7fbfbf\">                    </span><span style=\"color: #000080; text-decoration-color: #000080\">INFO    </span> StripedHyena - INFO - Assigned <span style=\"color: #808000; text-decoration-color: #808000\">layer_idx</span>=<span style=\"color: #008080; text-decoration-color: #008080; font-weight: bold\">30</span> to <span style=\"color: #808000; text-decoration-color: #808000\">device</span>=<span style=\"color: #008000; text-decoration-color: #008000\">'cuda:0'</span>            <a href=\"file:///opt/conda/envs/evo2/lib/python3.12/site-packages/vortex/model/model.py\" target=\"_blank\"><span style=\"color: #7f7f7f; text-decoration-color: #7f7f7f\">model.py</span></a><span style=\"color: #7f7f7f; text-decoration-color: #7f7f7f\">:</span><a href=\"file:///opt/conda/envs/evo2/lib/python3.12/site-packages/vortex/model/model.py#660\" target=\"_blank\"><span style=\"color: #7f7f7f; text-decoration-color: #7f7f7f\">660</span></a>\n",
       "</pre>\n"
      ],
      "text/plain": [
       "\u001b[2;36m                   \u001b[0m\u001b[2;36m \u001b[0m\u001b[34mINFO    \u001b[0m StripedHyena - INFO - Assigned \u001b[33mlayer_idx\u001b[0m=\u001b[1;36m30\u001b[0m to \u001b[33mdevice\u001b[0m=\u001b[32m'cuda:0'\u001b[0m            \u001b]8;id=976441;file:///opt/conda/envs/evo2/lib/python3.12/site-packages/vortex/model/model.py\u001b\\\u001b[2mmodel.py\u001b[0m\u001b]8;;\u001b\\\u001b[2m:\u001b[0m\u001b]8;id=497943;file:///opt/conda/envs/evo2/lib/python3.12/site-packages/vortex/model/model.py#660\u001b\\\u001b[2m660\u001b[0m\u001b]8;;\u001b\\\n"
      ]
     },
     "metadata": {},
     "output_type": "display_data"
    },
    {
     "data": {
      "text/html": [
       "<pre style=\"white-space:pre;overflow-x:auto;line-height:normal;font-family:Menlo,'DejaVu Sans Mono',consolas,'Courier New',monospace\"><span style=\"color: #7fbfbf; text-decoration-color: #7fbfbf\">                    </span><span style=\"color: #000080; text-decoration-color: #000080\">INFO    </span> StripedHyena - INFO - Parameter count for block <span style=\"color: #008080; text-decoration-color: #008080; font-weight: bold\">30</span>: <span style=\"color: #008080; text-decoration-color: #008080; font-weight: bold\">202559488</span>             <a href=\"file:///opt/conda/envs/evo2/lib/python3.12/site-packages/vortex/model/model.py\" target=\"_blank\"><span style=\"color: #7f7f7f; text-decoration-color: #7f7f7f\">model.py</span></a><span style=\"color: #7f7f7f; text-decoration-color: #7f7f7f\">:</span><a href=\"file:///opt/conda/envs/evo2/lib/python3.12/site-packages/vortex/model/model.py#661\" target=\"_blank\"><span style=\"color: #7f7f7f; text-decoration-color: #7f7f7f\">661</span></a>\n",
       "</pre>\n"
      ],
      "text/plain": [
       "\u001b[2;36m                   \u001b[0m\u001b[2;36m \u001b[0m\u001b[34mINFO    \u001b[0m StripedHyena - INFO - Parameter count for block \u001b[1;36m30\u001b[0m: \u001b[1;36m202559488\u001b[0m             \u001b]8;id=478051;file:///opt/conda/envs/evo2/lib/python3.12/site-packages/vortex/model/model.py\u001b\\\u001b[2mmodel.py\u001b[0m\u001b]8;;\u001b\\\u001b[2m:\u001b[0m\u001b]8;id=54162;file:///opt/conda/envs/evo2/lib/python3.12/site-packages/vortex/model/model.py#661\u001b\\\u001b[2m661\u001b[0m\u001b]8;;\u001b\\\n"
      ]
     },
     "metadata": {},
     "output_type": "display_data"
    },
    {
     "name": "stderr",
     "output_type": "stream",
     "text": [
      " 97%|█████████▋| 31/32 [00:00<00:00, 49.20it/s]"
     ]
    },
    {
     "data": {
      "text/html": [
       "<pre style=\"white-space:pre;overflow-x:auto;line-height:normal;font-family:Menlo,'DejaVu Sans Mono',consolas,'Courier New',monospace\"><span style=\"color: #7fbfbf; text-decoration-color: #7fbfbf\">                    </span><span style=\"color: #000080; text-decoration-color: #000080\">INFO    </span> StripedHyena - INFO - Assigned <span style=\"color: #808000; text-decoration-color: #808000\">layer_idx</span>=<span style=\"color: #008080; text-decoration-color: #008080; font-weight: bold\">31</span> to <span style=\"color: #808000; text-decoration-color: #808000\">device</span>=<span style=\"color: #008000; text-decoration-color: #008000\">'cuda:0'</span>            <a href=\"file:///opt/conda/envs/evo2/lib/python3.12/site-packages/vortex/model/model.py\" target=\"_blank\"><span style=\"color: #7f7f7f; text-decoration-color: #7f7f7f\">model.py</span></a><span style=\"color: #7f7f7f; text-decoration-color: #7f7f7f\">:</span><a href=\"file:///opt/conda/envs/evo2/lib/python3.12/site-packages/vortex/model/model.py#660\" target=\"_blank\"><span style=\"color: #7f7f7f; text-decoration-color: #7f7f7f\">660</span></a>\n",
       "</pre>\n"
      ],
      "text/plain": [
       "\u001b[2;36m                   \u001b[0m\u001b[2;36m \u001b[0m\u001b[34mINFO    \u001b[0m StripedHyena - INFO - Assigned \u001b[33mlayer_idx\u001b[0m=\u001b[1;36m31\u001b[0m to \u001b[33mdevice\u001b[0m=\u001b[32m'cuda:0'\u001b[0m            \u001b]8;id=526230;file:///opt/conda/envs/evo2/lib/python3.12/site-packages/vortex/model/model.py\u001b\\\u001b[2mmodel.py\u001b[0m\u001b]8;;\u001b\\\u001b[2m:\u001b[0m\u001b]8;id=504077;file:///opt/conda/envs/evo2/lib/python3.12/site-packages/vortex/model/model.py#660\u001b\\\u001b[2m660\u001b[0m\u001b]8;;\u001b\\\n"
      ]
     },
     "metadata": {},
     "output_type": "display_data"
    },
    {
     "data": {
      "text/html": [
       "<pre style=\"white-space:pre;overflow-x:auto;line-height:normal;font-family:Menlo,'DejaVu Sans Mono',consolas,'Courier New',monospace\"><span style=\"color: #7fbfbf; text-decoration-color: #7fbfbf\">                    </span><span style=\"color: #000080; text-decoration-color: #000080\">INFO    </span> StripedHyena - INFO - Parameter count for block <span style=\"color: #008080; text-decoration-color: #008080; font-weight: bold\">31</span>: <span style=\"color: #008080; text-decoration-color: #008080; font-weight: bold\">202387456</span>             <a href=\"file:///opt/conda/envs/evo2/lib/python3.12/site-packages/vortex/model/model.py\" target=\"_blank\"><span style=\"color: #7f7f7f; text-decoration-color: #7f7f7f\">model.py</span></a><span style=\"color: #7f7f7f; text-decoration-color: #7f7f7f\">:</span><a href=\"file:///opt/conda/envs/evo2/lib/python3.12/site-packages/vortex/model/model.py#661\" target=\"_blank\"><span style=\"color: #7f7f7f; text-decoration-color: #7f7f7f\">661</span></a>\n",
       "</pre>\n"
      ],
      "text/plain": [
       "\u001b[2;36m                   \u001b[0m\u001b[2;36m \u001b[0m\u001b[34mINFO    \u001b[0m StripedHyena - INFO - Parameter count for block \u001b[1;36m31\u001b[0m: \u001b[1;36m202387456\u001b[0m             \u001b]8;id=25638;file:///opt/conda/envs/evo2/lib/python3.12/site-packages/vortex/model/model.py\u001b\\\u001b[2mmodel.py\u001b[0m\u001b]8;;\u001b\\\u001b[2m:\u001b[0m\u001b]8;id=337122;file:///opt/conda/envs/evo2/lib/python3.12/site-packages/vortex/model/model.py#661\u001b\\\u001b[2m661\u001b[0m\u001b]8;;\u001b\\\n"
      ]
     },
     "metadata": {},
     "output_type": "display_data"
    },
    {
     "name": "stderr",
     "output_type": "stream",
     "text": [
      "100%|██████████| 32/32 [00:00<00:00, 53.82it/s]\n"
     ]
    },
    {
     "data": {
      "text/html": [
       "<pre style=\"white-space:pre;overflow-x:auto;line-height:normal;font-family:Menlo,'DejaVu Sans Mono',consolas,'Courier New',monospace\"><span style=\"color: #7fbfbf; text-decoration-color: #7fbfbf\">                    </span><span style=\"color: #000080; text-decoration-color: #000080\">INFO    </span> StripedHyena - INFO - Initialized model                                   <a href=\"file:///opt/conda/envs/evo2/lib/python3.12/site-packages/vortex/model/model.py\" target=\"_blank\"><span style=\"color: #7f7f7f; text-decoration-color: #7f7f7f\">model.py</span></a><span style=\"color: #7f7f7f; text-decoration-color: #7f7f7f\">:</span><a href=\"file:///opt/conda/envs/evo2/lib/python3.12/site-packages/vortex/model/model.py#680\" target=\"_blank\"><span style=\"color: #7f7f7f; text-decoration-color: #7f7f7f\">680</span></a>\n",
       "</pre>\n"
      ],
      "text/plain": [
       "\u001b[2;36m                   \u001b[0m\u001b[2;36m \u001b[0m\u001b[34mINFO    \u001b[0m StripedHyena - INFO - Initialized model                                   \u001b]8;id=753607;file:///opt/conda/envs/evo2/lib/python3.12/site-packages/vortex/model/model.py\u001b\\\u001b[2mmodel.py\u001b[0m\u001b]8;;\u001b\\\u001b[2m:\u001b[0m\u001b]8;id=826190;file:///opt/conda/envs/evo2/lib/python3.12/site-packages/vortex/model/model.py#680\u001b\\\u001b[2m680\u001b[0m\u001b]8;;\u001b\\\n"
      ]
     },
     "metadata": {},
     "output_type": "display_data"
    },
    {
     "data": {
      "text/html": [
       "<pre style=\"white-space:pre;overflow-x:auto;line-height:normal;font-family:Menlo,'DejaVu Sans Mono',consolas,'Courier New',monospace\"><span style=\"color: #7fbfbf; text-decoration-color: #7fbfbf\">                    </span><span style=\"color: #000080; text-decoration-color: #000080\">INFO    </span> vortex.model.utils - INFO - Loading                                        <a href=\"file:///opt/conda/envs/evo2/lib/python3.12/site-packages/vortex/model/utils.py\" target=\"_blank\"><span style=\"color: #7f7f7f; text-decoration-color: #7f7f7f\">utils.py</span></a><span style=\"color: #7f7f7f; text-decoration-color: #7f7f7f\">:</span><a href=\"file:///opt/conda/envs/evo2/lib/python3.12/site-packages/vortex/model/utils.py#92\" target=\"_blank\"><span style=\"color: #7f7f7f; text-decoration-color: #7f7f7f\">92</span></a>\n",
       "<span style=\"color: #7fbfbf; text-decoration-color: #7fbfbf\">                    </span>         <span style=\"color: #800080; text-decoration-color: #800080\">/root/.cache/huggingface/hub/models--arcinstitute--evo2_7b_base/snapshots/</span> <span style=\"color: #7f7f7f; text-decoration-color: #7f7f7f\">           </span>\n",
       "<span style=\"color: #7fbfbf; text-decoration-color: #7fbfbf\">                    </span>         <span style=\"color: #800080; text-decoration-color: #800080\">074097e9dc788e8bfe045d6495b9f6153a7c6bfc/</span><span style=\"color: #ff00ff; text-decoration-color: #ff00ff\">evo2_7b_base.pt</span>                   <span style=\"color: #7f7f7f; text-decoration-color: #7f7f7f\">           </span>\n",
       "</pre>\n"
      ],
      "text/plain": [
       "\u001b[2;36m                   \u001b[0m\u001b[2;36m \u001b[0m\u001b[34mINFO    \u001b[0m vortex.model.utils - INFO - Loading                                        \u001b]8;id=210663;file:///opt/conda/envs/evo2/lib/python3.12/site-packages/vortex/model/utils.py\u001b\\\u001b[2mutils.py\u001b[0m\u001b]8;;\u001b\\\u001b[2m:\u001b[0m\u001b]8;id=735838;file:///opt/conda/envs/evo2/lib/python3.12/site-packages/vortex/model/utils.py#92\u001b\\\u001b[2m92\u001b[0m\u001b]8;;\u001b\\\n",
       "\u001b[2;36m                    \u001b[0m         \u001b[35m/root/.cache/huggingface/hub/models--arcinstitute--evo2_7b_base/snapshots/\u001b[0m \u001b[2m           \u001b[0m\n",
       "\u001b[2;36m                    \u001b[0m         \u001b[35m074097e9dc788e8bfe045d6495b9f6153a7c6bfc/\u001b[0m\u001b[95mevo2_7b_base.pt\u001b[0m                   \u001b[2m           \u001b[0m\n"
      ]
     },
     "metadata": {},
     "output_type": "display_data"
    },
    {
     "name": "stdout",
     "output_type": "stream",
     "text": [
      "Extra keys in state_dict: {'blocks.31.mixer.dense._extra_state', 'blocks.24.mixer.dense._extra_state', 'unembed.weight', 'blocks.3.mixer.dense._extra_state', 'blocks.17.mixer.dense._extra_state', 'blocks.10.mixer.dense._extra_state'}\n"
     ]
    },
    {
     "data": {
      "text/html": [
       "<pre style=\"white-space:pre;overflow-x:auto;line-height:normal;font-family:Menlo,'DejaVu Sans Mono',consolas,'Courier New',monospace\"><span style=\"color: #7fbfbf; text-decoration-color: #7fbfbf\">[10/02/25 19:23:34] </span><span style=\"color: #000080; text-decoration-color: #000080\">INFO    </span> StripedHyena - INFO - Adjusting Wqkv for column split <span style=\"font-weight: bold\">(</span>permuting rows<span style=\"font-weight: bold\">)</span>    <a href=\"file:///opt/conda/envs/evo2/lib/python3.12/site-packages/vortex/model/model.py\" target=\"_blank\"><span style=\"color: #7f7f7f; text-decoration-color: #7f7f7f\">model.py</span></a><span style=\"color: #7f7f7f; text-decoration-color: #7f7f7f\">:</span><a href=\"file:///opt/conda/envs/evo2/lib/python3.12/site-packages/vortex/model/model.py#964\" target=\"_blank\"><span style=\"color: #7f7f7f; text-decoration-color: #7f7f7f\">964</span></a>\n",
       "</pre>\n"
      ],
      "text/plain": [
       "\u001b[2;36m[10/02/25 19:23:34]\u001b[0m\u001b[2;36m \u001b[0m\u001b[34mINFO    \u001b[0m StripedHyena - INFO - Adjusting Wqkv for column split \u001b[1m(\u001b[0mpermuting rows\u001b[1m)\u001b[0m    \u001b]8;id=159162;file:///opt/conda/envs/evo2/lib/python3.12/site-packages/vortex/model/model.py\u001b\\\u001b[2mmodel.py\u001b[0m\u001b]8;;\u001b\\\u001b[2m:\u001b[0m\u001b]8;id=456160;file:///opt/conda/envs/evo2/lib/python3.12/site-packages/vortex/model/model.py#964\u001b\\\u001b[2m964\u001b[0m\u001b]8;;\u001b\\\n"
      ]
     },
     "metadata": {},
     "output_type": "display_data"
    }
   ],
   "source": [
    "model = ObservableEvo2(model_name=\"evo2_7b_base\")\n",
    "topk_sae = load_topk_sae(\n",
    "    file_path,\n",
    "    d_hidden=model.d_hidden,\n",
    "    device=model.device,\n",
    "    dtype=torch.bfloat16,\n",
    "    expansion_factor=8\n",
    ")\n",
    "SAE_LAYER_NAME = 'blocks-26'\n",
    "# SAE_LAYER_NAME = 'blocks-24'"
   ]
  },
  {
   "cell_type": "markdown",
   "id": "899b6b8c-89d8-4602-82ad-26099e88d1be",
   "metadata": {},
   "source": [
    "## Compute and visualize some features"
   ]
  },
  {
   "cell_type": "code",
   "execution_count": 6,
   "id": "be481ec7-441b-46c8-9c2e-6dfd94c6e484",
   "metadata": {},
   "outputs": [],
   "source": [
    "def get_feature_ts(sae, seq): # Faster, but might crash\n",
    "    toks = model.tokenizer.tokenize(seq)\n",
    "    toks = torch.tensor(toks, dtype=torch.long).unsqueeze(0).to(model.device)\n",
    "    logits, acts = model.forward(toks, cache_activations_at=[SAE_LAYER_NAME])\n",
    "    feats = sae.encode(acts[SAE_LAYER_NAME][0])\n",
    "    return feats.cpu().detach().float().numpy()\n",
    "\n",
    "def get_feature_ts_via_generate(sae, seq): # Slower, but won't crash\n",
    "    logits, acts = model.generate([seq], n_tokens=1, cached_generation=True, cache_activations_at=[SAE_LAYER_NAME])\n",
    "    feats = sae.encode(acts[SAE_LAYER_NAME][0])\n",
    "    return feats.cpu().detach().float().numpy()"
   ]
  },
  {
   "cell_type": "code",
   "execution_count": 7,
   "id": "bca5f108-7029-40df-a207-9742a429dd13",
   "metadata": {},
   "outputs": [
    {
     "data": {
      "text/html": [
       "<pre style=\"white-space:pre;overflow-x:auto;line-height:normal;font-family:Menlo,'DejaVu Sans Mono',consolas,'Courier New',monospace\"><span style=\"color: #7fbfbf; text-decoration-color: #7fbfbf\">[10/02/25 19:23:37] </span><span style=\"color: #000080; text-decoration-color: #000080\">INFO    </span> vortex.model.utils - INFO - Fixup applied: Allocating cublas workspace    <a href=\"file:///opt/conda/envs/evo2/lib/python3.12/site-packages/vortex/model/utils.py\" target=\"_blank\"><span style=\"color: #7f7f7f; text-decoration-color: #7f7f7f\">utils.py</span></a><span style=\"color: #7f7f7f; text-decoration-color: #7f7f7f\">:</span><a href=\"file:///opt/conda/envs/evo2/lib/python3.12/site-packages/vortex/model/utils.py#174\" target=\"_blank\"><span style=\"color: #7f7f7f; text-decoration-color: #7f7f7f\">174</span></a>\n",
       "<span style=\"color: #7fbfbf; text-decoration-color: #7fbfbf\">                    </span>         for <span style=\"color: #808000; text-decoration-color: #808000\">device</span>=<span style=\"color: #008080; text-decoration-color: #008080; font-weight: bold\">0</span>                                                              <span style=\"color: #7f7f7f; text-decoration-color: #7f7f7f\">            </span>\n",
       "</pre>\n"
      ],
      "text/plain": [
       "\u001b[2;36m[10/02/25 19:23:37]\u001b[0m\u001b[2;36m \u001b[0m\u001b[34mINFO    \u001b[0m vortex.model.utils - INFO - Fixup applied: Allocating cublas workspace    \u001b]8;id=454194;file:///opt/conda/envs/evo2/lib/python3.12/site-packages/vortex/model/utils.py\u001b\\\u001b[2mutils.py\u001b[0m\u001b]8;;\u001b\\\u001b[2m:\u001b[0m\u001b]8;id=218040;file:///opt/conda/envs/evo2/lib/python3.12/site-packages/vortex/model/utils.py#174\u001b\\\u001b[2m174\u001b[0m\u001b]8;;\u001b\\\n",
       "\u001b[2;36m                    \u001b[0m         for \u001b[33mdevice\u001b[0m=\u001b[1;36m0\u001b[0m                                                              \u001b[2m            \u001b[0m\n"
      ]
     },
     "metadata": {},
     "output_type": "display_data"
    },
    {
     "data": {
      "text/plain": [
       "(1000, 32768)"
      ]
     },
     "execution_count": 7,
     "metadata": {},
     "output_type": "execute_result"
    }
   ],
   "source": [
    "# Let's get features for 1 kb of human genome sequence (randomly selected from chr17 GRCh38.p14)\n",
    "example_seq = 'TCTGAAAGGACAGTTTTATTGTAGGTACACATGGCTGCCATTTCAAATGTAACTCACAGCTTGTCCATCAGTCCTTGGAGGTCTTTCTATGAAAGGAGCTTGGTGGCGTCCAAACACCACCCAATGTCCACTTAGAAGTAAGCACCGTGTCTGCCCTGAGCTGACTCCTTTTCCAAGGAAGGGGTTGGATCGCTGAGTGTTTTTCCAGGTGTCTACTTGTTGTTAATTAATAGCAATGACAAAGCAGAAGGTTCATGCGTAGCTCGGCTTTCTGGTATTTGCTGCCCGTTGACCAATGGAAGATAAACCTTTGCCTCAGGTGGCACCACTAGCTGGTTAAGAGGCACTTTGTCCTTTCACCCAGGAGCAAACGCACATCACCTGTGTCCTCATCTGATGGCCCTGGTGTGGGGCACAGTCGTGTTGGCAGGGAGGGAGGTGGGGTTGGTCCCCTTTGTGGGTTTGTTGCGAGGCCGTGTTCCAGCTGTTTCCACAGGGAGCGATTTTCAGCTCCACAGGACACTGCTCCCCAGTTCCTCCTGAGAACAAAAGGGGGCGCTGGGGAGAGGCCACCGTTCTGAGGGCTCACTGTATGTGTTCCAGAATCTCCCCTGCAGACCCCCACTGAGGACGGATCTGAGGAACCGGGCTCTGAAACCTCTGATGCTAAGAGCACTCCAACAGCGGAAGGTGGGCCCCCCTTCAGACGCCCCCTCCATGCCTCCAGCCTGTGCTTAGCCGTGCTTTGAGCCTCCCTCCTGGCTGCATCTGCTGCTCCCCCTGGCTGAGAGATGTGCTCACTCCTTCGGTGCTTTGCAGGACAGCGTGGTGGGAGCTGAGCCTTGCGTCGATGCCTTGCTTGCTGGTGCTGAGTGTGGGCACCTTCATCCCGTGTGTGCTCTGGAGGCAGCCACCCTTGGACAGTCCCGCGCACAGCTCCACAAAGCCCCGCTCCATACGATTGTCCTCCCACACCCCCTTCAAAAGCCCCCTCCTCTCT'\n",
    "feature_ts = get_feature_ts(topk_sae, example_seq)\n",
    "feature_ts.shape"
   ]
  },
  {
   "cell_type": "code",
   "execution_count": 8,
   "id": "2deab19c-7629-415a-9185-79b4dea6f3a8",
   "metadata": {},
   "outputs": [
    {
     "data": {
      "image/png": "[encoded data removed]",
      "text/plain": [
       "<Figure size 3000x400 with 4 Axes>"
      ]
     },
     "metadata": {},
     "output_type": "display_data"
    }
   ],
   "source": [
    "# Next, we plot a few of the features\n",
    "selected_features = [15680, 28339, 1050, 25666]\n",
    "fig, axes = plt.subplots(len(selected_features), 1, figsize = (30, 1*len(selected_features)), sharex = True)\n",
    "for ind, feature in enumerate(selected_features):\n",
    "    axes[ind].plot(feature_ts[:, feature], lw=0.5, label=f\"feature {feature}\", alpha = 0.9)\n",
    "    axes[ind].set_xlim(0, feature_ts.shape[0])\n",
    "    axes[ind].set_ylim([0, 7]) # just to look nice\n",
    "    axes[ind].set_yticks([0, 5])\n",
    "    axes[ind].legend()\n",
    "plt.show()"
   ]
  },
  {
   "cell_type": "markdown",
   "id": "bada8e18-0de2-469d-b71b-f9e2a80fa7e5",
   "metadata": {},
   "source": [
    "## Demo from paper"
   ]
  },
  {
   "cell_type": "code",
   "execution_count": 9,
   "id": "9aced4fa-fd58-4621-a834-82aaf96e5561",
   "metadata": {},
   "outputs": [],
   "source": [
    "def find_relevant_gb_annotations(records, window_start, window_size, \n",
    "                                valid_features={'CDS', 'gene', 'mobile_element', 'misc_feature', \n",
    "                                              'rRNA', 'tRNA', 'ncRNA', 'Regulatory', 'tmRNA'},\n",
    "                                valid_qualifiers={'gene', 'locus_id', 'product', 'mobile_element_type'}):\n",
    "    \"\"\"\n",
    "    Extract annotations from GenBank records within a specified window.\n",
    "    \n",
    "    Args:\n",
    "        records: List of GenBank records\n",
    "        window_start: Start position of window (int)\n",
    "        window_size: Size of window (int)\n",
    "        valid_features: Set of feature types to include\n",
    "        valid_qualifiers: Set of qualifiers to extract\n",
    "    \n",
    "    Returns:\n",
    "        List of annotations: [start, end, type, qualifiers_dict]\n",
    "    \"\"\"\n",
    "    window_end = window_start + window_size\n",
    "    annotations = []\n",
    "    \n",
    "    for record in records:\n",
    "        for feature in record.features:\n",
    "            # Skip features outside window\n",
    "            if feature.location.end < window_start or feature.location.start > window_end:\n",
    "                continue\n",
    "                \n",
    "            if feature.type in valid_features:\n",
    "                # Calculate relative positions within window\n",
    "                start = max(0, feature.location.start - window_start)\n",
    "                end = min(window_size, feature.location.end - window_start)\n",
    "                \n",
    "                # Extract relevant qualifiers\n",
    "                qualifiers = {q: feature.qualifiers[q] for q in valid_qualifiers \n",
    "                            if q in feature.qualifiers}\n",
    "                \n",
    "                annotations.append([start, end, feature.type, qualifiers])\n",
    "    \n",
    "    return annotations\n",
    "\n",
    "\n",
    "def extract_sequence(genbank_file, start, end, strand=\"forward\"):\n",
    "    \"\"\"\n",
    "    Extract sequence from GenBank file at specific coordinates.\n",
    "    \n",
    "    Args:\n",
    "        genbank_file: Path to GenBank file\n",
    "        start: Start position (1-based indexing)\n",
    "        end: End position (1-based indexing)\n",
    "        strand: \"forward\" or \"complement\"\n",
    "    \n",
    "    Returns:\n",
    "        Extracted sequence as string\n",
    "    \"\"\"\n",
    "    record = SeqIO.read(genbank_file, \"genbank\")\n",
    "    seq = record.seq[start-1:end]  # Convert to 0-based indexing\n",
    "    \n",
    "    if strand.lower() == \"complement\":\n",
    "        seq = seq.reverse_complement()\n",
    "        \n",
    "    return str(seq)\n",
    "\n",
    "# Annotation colors\n",
    "ANNOTATION_COLORS = {\n",
    "    'CDS': 'white',\n",
    "    'gene': 'gray', \n",
    "    'mobile_element': 'green',\n",
    "    'misc_feature': 'yellow',\n",
    "    'rRNA': '#7AC8AC',\n",
    "    'tRNA': '#662D91',\n",
    "    'ncRNA': 'white',\n",
    "    'Regulatory': 'red',\n",
    "    'tmRNA': 'red'\n",
    "}"
   ]
  },
  {
   "cell_type": "code",
   "execution_count": 10,
   "id": "c56b4b03",
   "metadata": {},
   "outputs": [],
   "source": [
    "# torch.cuda.empty_cache()"
   ]
  },
  {
   "cell_type": "code",
   "execution_count": 11,
   "id": "60792ce5-1183-44d4-8d83-591872fd61cd",
   "metadata": {},
   "outputs": [
    {
     "ename": "OutOfMemoryError",
     "evalue": "CUDA out of memory. Tried to allocate 15.41 GiB. GPU 0 has a total capacity of 44.52 GiB of which 7.93 GiB is free. Process 400437 has 36.58 GiB memory in use. Of the allocated memory 26.84 GiB is allocated by PyTorch, and 9.23 GiB is reserved by PyTorch but unallocated. If reserved but unallocated memory is large try setting PYTORCH_CUDA_ALLOC_CONF=expandable_segments:True to avoid fragmentation.  See documentation for Memory Management  (https://pytorch.org/docs/stable/notes/cuda.html#environment-variables)",
     "output_type": "error",
     "traceback": [
      "\u001b[31m---------------------------------------------------------------------------\u001b[39m",
      "\u001b[31mOutOfMemoryError\u001b[39m                          Traceback (most recent call last)",
      "\u001b[36mCell\u001b[39m\u001b[36m \u001b[39m\u001b[32mIn[11]\u001b[39m\u001b[32m, line 12\u001b[39m\n\u001b[32m     10\u001b[39m sequence = extract_sequence(genbank_file_path, start_pos, end_pos)\n\u001b[32m     11\u001b[39m annotations = find_relevant_gb_annotations(records, start_pos, end_pos - start_pos)\n\u001b[32m---> \u001b[39m\u001b[32m12\u001b[39m feature_ts = \u001b[43mget_feature_ts\u001b[49m\u001b[43m(\u001b[49m\u001b[43mtopk_sae\u001b[49m\u001b[43m,\u001b[49m\u001b[43m \u001b[49m\u001b[43msequence\u001b[49m\u001b[43m)\u001b[49m\n\u001b[32m     14\u001b[39m \u001b[38;5;66;03m# Plot selected features with genbank annotations visualized as well\u001b[39;00m\n\u001b[32m     15\u001b[39m fig, axes = plt.subplots(\u001b[38;5;28mlen\u001b[39m(selected_features), \u001b[32m1\u001b[39m,  figsize=(\u001b[32m40\u001b[39m, \u001b[38;5;28mlen\u001b[39m(selected_features)), sharex=\u001b[38;5;28;01mTrue\u001b[39;00m)\n",
      "\u001b[36mCell\u001b[39m\u001b[36m \u001b[39m\u001b[32mIn[6]\u001b[39m\u001b[32m, line 4\u001b[39m, in \u001b[36mget_feature_ts\u001b[39m\u001b[34m(sae, seq)\u001b[39m\n\u001b[32m      2\u001b[39m toks = model.tokenizer.tokenize(seq)\n\u001b[32m      3\u001b[39m toks = torch.tensor(toks, dtype=torch.long).unsqueeze(\u001b[32m0\u001b[39m).to(model.device)\n\u001b[32m----> \u001b[39m\u001b[32m4\u001b[39m logits, acts = \u001b[43mmodel\u001b[49m\u001b[43m.\u001b[49m\u001b[43mforward\u001b[49m\u001b[43m(\u001b[49m\u001b[43mtoks\u001b[49m\u001b[43m,\u001b[49m\u001b[43m \u001b[49m\u001b[43mcache_activations_at\u001b[49m\u001b[43m=\u001b[49m\u001b[43m[\u001b[49m\u001b[43mSAE_LAYER_NAME\u001b[49m\u001b[43m]\u001b[49m\u001b[43m)\u001b[49m\n\u001b[32m      5\u001b[39m feats = sae.encode(acts[SAE_LAYER_NAME][\u001b[32m0\u001b[39m])\n\u001b[32m      6\u001b[39m \u001b[38;5;28;01mreturn\u001b[39;00m feats.cpu().detach().float().numpy()\n",
      "\u001b[36mCell\u001b[39m\u001b[36m \u001b[39m\u001b[32mIn[3]\u001b[39m\u001b[32m, line 177\u001b[39m, in \u001b[36mObservableEvo2.forward\u001b[39m\u001b[34m(self, toks, cache_activations_at, interventions)\u001b[39m\n\u001b[32m    175\u001b[39m \u001b[38;5;66;03m# Run forwards pass\u001b[39;00m\n\u001b[32m    176\u001b[39m \u001b[38;5;28;01mtry\u001b[39;00m:\n\u001b[32m--> \u001b[39m\u001b[32m177\u001b[39m     model_outputs = \u001b[38;5;28;43mself\u001b[39;49m\u001b[43m.\u001b[49m\u001b[43mmodel\u001b[49m\u001b[43m(\u001b[49m\u001b[43mtoks\u001b[49m\u001b[43m)\u001b[49m\n\u001b[32m    178\u001b[39m     \u001b[38;5;66;03m#cache = {key: output[0][0] for key, output in self.scope.activations_cache.items()}\u001b[39;00m\n\u001b[32m    179\u001b[39m     cached_activations = {layer: act.clone() \u001b[38;5;28;01mfor\u001b[39;00m layer, act \u001b[38;5;129;01min\u001b[39;00m output_cache.items()}\n",
      "\u001b[36mFile \u001b[39m\u001b[32m/opt/conda/envs/evo2/lib/python3.12/site-packages/torch/nn/modules/module.py:1751\u001b[39m, in \u001b[36mModule._wrapped_call_impl\u001b[39m\u001b[34m(self, *args, **kwargs)\u001b[39m\n\u001b[32m   1749\u001b[39m     \u001b[38;5;28;01mreturn\u001b[39;00m \u001b[38;5;28mself\u001b[39m._compiled_call_impl(*args, **kwargs)  \u001b[38;5;66;03m# type: ignore[misc]\u001b[39;00m\n\u001b[32m   1750\u001b[39m \u001b[38;5;28;01melse\u001b[39;00m:\n\u001b[32m-> \u001b[39m\u001b[32m1751\u001b[39m     \u001b[38;5;28;01mreturn\u001b[39;00m \u001b[38;5;28;43mself\u001b[39;49m\u001b[43m.\u001b[49m\u001b[43m_call_impl\u001b[49m\u001b[43m(\u001b[49m\u001b[43m*\u001b[49m\u001b[43margs\u001b[49m\u001b[43m,\u001b[49m\u001b[43m \u001b[49m\u001b[43m*\u001b[49m\u001b[43m*\u001b[49m\u001b[43mkwargs\u001b[49m\u001b[43m)\u001b[49m\n",
      "\u001b[36mFile \u001b[39m\u001b[32m/opt/conda/envs/evo2/lib/python3.12/site-packages/torch/nn/modules/module.py:1762\u001b[39m, in \u001b[36mModule._call_impl\u001b[39m\u001b[34m(self, *args, **kwargs)\u001b[39m\n\u001b[32m   1757\u001b[39m \u001b[38;5;66;03m# If we don't have any hooks, we want to skip the rest of the logic in\u001b[39;00m\n\u001b[32m   1758\u001b[39m \u001b[38;5;66;03m# this function, and just call forward.\u001b[39;00m\n\u001b[32m   1759\u001b[39m \u001b[38;5;28;01mif\u001b[39;00m \u001b[38;5;129;01mnot\u001b[39;00m (\u001b[38;5;28mself\u001b[39m._backward_hooks \u001b[38;5;129;01mor\u001b[39;00m \u001b[38;5;28mself\u001b[39m._backward_pre_hooks \u001b[38;5;129;01mor\u001b[39;00m \u001b[38;5;28mself\u001b[39m._forward_hooks \u001b[38;5;129;01mor\u001b[39;00m \u001b[38;5;28mself\u001b[39m._forward_pre_hooks\n\u001b[32m   1760\u001b[39m         \u001b[38;5;129;01mor\u001b[39;00m _global_backward_pre_hooks \u001b[38;5;129;01mor\u001b[39;00m _global_backward_hooks\n\u001b[32m   1761\u001b[39m         \u001b[38;5;129;01mor\u001b[39;00m _global_forward_hooks \u001b[38;5;129;01mor\u001b[39;00m _global_forward_pre_hooks):\n\u001b[32m-> \u001b[39m\u001b[32m1762\u001b[39m     \u001b[38;5;28;01mreturn\u001b[39;00m \u001b[43mforward_call\u001b[49m\u001b[43m(\u001b[49m\u001b[43m*\u001b[49m\u001b[43margs\u001b[49m\u001b[43m,\u001b[49m\u001b[43m \u001b[49m\u001b[43m*\u001b[49m\u001b[43m*\u001b[49m\u001b[43mkwargs\u001b[49m\u001b[43m)\u001b[49m\n\u001b[32m   1764\u001b[39m result = \u001b[38;5;28;01mNone\u001b[39;00m\n\u001b[32m   1765\u001b[39m called_always_called_hooks = \u001b[38;5;28mset\u001b[39m()\n",
      "\u001b[36mFile \u001b[39m\u001b[32m/opt/conda/envs/evo2/lib/python3.12/site-packages/vortex/model/model.py:698\u001b[39m, in \u001b[36mStripedHyena.forward\u001b[39m\u001b[34m(self, x, inference_params_dict, padding_mask)\u001b[39m\n\u001b[32m    693\u001b[39m     x, inference_params_dict_out = \u001b[38;5;28mself\u001b[39m.stateful_forward(\n\u001b[32m    694\u001b[39m         x,\n\u001b[32m    695\u001b[39m         inference_params_dict=inference_params_dict,\n\u001b[32m    696\u001b[39m     )\n\u001b[32m    697\u001b[39m \u001b[38;5;28;01melse\u001b[39;00m:\n\u001b[32m--> \u001b[39m\u001b[32m698\u001b[39m     x, inference_params_dict_out = \u001b[38;5;28;43mself\u001b[39;49m\u001b[43m.\u001b[49m\u001b[43mstateless_forward\u001b[49m\u001b[43m(\u001b[49m\u001b[43mx\u001b[49m\u001b[43m,\u001b[49m\u001b[43m \u001b[49m\u001b[43mpadding_mask\u001b[49m\u001b[43m=\u001b[49m\u001b[43mpadding_mask\u001b[49m\u001b[43m)\u001b[49m\n\u001b[32m    700\u001b[39m \u001b[38;5;28;01mif\u001b[39;00m \u001b[38;5;28mself\u001b[39m.print_activations:\n\u001b[32m    701\u001b[39m     activations_logger.info(\u001b[33mf\u001b[39m\u001b[33m\"\u001b[39m\u001b[33mpre norm: \u001b[39m\u001b[38;5;132;01m{\u001b[39;00mx\u001b[38;5;132;01m}\u001b[39;00m\u001b[33m, \u001b[39m\u001b[38;5;132;01m{\u001b[39;00mx.min()\u001b[38;5;132;01m}\u001b[39;00m\u001b[33m, \u001b[39m\u001b[38;5;132;01m{\u001b[39;00mx.max()\u001b[38;5;132;01m}\u001b[39;00m\u001b[33m\"\u001b[39m)\n",
      "\u001b[36mFile \u001b[39m\u001b[32m/opt/conda/envs/evo2/lib/python3.12/site-packages/vortex/model/model.py:772\u001b[39m, in \u001b[36mStripedHyena.stateless_forward\u001b[39m\u001b[34m(self, x, padding_mask)\u001b[39m\n\u001b[32m    767\u001b[39m         activations_logger.info(\n\u001b[32m    768\u001b[39m             \u001b[33mf\u001b[39m\u001b[33m\"\u001b[39m\u001b[33mpre block \u001b[39m\u001b[38;5;132;01m{\u001b[39;00mblock_idx\u001b[38;5;132;01m}\u001b[39;00m\u001b[33m activation_diff: \u001b[39m\u001b[38;5;132;01m{\u001b[39;00mactivation_diff.max()\u001b[38;5;132;01m}\u001b[39;00m\u001b[33m, \u001b[39m\u001b[38;5;132;01m{\u001b[39;00mactivation_diff.mean()\u001b[38;5;132;01m}\u001b[39;00m\u001b[33m\"\u001b[39m\n\u001b[32m    769\u001b[39m         )\n\u001b[32m    771\u001b[39m x = \u001b[38;5;28mself\u001b[39m.cross_device_transfer(x, block_idx)\n\u001b[32m--> \u001b[39m\u001b[32m772\u001b[39m x, _ = \u001b[43mblock\u001b[49m\u001b[43m(\u001b[49m\u001b[43mx\u001b[49m\u001b[43m,\u001b[49m\u001b[43m \u001b[49m\u001b[43minference_params\u001b[49m\u001b[43m=\u001b[49m\u001b[38;5;28;43;01mNone\u001b[39;49;00m\u001b[43m,\u001b[49m\u001b[43m \u001b[49m\u001b[43mpadding_mask\u001b[49m\u001b[43m=\u001b[49m\u001b[43mpadding_mask\u001b[49m\u001b[43m)\u001b[49m\n\u001b[32m    774\u001b[39m \u001b[38;5;28;01mif\u001b[39;00m \u001b[38;5;28mself\u001b[39m.print_activations:\n\u001b[32m    775\u001b[39m     activations_logger.info(\u001b[33mf\u001b[39m\u001b[33m\"\u001b[39m\u001b[33mpost block \u001b[39m\u001b[38;5;132;01m{\u001b[39;00mblock_idx\u001b[38;5;132;01m}\u001b[39;00m\u001b[33m: \u001b[39m\u001b[38;5;132;01m{\u001b[39;00mx\u001b[38;5;132;01m}\u001b[39;00m\u001b[33m, \u001b[39m\u001b[38;5;132;01m{\u001b[39;00mx.min()\u001b[38;5;132;01m}\u001b[39;00m\u001b[33m, \u001b[39m\u001b[38;5;132;01m{\u001b[39;00mx.max()\u001b[38;5;132;01m}\u001b[39;00m\u001b[33m\"\u001b[39m)\n",
      "\u001b[36mFile \u001b[39m\u001b[32m/opt/conda/envs/evo2/lib/python3.12/site-packages/torch/nn/modules/module.py:1751\u001b[39m, in \u001b[36mModule._wrapped_call_impl\u001b[39m\u001b[34m(self, *args, **kwargs)\u001b[39m\n\u001b[32m   1749\u001b[39m     \u001b[38;5;28;01mreturn\u001b[39;00m \u001b[38;5;28mself\u001b[39m._compiled_call_impl(*args, **kwargs)  \u001b[38;5;66;03m# type: ignore[misc]\u001b[39;00m\n\u001b[32m   1750\u001b[39m \u001b[38;5;28;01melse\u001b[39;00m:\n\u001b[32m-> \u001b[39m\u001b[32m1751\u001b[39m     \u001b[38;5;28;01mreturn\u001b[39;00m \u001b[38;5;28;43mself\u001b[39;49m\u001b[43m.\u001b[49m\u001b[43m_call_impl\u001b[49m\u001b[43m(\u001b[49m\u001b[43m*\u001b[49m\u001b[43margs\u001b[49m\u001b[43m,\u001b[49m\u001b[43m \u001b[49m\u001b[43m*\u001b[49m\u001b[43m*\u001b[49m\u001b[43mkwargs\u001b[49m\u001b[43m)\u001b[49m\n",
      "\u001b[36mFile \u001b[39m\u001b[32m/opt/conda/envs/evo2/lib/python3.12/site-packages/torch/nn/modules/module.py:1762\u001b[39m, in \u001b[36mModule._call_impl\u001b[39m\u001b[34m(self, *args, **kwargs)\u001b[39m\n\u001b[32m   1757\u001b[39m \u001b[38;5;66;03m# If we don't have any hooks, we want to skip the rest of the logic in\u001b[39;00m\n\u001b[32m   1758\u001b[39m \u001b[38;5;66;03m# this function, and just call forward.\u001b[39;00m\n\u001b[32m   1759\u001b[39m \u001b[38;5;28;01mif\u001b[39;00m \u001b[38;5;129;01mnot\u001b[39;00m (\u001b[38;5;28mself\u001b[39m._backward_hooks \u001b[38;5;129;01mor\u001b[39;00m \u001b[38;5;28mself\u001b[39m._backward_pre_hooks \u001b[38;5;129;01mor\u001b[39;00m \u001b[38;5;28mself\u001b[39m._forward_hooks \u001b[38;5;129;01mor\u001b[39;00m \u001b[38;5;28mself\u001b[39m._forward_pre_hooks\n\u001b[32m   1760\u001b[39m         \u001b[38;5;129;01mor\u001b[39;00m _global_backward_pre_hooks \u001b[38;5;129;01mor\u001b[39;00m _global_backward_hooks\n\u001b[32m   1761\u001b[39m         \u001b[38;5;129;01mor\u001b[39;00m _global_forward_hooks \u001b[38;5;129;01mor\u001b[39;00m _global_forward_pre_hooks):\n\u001b[32m-> \u001b[39m\u001b[32m1762\u001b[39m     \u001b[38;5;28;01mreturn\u001b[39;00m \u001b[43mforward_call\u001b[49m\u001b[43m(\u001b[49m\u001b[43m*\u001b[49m\u001b[43margs\u001b[49m\u001b[43m,\u001b[49m\u001b[43m \u001b[49m\u001b[43m*\u001b[49m\u001b[43m*\u001b[49m\u001b[43mkwargs\u001b[49m\u001b[43m)\u001b[49m\n\u001b[32m   1764\u001b[39m result = \u001b[38;5;28;01mNone\u001b[39;00m\n\u001b[32m   1765\u001b[39m called_always_called_hooks = \u001b[38;5;28mset\u001b[39m()\n",
      "\u001b[36mFile \u001b[39m\u001b[32m/opt/conda/envs/evo2/lib/python3.12/site-packages/vortex/model/model.py:534\u001b[39m, in \u001b[36mParallelGatedConvBlock.forward\u001b[39m\u001b[34m(self, u, inference_params, padding_mask, *args, **kwargs)\u001b[39m\n\u001b[32m    530\u001b[39m         activation_diff = (z - z_savanna.squeeze()).abs()\n\u001b[32m    531\u001b[39m         activations_logger.info(\n\u001b[32m    532\u001b[39m             \u001b[33mf\u001b[39m\u001b[33m\"\u001b[39m\u001b[33mpre filter activation_diff: \u001b[39m\u001b[38;5;132;01m{\u001b[39;00mactivation_diff.max()\u001b[38;5;132;01m}\u001b[39;00m\u001b[33m, \u001b[39m\u001b[38;5;132;01m{\u001b[39;00mactivation_diff.mean()\u001b[38;5;132;01m}\u001b[39;00m\u001b[33m\"\u001b[39m\n\u001b[32m    533\u001b[39m         )\n\u001b[32m--> \u001b[39m\u001b[32m534\u001b[39m z, inference_params = \u001b[38;5;28;43mself\u001b[39;49m\u001b[43m.\u001b[49m\u001b[43mfilter\u001b[49m\u001b[43m(\u001b[49m\u001b[43mz\u001b[49m\u001b[43m,\u001b[49m\u001b[43m \u001b[49m\u001b[43minference_params\u001b[49m\u001b[43m=\u001b[49m\u001b[43minference_params\u001b[49m\u001b[43m,\u001b[49m\u001b[43m \u001b[49m\u001b[43mpadding_mask\u001b[49m\u001b[43m=\u001b[49m\u001b[43mpadding_mask\u001b[49m\u001b[43m)\u001b[49m\n\u001b[32m    536\u001b[39m \u001b[38;5;28;01mif\u001b[39;00m \u001b[38;5;28mself\u001b[39m.print_activations:\n\u001b[32m    537\u001b[39m     activations_logger.info(\u001b[33mf\u001b[39m\u001b[33m\"\u001b[39m\u001b[33mpost postgate: \u001b[39m\u001b[38;5;132;01m{\u001b[39;00mz\u001b[38;5;132;01m}\u001b[39;00m\u001b[33m \u001b[39m\u001b[38;5;132;01m{\u001b[39;00mz.min()\u001b[38;5;132;01m}\u001b[39;00m\u001b[33m \u001b[39m\u001b[38;5;132;01m{\u001b[39;00mz.max()\u001b[38;5;132;01m}\u001b[39;00m\u001b[33m \u001b[39m\u001b[38;5;132;01m{\u001b[39;00m\u001b[38;5;28mself\u001b[39m.filter.\u001b[34m__class__\u001b[39m\u001b[38;5;132;01m}\u001b[39;00m\u001b[33m\"\u001b[39m)\n",
      "\u001b[36mFile \u001b[39m\u001b[32m/opt/conda/envs/evo2/lib/python3.12/site-packages/torch/nn/modules/module.py:1751\u001b[39m, in \u001b[36mModule._wrapped_call_impl\u001b[39m\u001b[34m(self, *args, **kwargs)\u001b[39m\n\u001b[32m   1749\u001b[39m     \u001b[38;5;28;01mreturn\u001b[39;00m \u001b[38;5;28mself\u001b[39m._compiled_call_impl(*args, **kwargs)  \u001b[38;5;66;03m# type: ignore[misc]\u001b[39;00m\n\u001b[32m   1750\u001b[39m \u001b[38;5;28;01melse\u001b[39;00m:\n\u001b[32m-> \u001b[39m\u001b[32m1751\u001b[39m     \u001b[38;5;28;01mreturn\u001b[39;00m \u001b[38;5;28;43mself\u001b[39;49m\u001b[43m.\u001b[49m\u001b[43m_call_impl\u001b[49m\u001b[43m(\u001b[49m\u001b[43m*\u001b[49m\u001b[43margs\u001b[49m\u001b[43m,\u001b[49m\u001b[43m \u001b[49m\u001b[43m*\u001b[49m\u001b[43m*\u001b[49m\u001b[43mkwargs\u001b[49m\u001b[43m)\u001b[49m\n",
      "\u001b[36mFile \u001b[39m\u001b[32m/opt/conda/envs/evo2/lib/python3.12/site-packages/torch/nn/modules/module.py:1762\u001b[39m, in \u001b[36mModule._call_impl\u001b[39m\u001b[34m(self, *args, **kwargs)\u001b[39m\n\u001b[32m   1757\u001b[39m \u001b[38;5;66;03m# If we don't have any hooks, we want to skip the rest of the logic in\u001b[39;00m\n\u001b[32m   1758\u001b[39m \u001b[38;5;66;03m# this function, and just call forward.\u001b[39;00m\n\u001b[32m   1759\u001b[39m \u001b[38;5;28;01mif\u001b[39;00m \u001b[38;5;129;01mnot\u001b[39;00m (\u001b[38;5;28mself\u001b[39m._backward_hooks \u001b[38;5;129;01mor\u001b[39;00m \u001b[38;5;28mself\u001b[39m._backward_pre_hooks \u001b[38;5;129;01mor\u001b[39;00m \u001b[38;5;28mself\u001b[39m._forward_hooks \u001b[38;5;129;01mor\u001b[39;00m \u001b[38;5;28mself\u001b[39m._forward_pre_hooks\n\u001b[32m   1760\u001b[39m         \u001b[38;5;129;01mor\u001b[39;00m _global_backward_pre_hooks \u001b[38;5;129;01mor\u001b[39;00m _global_backward_hooks\n\u001b[32m   1761\u001b[39m         \u001b[38;5;129;01mor\u001b[39;00m _global_forward_hooks \u001b[38;5;129;01mor\u001b[39;00m _global_forward_pre_hooks):\n\u001b[32m-> \u001b[39m\u001b[32m1762\u001b[39m     \u001b[38;5;28;01mreturn\u001b[39;00m \u001b[43mforward_call\u001b[49m\u001b[43m(\u001b[49m\u001b[43m*\u001b[49m\u001b[43margs\u001b[49m\u001b[43m,\u001b[49m\u001b[43m \u001b[49m\u001b[43m*\u001b[49m\u001b[43m*\u001b[49m\u001b[43mkwargs\u001b[49m\u001b[43m)\u001b[49m\n\u001b[32m   1764\u001b[39m result = \u001b[38;5;28;01mNone\u001b[39;00m\n\u001b[32m   1765\u001b[39m called_always_called_hooks = \u001b[38;5;28mset\u001b[39m()\n",
      "\u001b[36mFile \u001b[39m\u001b[32m/opt/conda/envs/evo2/lib/python3.12/site-packages/vortex/model/model.py:216\u001b[39m, in \u001b[36mHyenaCascade.forward\u001b[39m\u001b[34m(self, u, inference_params, padding_mask, *args, **kwargs)\u001b[39m\n\u001b[32m    213\u001b[39m     \u001b[38;5;28;01mreturn\u001b[39;00m \u001b[38;5;28mself\u001b[39m.sequential_forward(u, inference_params)\n\u001b[32m    215\u001b[39m \u001b[38;5;28;01melse\u001b[39;00m:\n\u001b[32m--> \u001b[39m\u001b[32m216\u001b[39m     \u001b[38;5;28;01mreturn\u001b[39;00m \u001b[38;5;28;43mself\u001b[39;49m\u001b[43m.\u001b[49m\u001b[43mparallel_forward\u001b[49m\u001b[43m(\u001b[49m\u001b[43mu\u001b[49m\u001b[43m,\u001b[49m\u001b[43m \u001b[49m\u001b[43minference_params\u001b[49m\u001b[43m,\u001b[49m\u001b[43m \u001b[49m\u001b[43mpadding_mask\u001b[49m\u001b[43m)\u001b[49m\n",
      "\u001b[36mFile \u001b[39m\u001b[32m/opt/conda/envs/evo2/lib/python3.12/site-packages/vortex/model/model.py:268\u001b[39m, in \u001b[36mHyenaCascade.parallel_forward\u001b[39m\u001b[34m(self, u, inference_params, padding_mask)\u001b[39m\n\u001b[32m    264\u001b[39m \u001b[38;5;28;01mif\u001b[39;00m \u001b[38;5;28mself\u001b[39m.print_activations:\n\u001b[32m    265\u001b[39m     activations_logger.info(\n\u001b[32m    266\u001b[39m         \u001b[33mf\u001b[39m\u001b[33m\"\u001b[39m\u001b[33mpre 2 parallel fir: \u001b[39m\u001b[38;5;132;01m{\u001b[39;00mz_pre\u001b[38;5;132;01m}\u001b[39;00m\u001b[33m, \u001b[39m\u001b[38;5;132;01m{\u001b[39;00mz_pre.min()\u001b[38;5;132;01m}\u001b[39;00m\u001b[33m, \u001b[39m\u001b[38;5;132;01m{\u001b[39;00mz_pre.max()\u001b[38;5;132;01m}\u001b[39;00m\u001b[33m, \u001b[39m\u001b[38;5;132;01m{\u001b[39;00m\u001b[38;5;28mself\u001b[39m.fir_inner_filter_length\u001b[38;5;132;01m}\u001b[39;00m\u001b[33m\"\u001b[39m\n\u001b[32m    267\u001b[39m     )\n\u001b[32m--> \u001b[39m\u001b[32m268\u001b[39m y, fir_inner_state = \u001b[38;5;28;43mself\u001b[39;49m\u001b[43m.\u001b[49m\u001b[43mengine\u001b[49m\u001b[43m.\u001b[49m\u001b[43mparallel_fir\u001b[49m\u001b[43m(\u001b[49m\n\u001b[32m    269\u001b[39m \u001b[43m    \u001b[49m\u001b[38;5;28;43mself\u001b[39;49m\u001b[43m.\u001b[49m\u001b[43mfir_inner_fn\u001b[49m\u001b[43m,\u001b[49m\n\u001b[32m    270\u001b[39m \u001b[43m    \u001b[49m\u001b[43mz_pre\u001b[49m\u001b[43m,\u001b[49m\n\u001b[32m    271\u001b[39m \u001b[43m    \u001b[49m\u001b[43mh\u001b[49m\u001b[43m,\u001b[49m\n\u001b[32m    272\u001b[39m \u001b[43m    \u001b[49m\u001b[43mD\u001b[49m\u001b[43m,\u001b[49m\n\u001b[32m    273\u001b[39m \u001b[43m    \u001b[49m\u001b[43mL\u001b[49m\u001b[43m,\u001b[49m\n\u001b[32m    274\u001b[39m \u001b[43m    \u001b[49m\u001b[43mdims\u001b[49m\u001b[43m=\u001b[49m\u001b[43mdims\u001b[49m\u001b[43m,\u001b[49m\n\u001b[32m    275\u001b[39m \u001b[43m    \u001b[49m\u001b[43mgate\u001b[49m\u001b[43m=\u001b[49m\u001b[38;5;28;43;01mTrue\u001b[39;49;00m\u001b[43m,\u001b[49m\n\u001b[32m    276\u001b[39m \u001b[43m    \u001b[49m\u001b[43mgated_bias\u001b[49m\u001b[43m=\u001b[49m\u001b[38;5;28;43mself\u001b[39;49m\u001b[43m.\u001b[49m\u001b[43mfir_inner_filter_length\u001b[49m\u001b[43m \u001b[49m\u001b[43m>\u001b[49m\u001b[43m=\u001b[49m\u001b[43m \u001b[49m\u001b[32;43m128\u001b[39;49m\u001b[43m,\u001b[49m\n\u001b[32m    277\u001b[39m \u001b[43m    \u001b[49m\u001b[43mdim_last\u001b[49m\u001b[43m=\u001b[49m\u001b[38;5;28;43;01mFalse\u001b[39;49;00m\u001b[43m,\u001b[49m\n\u001b[32m    278\u001b[39m \u001b[43m    \u001b[49m\u001b[43mcolumn_split_hyena\u001b[49m\u001b[43m=\u001b[49m\u001b[38;5;28;43mself\u001b[39;49m\u001b[43m.\u001b[49m\u001b[43mcolumn_split_hyena\u001b[49m\u001b[43m,\u001b[49m\n\u001b[32m    279\u001b[39m \u001b[43m    \u001b[49m\u001b[43mfir_length\u001b[49m\u001b[43m=\u001b[49m\u001b[38;5;28;43mself\u001b[39;49m\u001b[43m.\u001b[49m\u001b[43mfir_inner_filter_length\u001b[49m\u001b[43m,\u001b[49m\n\u001b[32m    280\u001b[39m \u001b[43m    \u001b[49m\u001b[43minference_params\u001b[49m\u001b[43m=\u001b[49m\u001b[43minference_params\u001b[49m\u001b[43m,\u001b[49m\n\u001b[32m    281\u001b[39m \u001b[43m    \u001b[49m\u001b[43mpadding_mask\u001b[49m\u001b[43m=\u001b[49m\u001b[43mpadding_mask\u001b[49m\u001b[43m,\u001b[49m\n\u001b[32m    282\u001b[39m \u001b[43m    \u001b[49m\u001b[43mgroups\u001b[49m\u001b[43m=\u001b[49m\u001b[38;5;28;43mself\u001b[39;49m\u001b[43m.\u001b[49m\u001b[43mhyena_filter_groups\u001b[49m\u001b[43m,\u001b[49m\n\u001b[32m    283\u001b[39m \u001b[43m\u001b[49m\u001b[43m)\u001b[49m\n\u001b[32m    284\u001b[39m \u001b[38;5;28;01mif\u001b[39;00m \u001b[38;5;28mself\u001b[39m.print_activations:\n\u001b[32m    285\u001b[39m     activations_logger.info(\u001b[33mf\u001b[39m\u001b[33m\"\u001b[39m\u001b[33mpost 2 parallel fir: \u001b[39m\u001b[38;5;132;01m{\u001b[39;00my\u001b[38;5;132;01m}\u001b[39;00m\u001b[33m, \u001b[39m\u001b[38;5;132;01m{\u001b[39;00my.min()\u001b[38;5;132;01m}\u001b[39;00m\u001b[33m, \u001b[39m\u001b[38;5;132;01m{\u001b[39;00my.max()\u001b[38;5;132;01m}\u001b[39;00m\u001b[33m\"\u001b[39m)\n",
      "\u001b[36mFile \u001b[39m\u001b[32m/opt/conda/envs/evo2/lib/python3.12/site-packages/vortex/model/engine.py:176\u001b[39m, in \u001b[36mHyenaInferenceEngine.parallel_fir\u001b[39m\u001b[34m(self, fir_fn, u, weight, bias, L, dims, groups, gated_bias, column_split_hyena, dim_last, fir_length, gate, inference_params, prefill_mode, padding_mask)\u001b[39m\n\u001b[32m    174\u001b[39m \u001b[38;5;28;01melif\u001b[39;00m fir_length >= \u001b[32m128\u001b[39m:\n\u001b[32m    175\u001b[39m     \u001b[38;5;28;01mwith\u001b[39;00m torch.autocast(\u001b[33m\"\u001b[39m\u001b[33mcuda\u001b[39m\u001b[33m\"\u001b[39m):\n\u001b[32m--> \u001b[39m\u001b[32m176\u001b[39m         z = \u001b[43mfftconv_func\u001b[49m\u001b[43m(\u001b[49m\n\u001b[32m    177\u001b[39m \u001b[43m            \u001b[49m\u001b[43mu\u001b[49m\u001b[43m.\u001b[49m\u001b[43mto\u001b[49m\u001b[43m(\u001b[49m\u001b[43mtorch\u001b[49m\u001b[43m.\u001b[49m\u001b[43mfloat32\u001b[49m\u001b[43m)\u001b[49m\u001b[43m,\u001b[49m\n\u001b[32m    178\u001b[39m \u001b[43m            \u001b[49m\u001b[43mweight\u001b[49m\u001b[43m[\u001b[49m\u001b[43m:\u001b[49m\u001b[43m,\u001b[49m\u001b[43m \u001b[49m\u001b[43m:\u001b[49m\u001b[43m,\u001b[49m\u001b[43m \u001b[49m\u001b[43m:\u001b[49m\u001b[43mL\u001b[49m\u001b[43m]\u001b[49m\u001b[43m.\u001b[49m\u001b[43mto\u001b[49m\u001b[43m(\u001b[49m\u001b[43mtorch\u001b[49m\u001b[43m.\u001b[49m\u001b[43mfloat32\u001b[49m\u001b[43m)\u001b[49m\u001b[43m,\u001b[49m\n\u001b[32m    179\u001b[39m \u001b[43m            \u001b[49m\u001b[43mbias\u001b[49m\u001b[43m,\u001b[49m\n\u001b[32m    180\u001b[39m \u001b[43m            \u001b[49m\u001b[38;5;28;43;01mNone\u001b[39;49;00m\u001b[43m,\u001b[49m\n\u001b[32m    181\u001b[39m \u001b[43m            \u001b[49m\u001b[43mgelu\u001b[49m\u001b[43m=\u001b[49m\u001b[38;5;28;43;01mFalse\u001b[39;49;00m\u001b[43m,\u001b[49m\n\u001b[32m    182\u001b[39m \u001b[43m            \u001b[49m\u001b[43mbidirectional\u001b[49m\u001b[43m=\u001b[49m\u001b[38;5;28;43;01mFalse\u001b[39;49;00m\u001b[43m,\u001b[49m\n\u001b[32m    183\u001b[39m \u001b[43m            \u001b[49m\u001b[43mprint_activations\u001b[49m\u001b[43m=\u001b[49m\u001b[38;5;28;43mself\u001b[39;49m\u001b[43m.\u001b[49m\u001b[43mprint_activations\u001b[49m\u001b[43m,\u001b[49m\n\u001b[32m    184\u001b[39m \u001b[43m            \u001b[49m\u001b[43mgroups\u001b[49m\u001b[43m=\u001b[49m\u001b[43mgroups\u001b[49m\u001b[43m,\u001b[49m\n\u001b[32m    185\u001b[39m \u001b[43m            \u001b[49m\u001b[43mlayer_idx\u001b[49m\u001b[43m=\u001b[49m\u001b[38;5;28;43mself\u001b[39;49m\u001b[43m.\u001b[49m\u001b[43mlayer_idx\u001b[49m\u001b[43m,\u001b[49m\n\u001b[32m    186\u001b[39m \u001b[43m        \u001b[49m\u001b[43m)\u001b[49m\n\u001b[32m    187\u001b[39m         z = z.to(u.dtype)\n\u001b[32m    188\u001b[39m \u001b[38;5;28;01melse\u001b[39;00m:\n",
      "\u001b[36mFile \u001b[39m\u001b[32m/opt/conda/envs/evo2/lib/python3.12/site-packages/vortex/model/engine.py:53\u001b[39m, in \u001b[36mfftconv_func\u001b[39m\u001b[34m(u, k, D, dropout_mask, gelu, k_rev, bidirectional, print_activations, layer_idx, **kwargs)\u001b[39m\n\u001b[32m     50\u001b[39m seqlen = u.shape[-\u001b[32m1\u001b[39m]\n\u001b[32m     51\u001b[39m fft_size = \u001b[32m2\u001b[39m * seqlen\n\u001b[32m---> \u001b[39m\u001b[32m53\u001b[39m k_f = \u001b[43mtorch\u001b[49m\u001b[43m.\u001b[49m\u001b[43mfft\u001b[49m\u001b[43m.\u001b[49m\u001b[43mrfft\u001b[49m\u001b[43m(\u001b[49m\u001b[43mk\u001b[49m\u001b[43m,\u001b[49m\u001b[43m \u001b[49m\u001b[43mn\u001b[49m\u001b[43m=\u001b[49m\u001b[43mfft_size\u001b[49m\u001b[43m)\u001b[49m / fft_size\n\u001b[32m     54\u001b[39m k_f = adjust_filter_shape_for_broadcast(u, k_f)\n\u001b[32m     55\u001b[39m k = k.squeeze()\n",
      "\u001b[31mOutOfMemoryError\u001b[39m: CUDA out of memory. Tried to allocate 15.41 GiB. GPU 0 has a total capacity of 44.52 GiB of which 7.93 GiB is free. Process 400437 has 36.58 GiB memory in use. Of the allocated memory 26.84 GiB is allocated by PyTorch, and 9.23 GiB is reserved by PyTorch but unallocated. If reserved but unallocated memory is large try setting PYTORCH_CUDA_ALLOC_CONF=expandable_segments:True to avoid fragmentation.  See documentation for Memory Management  (https://pytorch.org/docs/stable/notes/cuda.html#environment-variables)"
     ]
    }
   ],
   "source": [
    "# Get features and plot over a 100kb chunk of the E. coli str. K-12 substr. MG1655 genome, recreating part of the main and supplementary figures\n",
    "# Download from NCBI: https://www.ncbi.nlm.nih.gov/nuccore/556503834\n",
    "genbank_file_path = './NC_000913.gb'\n",
    "start_pos = 4130000\n",
    "end_pos = 4230000\n",
    "selected_features = [13606, 26069, 30262, 2812, 15680, 11734, 24568, 15481]\n",
    "\n",
    "# Load GenBank and get features\n",
    "records = list(SeqIO.parse(genbank_file_path, \"genbank\"))\n",
    "sequence = extract_sequence(genbank_file_path, start_pos, end_pos)\n",
    "annotations = find_relevant_gb_annotations(records, start_pos, end_pos - start_pos)\n",
    "feature_ts = get_feature_ts(topk_sae, sequence)\n",
    "\n",
    "# Plot selected features with genbank annotations visualized as well\n",
    "fig, axes = plt.subplots(len(selected_features), 1,  figsize=(40, len(selected_features)), sharex=True)\n",
    "for i, feature_id in enumerate(selected_features):\n",
    "    axes[i].plot(feature_ts[:, feature_id], lw=0.5, label=f\"feature {feature_id}\", alpha=0.9)\n",
    "    for start, end, feature_type, _ in annotations:\n",
    "        axes[i].axvspan(start, end, color=ANNOTATION_COLORS.get(feature_type, 'black'), alpha=0.2)\n",
    "    axes[i].set_xlim(0, feature_ts.shape[0])\n",
    "    axes[i].set_yticks([0, 5])\n",
    "    axes[i].legend()\n",
    "plt.show()"
   ]
  },
  {
   "cell_type": "code",
   "execution_count": null,
   "id": "e9ba8b97-81c1-43b1-85b8-f4cc507f79b6",
   "metadata": {},
   "outputs": [],
   "source": []
  }
 ],
 "metadata": {
  "kernelspec": {
   "display_name": "evo2",
   "language": "python",
   "name": "python3"
  },
  "language_info": {
   "codemirror_mode": {
    "name": "ipython",
    "version": 3
   },
   "file_extension": ".py",
   "mimetype": "text/x-python",
   "name": "python",
   "nbconvert_exporter": "python",
   "pygments_lexer": "ipython3",
   "version": "3.12.11"
  }
 },
 "nbformat": 4,
 "nbformat_minor": 5
}
